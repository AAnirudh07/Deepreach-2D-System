{
  "nbformat": 4,
  "nbformat_minor": 0,
  "metadata": {
    "colab": {
      "provenance": [],
      "gpuType": "T4"
    },
    "kernelspec": {
      "name": "python3",
      "display_name": "Python 3"
    },
    "language_info": {
      "name": "python"
    },
    "accelerator": "GPU"
  },
  "cells": [
    {
      "cell_type": "markdown",
      "source": [
        "### 1. Install Dependencies"
      ],
      "metadata": {
        "id": "-dJSa8SGA3qE"
      }
    },
    {
      "cell_type": "code",
      "execution_count": 1,
      "metadata": {
        "colab": {
          "base_uri": "https://localhost:8080/"
        },
        "id": "jO7q9J3U__wn",
        "outputId": "d949f8ee-f172-4d30-9160-b871d82af46b"
      },
      "outputs": [
        {
          "output_type": "stream",
          "name": "stdout",
          "text": [
            "Collecting configargparse\n",
            "  Downloading ConfigArgParse-1.7-py3-none-any.whl.metadata (23 kB)\n",
            "Downloading ConfigArgParse-1.7-py3-none-any.whl (25 kB)\n",
            "Installing collected packages: configargparse\n",
            "Successfully installed configargparse-1.7\n"
          ]
        }
      ],
      "source": [
        "! pip install configargparse"
      ]
    },
    {
      "cell_type": "code",
      "source": [
        "! pip install torch torchvision torchaudio"
      ],
      "metadata": {
        "colab": {
          "base_uri": "https://localhost:8080/"
        },
        "id": "XR_iiXcpA836",
        "outputId": "769428e7-47d3-44fe-d8ad-076533153c7b"
      },
      "execution_count": 2,
      "outputs": [
        {
          "output_type": "stream",
          "name": "stdout",
          "text": [
            "Requirement already satisfied: torch in /usr/local/lib/python3.11/dist-packages (2.6.0+cu124)\n",
            "Requirement already satisfied: torchvision in /usr/local/lib/python3.11/dist-packages (0.21.0+cu124)\n",
            "Requirement already satisfied: torchaudio in /usr/local/lib/python3.11/dist-packages (2.6.0+cu124)\n",
            "Requirement already satisfied: filelock in /usr/local/lib/python3.11/dist-packages (from torch) (3.18.0)\n",
            "Requirement already satisfied: typing-extensions>=4.10.0 in /usr/local/lib/python3.11/dist-packages (from torch) (4.13.2)\n",
            "Requirement already satisfied: networkx in /usr/local/lib/python3.11/dist-packages (from torch) (3.4.2)\n",
            "Requirement already satisfied: jinja2 in /usr/local/lib/python3.11/dist-packages (from torch) (3.1.6)\n",
            "Requirement already satisfied: fsspec in /usr/local/lib/python3.11/dist-packages (from torch) (2025.3.2)\n",
            "Collecting nvidia-cuda-nvrtc-cu12==12.4.127 (from torch)\n",
            "  Downloading nvidia_cuda_nvrtc_cu12-12.4.127-py3-none-manylinux2014_x86_64.whl.metadata (1.5 kB)\n",
            "Collecting nvidia-cuda-runtime-cu12==12.4.127 (from torch)\n",
            "  Downloading nvidia_cuda_runtime_cu12-12.4.127-py3-none-manylinux2014_x86_64.whl.metadata (1.5 kB)\n",
            "Collecting nvidia-cuda-cupti-cu12==12.4.127 (from torch)\n",
            "  Downloading nvidia_cuda_cupti_cu12-12.4.127-py3-none-manylinux2014_x86_64.whl.metadata (1.6 kB)\n",
            "Collecting nvidia-cudnn-cu12==9.1.0.70 (from torch)\n",
            "  Downloading nvidia_cudnn_cu12-9.1.0.70-py3-none-manylinux2014_x86_64.whl.metadata (1.6 kB)\n",
            "Collecting nvidia-cublas-cu12==12.4.5.8 (from torch)\n",
            "  Downloading nvidia_cublas_cu12-12.4.5.8-py3-none-manylinux2014_x86_64.whl.metadata (1.5 kB)\n",
            "Collecting nvidia-cufft-cu12==11.2.1.3 (from torch)\n",
            "  Downloading nvidia_cufft_cu12-11.2.1.3-py3-none-manylinux2014_x86_64.whl.metadata (1.5 kB)\n",
            "Collecting nvidia-curand-cu12==10.3.5.147 (from torch)\n",
            "  Downloading nvidia_curand_cu12-10.3.5.147-py3-none-manylinux2014_x86_64.whl.metadata (1.5 kB)\n",
            "Collecting nvidia-cusolver-cu12==11.6.1.9 (from torch)\n",
            "  Downloading nvidia_cusolver_cu12-11.6.1.9-py3-none-manylinux2014_x86_64.whl.metadata (1.6 kB)\n",
            "Collecting nvidia-cusparse-cu12==12.3.1.170 (from torch)\n",
            "  Downloading nvidia_cusparse_cu12-12.3.1.170-py3-none-manylinux2014_x86_64.whl.metadata (1.6 kB)\n",
            "Requirement already satisfied: nvidia-cusparselt-cu12==0.6.2 in /usr/local/lib/python3.11/dist-packages (from torch) (0.6.2)\n",
            "Requirement already satisfied: nvidia-nccl-cu12==2.21.5 in /usr/local/lib/python3.11/dist-packages (from torch) (2.21.5)\n",
            "Requirement already satisfied: nvidia-nvtx-cu12==12.4.127 in /usr/local/lib/python3.11/dist-packages (from torch) (12.4.127)\n",
            "Collecting nvidia-nvjitlink-cu12==12.4.127 (from torch)\n",
            "  Downloading nvidia_nvjitlink_cu12-12.4.127-py3-none-manylinux2014_x86_64.whl.metadata (1.5 kB)\n",
            "Requirement already satisfied: triton==3.2.0 in /usr/local/lib/python3.11/dist-packages (from torch) (3.2.0)\n",
            "Requirement already satisfied: sympy==1.13.1 in /usr/local/lib/python3.11/dist-packages (from torch) (1.13.1)\n",
            "Requirement already satisfied: mpmath<1.4,>=1.1.0 in /usr/local/lib/python3.11/dist-packages (from sympy==1.13.1->torch) (1.3.0)\n",
            "Requirement already satisfied: numpy in /usr/local/lib/python3.11/dist-packages (from torchvision) (2.0.2)\n",
            "Requirement already satisfied: pillow!=8.3.*,>=5.3.0 in /usr/local/lib/python3.11/dist-packages (from torchvision) (11.1.0)\n",
            "Requirement already satisfied: MarkupSafe>=2.0 in /usr/local/lib/python3.11/dist-packages (from jinja2->torch) (3.0.2)\n",
            "Downloading nvidia_cublas_cu12-12.4.5.8-py3-none-manylinux2014_x86_64.whl (363.4 MB)\n",
            "\u001b[2K   \u001b[90m━━━━━━━━━━━━━━━━━━━━━━━━━━━━━━━━━━━━━━━━\u001b[0m \u001b[32m363.4/363.4 MB\u001b[0m \u001b[31m4.3 MB/s\u001b[0m eta \u001b[36m0:00:00\u001b[0m\n",
            "\u001b[?25hDownloading nvidia_cuda_cupti_cu12-12.4.127-py3-none-manylinux2014_x86_64.whl (13.8 MB)\n",
            "\u001b[2K   \u001b[90m━━━━━━━━━━━━━━━━━━━━━━━━━━━━━━━━━━━━━━━━\u001b[0m \u001b[32m13.8/13.8 MB\u001b[0m \u001b[31m70.2 MB/s\u001b[0m eta \u001b[36m0:00:00\u001b[0m\n",
            "\u001b[?25hDownloading nvidia_cuda_nvrtc_cu12-12.4.127-py3-none-manylinux2014_x86_64.whl (24.6 MB)\n",
            "\u001b[2K   \u001b[90m━━━━━━━━━━━━━━━━━━━━━━━━━━━━━━━━━━━━━━━━\u001b[0m \u001b[32m24.6/24.6 MB\u001b[0m \u001b[31m45.1 MB/s\u001b[0m eta \u001b[36m0:00:00\u001b[0m\n",
            "\u001b[?25hDownloading nvidia_cuda_runtime_cu12-12.4.127-py3-none-manylinux2014_x86_64.whl (883 kB)\n",
            "\u001b[2K   \u001b[90m━━━━━━━━━━━━━━━━━━━━━━━━━━━━━━━━━━━━━━━━\u001b[0m \u001b[32m883.7/883.7 kB\u001b[0m \u001b[31m45.2 MB/s\u001b[0m eta \u001b[36m0:00:00\u001b[0m\n",
            "\u001b[?25hDownloading nvidia_cudnn_cu12-9.1.0.70-py3-none-manylinux2014_x86_64.whl (664.8 MB)\n",
            "\u001b[2K   \u001b[90m━━━━━━━━━━━━━━━━━━━━━━━━━━━━━━━━━━━━━━━━\u001b[0m \u001b[32m664.8/664.8 MB\u001b[0m \u001b[31m2.0 MB/s\u001b[0m eta \u001b[36m0:00:00\u001b[0m\n",
            "\u001b[?25hDownloading nvidia_cufft_cu12-11.2.1.3-py3-none-manylinux2014_x86_64.whl (211.5 MB)\n",
            "\u001b[2K   \u001b[90m━━━━━━━━━━━━━━━━━━━━━━━━━━━━━━━━━━━━━━━━\u001b[0m \u001b[32m211.5/211.5 MB\u001b[0m \u001b[31m6.5 MB/s\u001b[0m eta \u001b[36m0:00:00\u001b[0m\n",
            "\u001b[?25hDownloading nvidia_curand_cu12-10.3.5.147-py3-none-manylinux2014_x86_64.whl (56.3 MB)\n",
            "\u001b[2K   \u001b[90m━━━━━━━━━━━━━━━━━━━━━━━━━━━━━━━━━━━━━━━━\u001b[0m \u001b[32m56.3/56.3 MB\u001b[0m \u001b[31m13.2 MB/s\u001b[0m eta \u001b[36m0:00:00\u001b[0m\n",
            "\u001b[?25hDownloading nvidia_cusolver_cu12-11.6.1.9-py3-none-manylinux2014_x86_64.whl (127.9 MB)\n",
            "\u001b[2K   \u001b[90m━━━━━━━━━━━━━━━━━━━━━━━━━━━━━━━━━━━━━━━━\u001b[0m \u001b[32m127.9/127.9 MB\u001b[0m \u001b[31m7.6 MB/s\u001b[0m eta \u001b[36m0:00:00\u001b[0m\n",
            "\u001b[?25hDownloading nvidia_cusparse_cu12-12.3.1.170-py3-none-manylinux2014_x86_64.whl (207.5 MB)\n",
            "\u001b[2K   \u001b[90m━━━━━━━━━━━━━━━━━━━━━━━━━━━━━━━━━━━━━━━━\u001b[0m \u001b[32m207.5/207.5 MB\u001b[0m \u001b[31m5.6 MB/s\u001b[0m eta \u001b[36m0:00:00\u001b[0m\n",
            "\u001b[?25hDownloading nvidia_nvjitlink_cu12-12.4.127-py3-none-manylinux2014_x86_64.whl (21.1 MB)\n",
            "\u001b[2K   \u001b[90m━━━━━━━━━━━━━━━━━━━━━━━━━━━━━━━━━━━━━━━━\u001b[0m \u001b[32m21.1/21.1 MB\u001b[0m \u001b[31m107.9 MB/s\u001b[0m eta \u001b[36m0:00:00\u001b[0m\n",
            "\u001b[?25hInstalling collected packages: nvidia-nvjitlink-cu12, nvidia-curand-cu12, nvidia-cufft-cu12, nvidia-cuda-runtime-cu12, nvidia-cuda-nvrtc-cu12, nvidia-cuda-cupti-cu12, nvidia-cublas-cu12, nvidia-cusparse-cu12, nvidia-cudnn-cu12, nvidia-cusolver-cu12\n",
            "  Attempting uninstall: nvidia-nvjitlink-cu12\n",
            "    Found existing installation: nvidia-nvjitlink-cu12 12.5.82\n",
            "    Uninstalling nvidia-nvjitlink-cu12-12.5.82:\n",
            "      Successfully uninstalled nvidia-nvjitlink-cu12-12.5.82\n",
            "  Attempting uninstall: nvidia-curand-cu12\n",
            "    Found existing installation: nvidia-curand-cu12 10.3.6.82\n",
            "    Uninstalling nvidia-curand-cu12-10.3.6.82:\n",
            "      Successfully uninstalled nvidia-curand-cu12-10.3.6.82\n",
            "  Attempting uninstall: nvidia-cufft-cu12\n",
            "    Found existing installation: nvidia-cufft-cu12 11.2.3.61\n",
            "    Uninstalling nvidia-cufft-cu12-11.2.3.61:\n",
            "      Successfully uninstalled nvidia-cufft-cu12-11.2.3.61\n",
            "  Attempting uninstall: nvidia-cuda-runtime-cu12\n",
            "    Found existing installation: nvidia-cuda-runtime-cu12 12.5.82\n",
            "    Uninstalling nvidia-cuda-runtime-cu12-12.5.82:\n",
            "      Successfully uninstalled nvidia-cuda-runtime-cu12-12.5.82\n",
            "  Attempting uninstall: nvidia-cuda-nvrtc-cu12\n",
            "    Found existing installation: nvidia-cuda-nvrtc-cu12 12.5.82\n",
            "    Uninstalling nvidia-cuda-nvrtc-cu12-12.5.82:\n",
            "      Successfully uninstalled nvidia-cuda-nvrtc-cu12-12.5.82\n",
            "  Attempting uninstall: nvidia-cuda-cupti-cu12\n",
            "    Found existing installation: nvidia-cuda-cupti-cu12 12.5.82\n",
            "    Uninstalling nvidia-cuda-cupti-cu12-12.5.82:\n",
            "      Successfully uninstalled nvidia-cuda-cupti-cu12-12.5.82\n",
            "  Attempting uninstall: nvidia-cublas-cu12\n",
            "    Found existing installation: nvidia-cublas-cu12 12.5.3.2\n",
            "    Uninstalling nvidia-cublas-cu12-12.5.3.2:\n",
            "      Successfully uninstalled nvidia-cublas-cu12-12.5.3.2\n",
            "  Attempting uninstall: nvidia-cusparse-cu12\n",
            "    Found existing installation: nvidia-cusparse-cu12 12.5.1.3\n",
            "    Uninstalling nvidia-cusparse-cu12-12.5.1.3:\n",
            "      Successfully uninstalled nvidia-cusparse-cu12-12.5.1.3\n",
            "  Attempting uninstall: nvidia-cudnn-cu12\n",
            "    Found existing installation: nvidia-cudnn-cu12 9.3.0.75\n",
            "    Uninstalling nvidia-cudnn-cu12-9.3.0.75:\n",
            "      Successfully uninstalled nvidia-cudnn-cu12-9.3.0.75\n",
            "  Attempting uninstall: nvidia-cusolver-cu12\n",
            "    Found existing installation: nvidia-cusolver-cu12 11.6.3.83\n",
            "    Uninstalling nvidia-cusolver-cu12-11.6.3.83:\n",
            "      Successfully uninstalled nvidia-cusolver-cu12-11.6.3.83\n",
            "Successfully installed nvidia-cublas-cu12-12.4.5.8 nvidia-cuda-cupti-cu12-12.4.127 nvidia-cuda-nvrtc-cu12-12.4.127 nvidia-cuda-runtime-cu12-12.4.127 nvidia-cudnn-cu12-9.1.0.70 nvidia-cufft-cu12-11.2.1.3 nvidia-curand-cu12-10.3.5.147 nvidia-cusolver-cu12-11.6.1.9 nvidia-cusparse-cu12-12.3.1.170 nvidia-nvjitlink-cu12-12.4.127\n"
          ]
        }
      ]
    },
    {
      "cell_type": "markdown",
      "source": [
        "### 2. Imports"
      ],
      "metadata": {
        "id": "87VPetxvCQlj"
      }
    },
    {
      "cell_type": "code",
      "source": [
        "import os\n",
        "import shutil\n",
        "import time\n",
        "from datetime import datetime\n",
        "import pickle\n",
        "from google.colab import drive\n",
        "\n",
        "from abc import ABC, abstractmethod\n",
        "from collections import OrderedDict\n",
        "\n",
        "import math\n",
        "import random\n",
        "import numpy as np\n",
        "\n",
        "import torch\n",
        "from torch.utils.data import Dataset\n",
        "from torch.autograd import grad\n",
        "from torch.utils.data import DataLoader\n",
        "from torch.utils.tensorboard import SummaryWriter\n",
        "from torch import nn\n",
        "\n",
        "import wandb\n",
        "\n",
        "import matplotlib\n",
        "import matplotlib.pyplot as plt\n",
        "import plotly.express as px\n",
        "import scipy.io as spio\n",
        "\n",
        "from tqdm.autonotebook import tqdm\n",
        "from sklearn import svm\n",
        "\n",
        "import configargparse"
      ],
      "metadata": {
        "colab": {
          "base_uri": "https://localhost:8080/"
        },
        "id": "cmFWEDFvCUU5",
        "outputId": "570bd3a8-fc84-4ed7-9402-4ef517951027"
      },
      "execution_count": 3,
      "outputs": [
        {
          "output_type": "stream",
          "name": "stderr",
          "text": [
            "<ipython-input-3-7866da687f05>:29: TqdmExperimentalWarning: Using `tqdm.autonotebook.tqdm` in notebook mode. Use `tqdm.tqdm` instead to force console mode (e.g. in jupyter console)\n",
            "  from tqdm.autonotebook import tqdm\n"
          ]
        }
      ]
    },
    {
      "cell_type": "code",
      "source": [
        "torch.cuda.is_available()"
      ],
      "metadata": {
        "colab": {
          "base_uri": "https://localhost:8080/"
        },
        "id": "6vS_tv_hGREd",
        "outputId": "11b176e7-ca88-4043-9fb9-c854b0401e1e"
      },
      "execution_count": 4,
      "outputs": [
        {
          "output_type": "execute_result",
          "data": {
            "text/plain": [
              "True"
            ]
          },
          "metadata": {},
          "execution_count": 4
        }
      ]
    },
    {
      "cell_type": "markdown",
      "source": [
        "### 3. Connect to Google Drive"
      ],
      "metadata": {
        "id": "pviCCyEBCXEU"
      }
    },
    {
      "cell_type": "code",
      "source": [
        "drive.mount(\"/content/drive\",force_remount=True)\n",
        "os.chdir(\"/content/drive/My Drive\")"
      ],
      "metadata": {
        "colab": {
          "base_uri": "https://localhost:8080/"
        },
        "id": "d4rMTeMoDBUE",
        "outputId": "316ccfb3-b11e-4f8a-bddd-b184c0de1b11"
      },
      "execution_count": 5,
      "outputs": [
        {
          "output_type": "stream",
          "name": "stdout",
          "text": [
            "Mounted at /content/drive\n"
          ]
        }
      ]
    },
    {
      "cell_type": "markdown",
      "source": [
        "### 4. Utils Code"
      ],
      "metadata": {
        "id": "0Qvuw3VGCaVW"
      }
    },
    {
      "cell_type": "code",
      "source": [
        "# uses model input and real boundary fn\n",
        "class ReachabilityDataset(Dataset):\n",
        "    def __init__(self, dynamics, numpoints, pretrain, pretrain_iters, tMin, tMax, counter_start, counter_end, num_src_samples, num_target_samples):\n",
        "        self.dynamics = dynamics\n",
        "        self.numpoints = numpoints\n",
        "        self.pretrain = pretrain\n",
        "        self.pretrain_counter = 0\n",
        "        self.pretrain_iters = pretrain_iters\n",
        "        self.tMin = tMin\n",
        "        self.tMax = tMax\n",
        "        self.counter = counter_start\n",
        "        self.counter_end = counter_end\n",
        "        self.num_src_samples = num_src_samples\n",
        "        self.num_target_samples = num_target_samples\n",
        "\n",
        "    def __len__(self):\n",
        "        return 1\n",
        "\n",
        "    def __getitem__(self, idx):\n",
        "        # uniformly sample domain and include coordinates where source is non-zero\n",
        "        model_states = torch.zeros(self.numpoints, self.dynamics.state_dim).uniform_(-1, 1)\n",
        "        if self.num_target_samples > 0:\n",
        "            target_state_samples = self.dynamics.sample_target_state(self.num_target_samples)\n",
        "            model_states[-self.num_target_samples:] = self.dynamics.coord_to_input(torch.cat((torch.zeros(self.num_target_samples, 1), target_state_samples), dim=-1))[:, 1:self.dynamics.state_dim+1]\n",
        "\n",
        "        if self.pretrain:\n",
        "            # only sample in time around the initial condition\n",
        "            times = torch.full((self.numpoints, 1), self.tMin)\n",
        "        else:\n",
        "            # slowly grow time values from start time\n",
        "            times = self.tMin + torch.zeros(self.numpoints, 1).uniform_(0, (self.tMax-self.tMin) * (self.counter / self.counter_end))\n",
        "            # make sure we always have training samples at the initial time\n",
        "            times[-self.num_src_samples:, 0] = self.tMin\n",
        "        model_coords = torch.cat((times, model_states), dim=1)\n",
        "        if self.dynamics.input_dim > self.dynamics.state_dim + 1: # temporary workaround for having to deal with dynamics classes for parametrized models with extra inputs\n",
        "            model_coords = torch.cat((model_coords, torch.zeros(self.numpoints, self.dynamics.input_dim - self.dynamics.state_dim - 1)), dim=1)\n",
        "\n",
        "        boundary_values = self.dynamics.boundary_fn(self.dynamics.input_to_coord(model_coords)[..., 1:])\n",
        "        if self.dynamics.loss_type == 'brat_hjivi':\n",
        "            reach_values = self.dynamics.reach_fn(self.dynamics.input_to_coord(model_coords)[..., 1:])\n",
        "            avoid_values = self.dynamics.avoid_fn(self.dynamics.input_to_coord(model_coords)[..., 1:])\n",
        "\n",
        "        if self.pretrain:\n",
        "            dirichlet_masks = torch.ones(model_coords.shape[0]) > 0\n",
        "        else:\n",
        "            # only enforce initial conditions around self.tMin\n",
        "            dirichlet_masks = (model_coords[:, 0] == self.tMin)\n",
        "\n",
        "        if self.pretrain:\n",
        "            self.pretrain_counter += 1\n",
        "        elif self.counter < self.counter_end:\n",
        "            self.counter += 1\n",
        "\n",
        "        if self.pretrain and self.pretrain_counter == self.pretrain_iters:\n",
        "            self.pretrain = False\n",
        "\n",
        "        if self.dynamics.loss_type == 'brt_hjivi':\n",
        "            return {'model_coords': model_coords}, {'boundary_values': boundary_values, 'dirichlet_masks': dirichlet_masks}\n",
        "        elif self.dynamics.loss_type == 'brat_hjivi':\n",
        "            return {'model_coords': model_coords}, {'boundary_values': boundary_values, 'reach_values': reach_values, 'avoid_values': avoid_values, 'dirichlet_masks': dirichlet_masks}\n",
        "        else:\n",
        "            raise NotImplementedError"
      ],
      "metadata": {
        "id": "9hX0elicCcHU"
      },
      "execution_count": 6,
      "outputs": []
    },
    {
      "cell_type": "code",
      "source": [
        "# TODO: I don't think jacobian is needed here; torch.autograd.grad should be enough, to compute gradients of a scalar value function w.r.t. inputs\n",
        "\n",
        "# batched jacobian\n",
        "# y: [..., N], x: [..., M] -> [..., N, M]\n",
        "def jacobian(y, x):\n",
        "    ''' jacobian of y wrt x '''\n",
        "    jac = torch.zeros(*y.shape, x.shape[-1]).to(y.device)\n",
        "    for i in range(y.shape[-1]):\n",
        "        # calculate dydx over batches for each feature value of y\n",
        "        y_flat = y[...,i].view(-1, 1)\n",
        "        jac[..., i, :] = grad(y_flat, x, torch.ones_like(y_flat), create_graph=True)[0]\n",
        "\n",
        "    status = 0\n",
        "    if torch.any(torch.isnan(jac)):\n",
        "        status = -1\n",
        "\n",
        "    return jac, status"
      ],
      "metadata": {
        "id": "TnNOsIvlClMZ"
      },
      "execution_count": 7,
      "outputs": []
    },
    {
      "cell_type": "code",
      "source": [
        "class Validator(ABC):\n",
        "    @abstractmethod\n",
        "    def validate(self, coords, values):\n",
        "        raise NotImplementedError\n",
        "\n",
        "class ValueThresholdValidator(Validator):\n",
        "    def __init__(self, v_min, v_max):\n",
        "        self.v_min = v_min\n",
        "        self.v_max = v_max\n",
        "\n",
        "    def validate(self, coords, values):\n",
        "        return (values >= self.v_min)*(values <= self.v_max)\n",
        "\n",
        "class MLPValidator(Validator):\n",
        "    def __init__(self, device, mlp, o_min, o_max, model, dynamics):\n",
        "        self.device = device\n",
        "        self.mlp = mlp\n",
        "        self.o_min = o_min\n",
        "        self.o_max = o_max\n",
        "        self.model = model\n",
        "        self.dynamics = dynamics\n",
        "\n",
        "    def validate(self, coords, values):\n",
        "        model_results = self.model({'coords': self.dynamics.coord_to_input(coords.to(self.device))})\n",
        "        inputs = torch.cat((coords[..., 1:].to(self.device), values[:, None].to(self.device)), dim=-1)\n",
        "        outputs = torch.sigmoid(self.mlp(inputs).squeeze())\n",
        "        return ((outputs >= self.o_min)*(outputs <=self.o_max)).to(device=values.device)\n",
        "\n",
        "class MLPConditionedValidator(Validator):\n",
        "    def __init__(self, device, mlp, o_levels, v_levels, model, dynamics):\n",
        "        self.device = device\n",
        "        self.mlp = mlp\n",
        "        self.o_levels = o_levels\n",
        "        self.v_levels = v_levels\n",
        "        self.model = model\n",
        "        self.dynamics = dynamics\n",
        "        assert len(self.o_levels) == len(self.v_levels) + 1\n",
        "\n",
        "    def validate(self, coords, values):\n",
        "        model_results = self.model({'coords': self.dynamics.coord_to_input(coords.to(self.device))})\n",
        "        inputs = torch.cat((coords[..., 1:].to(self.device), values[:, None].to(self.device)), dim=-1)\n",
        "        outputs = torch.sigmoid(self.mlp(inputs).squeeze(dim=-1)).to(device=values.device)\n",
        "        valids = torch.zeros_like(outputs)\n",
        "        for i in range(len(self.o_levels) - 1):\n",
        "            valids = torch.logical_or(\n",
        "                valids,\n",
        "                (outputs > self.o_levels[i])*(outputs <= self.o_levels[i+1])*(values >= self.v_levels[i][0])*(values <= self.v_levels[i][1])\n",
        "            )\n",
        "        return valids\n",
        "\n",
        "class MultiValidator(Validator):\n",
        "    def __init__(self, validators):\n",
        "        self.validators = validators\n",
        "\n",
        "    def validate(self, coords, values):\n",
        "        result = self.validators[0].validate(coords, values)\n",
        "        for i in range(len(self.validators)-1):\n",
        "            result = result * self.validators[i+1].validate(coords, values)\n",
        "        return result\n",
        "\n",
        "class SampleGenerator(ABC):\n",
        "    @abstractmethod\n",
        "    def sample(self, num_samples):\n",
        "        raise NotImplementedError\n",
        "\n",
        "class SliceSampleGenerator(SampleGenerator):\n",
        "    def __init__(self, dynamics, slices):\n",
        "        self.dynamics = dynamics\n",
        "        self.slices = slices\n",
        "        assert self.dynamics.state_dim == len(slices)\n",
        "\n",
        "    def sample(self, num_samples):\n",
        "        samples = torch.zeros(num_samples, self.dynamics.state_dim)\n",
        "        for dim in range(self.dynamics.state_dim):\n",
        "            if self.slices[dim] is None:\n",
        "                samples[:, dim].uniform_(*self.dynamics.state_test_range()[dim])\n",
        "            else:\n",
        "                samples[:, dim] = self.slices[dim]\n",
        "        return samples\n",
        "\n",
        "import torch\n",
        "from tqdm import tqdm\n",
        "\n",
        "# # get the tEarliest in [tMin:tMax:dt] at which the state is still valid\n",
        "# def get_tEarliest(device, model, dynamics, state, tMin, tMax, dt, validator):\n",
        "#     with torch.no_grad():\n",
        "#         tEarliest = torch.full(state.shape[:-1], tMin - 1)\n",
        "#         model_state = dynamics.normalize_state(state)\n",
        "\n",
        "#         times_to_try = torch.arange(tMin, tMax + dt, dt)\n",
        "#         for time_to_try in times_to_try:\n",
        "#             blank_idx = (tEarliest < tMin)\n",
        "#             time = torch.full((*state.shape[:-1], 1), time_to_try)\n",
        "#             model_time = dynamics.normalize_time(time)\n",
        "#             model_coord = torch.cat((model_time, model_state), dim=-1)[blank_idx]\n",
        "#             model_result = model({'coords': model_coord.to(device)})\n",
        "#             value = dynamics.output_to_value(output=model_result['model_out'][..., 0], state=state.to(device)).cpu()\n",
        "#             valid_idx = validator.validate(torch.cat((time, state), dim=-1), value)\n",
        "#             tMasked = tEarliest[blank_idx]\n",
        "#             tMasked[valid_idx] = time_to_try\n",
        "#             tEarliest[blank_idx] = tMasked\n",
        "#             if torch.all(tEarliest >= tMin):\n",
        "#                 break\n",
        "#         blank_idx = (tEarliest < tMin)\n",
        "#         if torch.any(blank_idx):\n",
        "#             print(str(torch.sum(blank_idx)), 'invalid states')\n",
        "#             tEarliest[blank_idx] = tMax\n",
        "#         return tEarliest\n",
        "\n",
        "def scenario_optimization(device, model, policy, dynamics, tMin, tMax, dt, set_type, control_type, scenario_batch_size, sample_batch_size, sample_generator, sample_validator, violation_validator, max_scenarios=None, max_samples=None, max_violations=None, tStart_generator=None):\n",
        "    rem = ((tMax-tMin) / dt)%1\n",
        "    e_tol = 1e-12\n",
        "    assert rem < e_tol or 1 - rem < e_tol, f'{tMax-tMin} is not divisible by {dt}'\n",
        "    assert tMax > tMin\n",
        "    assert set_type in ['BRS', 'BRT']\n",
        "    if set_type == 'BRS':\n",
        "        print('confirm correct calculation of true values of trajectories (batch_scenario_costs)')\n",
        "        raise NotImplementedError\n",
        "    assert control_type in ['value', 'ttr', 'init_ttr']\n",
        "    assert max_scenarios or max_samples or max_violations, 'one of the termination conditions must be used'\n",
        "    if max_scenarios:\n",
        "        assert (max_scenarios / scenario_batch_size)%1 == 0, 'max_scenarios is not divisible by scenario_batch_size'\n",
        "    if max_samples:\n",
        "        assert (max_samples / sample_batch_size)%1 == 0, 'max_samples is not divisible by sample_batch_size'\n",
        "\n",
        "    # accumulate scenarios\n",
        "    times = torch.zeros(0, )\n",
        "    states = torch.zeros(0, dynamics.state_dim)\n",
        "    values = torch.zeros(0, )\n",
        "    costs = torch.zeros(0, )\n",
        "    init_hams = torch.zeros(0, )\n",
        "    mean_hams = torch.zeros(0, )\n",
        "    mean_abs_hams = torch.zeros(0, )\n",
        "    max_abs_hams = torch.zeros(0, )\n",
        "    min_abs_hams = torch.zeros(0, )\n",
        "\n",
        "    num_scenarios = 0\n",
        "    num_samples = 0\n",
        "    num_violations = 0\n",
        "\n",
        "    pbar_pos = 0\n",
        "    if max_scenarios:\n",
        "        scenarios_pbar = tqdm(total=max_scenarios, desc='Scenarios', position=pbar_pos)\n",
        "        pbar_pos += 1\n",
        "    if max_samples:\n",
        "        samples_pbar = tqdm(total=max_samples, desc='Samples', position=pbar_pos)\n",
        "        pbar_pos += 1\n",
        "    if max_violations:\n",
        "        violations_pbar = tqdm(total=max_violations, desc='Violations', position=pbar_pos)\n",
        "        pbar_pos += 1\n",
        "\n",
        "    nums_valid_samples = []\n",
        "    while True:\n",
        "        if (max_scenarios and (num_scenarios >= max_scenarios)) or (max_violations and (num_violations >= max_violations)):\n",
        "            break\n",
        "\n",
        "        batch_scenario_times = torch.zeros(scenario_batch_size, )\n",
        "        batch_scenario_states = torch.zeros(scenario_batch_size, dynamics.state_dim)\n",
        "        batch_scenario_values = torch.zeros(scenario_batch_size, )\n",
        "\n",
        "        num_collected_scenarios = 0\n",
        "        while num_collected_scenarios < scenario_batch_size:\n",
        "            if max_samples and (num_samples >= max_samples):\n",
        "                break\n",
        "            # sample batch\n",
        "            if tStart_generator is not None:\n",
        "                batch_sample_times = tStart_generator(sample_batch_size)\n",
        "                # need to round to nearest dt\n",
        "                batch_sample_times = torch.round(batch_sample_times/dt)*dt\n",
        "            else:\n",
        "                batch_sample_times = torch.full((sample_batch_size, ), tMax)\n",
        "            batch_sample_states = dynamics.equivalent_wrapped_state(sample_generator.sample(sample_batch_size))\n",
        "            batch_sample_coords = torch.cat((batch_sample_times.unsqueeze(-1), batch_sample_states), dim=-1)\n",
        "\n",
        "            # validate batch\n",
        "            with torch.no_grad():\n",
        "                batch_sample_model_results = model({'coords': dynamics.coord_to_input(batch_sample_coords.to(device))})\n",
        "                batch_sample_values = dynamics.io_to_value(batch_sample_model_results['model_in'].detach(), batch_sample_model_results['model_out'].squeeze(dim=-1).detach())\n",
        "            batch_valid_sample_idxs = torch.where(sample_validator.validate(batch_sample_coords, batch_sample_values))[0].detach().cpu()\n",
        "\n",
        "            # store valid samples\n",
        "            num_valid_samples = len(batch_valid_sample_idxs)\n",
        "            start_idx = num_collected_scenarios\n",
        "            end_idx = min(start_idx + num_valid_samples, scenario_batch_size)\n",
        "            batch_scenario_times[start_idx:end_idx] = batch_sample_times[batch_valid_sample_idxs][:end_idx-start_idx]\n",
        "            batch_scenario_states[start_idx:end_idx] = batch_sample_states[batch_valid_sample_idxs][:end_idx-start_idx]\n",
        "            batch_scenario_values[start_idx:end_idx] = batch_sample_values[batch_valid_sample_idxs][:end_idx-start_idx]\n",
        "\n",
        "            # update counters\n",
        "            num_samples += sample_batch_size\n",
        "            if max_samples:\n",
        "                samples_pbar.update(sample_batch_size)\n",
        "            num_collected_scenarios += end_idx - start_idx\n",
        "            nums_valid_samples.append(num_valid_samples)\n",
        "        if max_samples and (num_samples >= max_samples):\n",
        "            break\n",
        "\n",
        "        # propagate scenarios\n",
        "        state_trajs = torch.zeros(scenario_batch_size, int((tMax-tMin)/dt + 1), dynamics.state_dim)\n",
        "        ctrl_trajs = torch.zeros(scenario_batch_size, int((tMax-tMin)/dt), dynamics.control_dim)\n",
        "        dstb_trajs = torch.zeros(scenario_batch_size, int((tMax-tMin)/dt), dynamics.disturbance_dim)\n",
        "        ham_trajs = torch.zeros(scenario_batch_size, int((tMax-tMin)/dt))\n",
        "\n",
        "        state_trajs[:, 0, :] = batch_scenario_states\n",
        "        for k in tqdm(range(int((tMax-tMin)/dt)), desc='Trajectory Propagation', position=pbar_pos, leave=False):\n",
        "            if control_type == 'value':\n",
        "                traj_time = tMax - k*dt\n",
        "                traj_times = torch.full((scenario_batch_size, ), traj_time)\n",
        "            # elif control_type == 'ttr':\n",
        "            #     traj_times = get_tEarliest(model=model, dynamics=dynamics, state=state_trajs[:, k], tMin=tMin, tMax=traj_time, dt=dt, validator=sample_validator)\n",
        "            # elif control_type == 'init_ttr':\n",
        "            #     if k == 0:\n",
        "            #         init_traj_times = get_tEarliest(model=model, dynamics=dynamics, state=state_trajs[:, k], tMin=tMin, tMax=traj_time, dt=dt, validator=sample_validator)\n",
        "            #     traj_times = torch.maximum(init_traj_times - k*dt, torch.tensor(tMin)) # check whether this is the best thing to do for init_ttr\n",
        "            traj_coords = torch.cat((traj_times.unsqueeze(-1), state_trajs[:, k]), dim=-1)\n",
        "            traj_policy_results = policy({'coords': dynamics.coord_to_input(traj_coords.to(device))})\n",
        "            traj_dvs = dynamics.io_to_dv(traj_policy_results['model_in'], traj_policy_results['model_out'].squeeze(dim=-1)).detach()\n",
        "\n",
        "            # TODO: I do not think there is actually any reason to store these trajs? Could save space by removing these.\n",
        "            ctrl_trajs[:, k] = dynamics.optimal_control(traj_coords[:, 1:].to(device), traj_dvs[..., 1:].to(device))\n",
        "            dstb_trajs[:, k] = dynamics.optimal_disturbance(traj_coords[:, 1:].to(device), traj_dvs[..., 1:].to(device))\n",
        "            ham_trajs[:, k] = dynamics.hamiltonian(traj_coords[:, 1:].to(device), traj_dvs[..., 1:].to(device))\n",
        "\n",
        "            if tStart_generator is not None: # freeze states whose start time has not been reached yet\n",
        "                is_frozen = batch_scenario_times < traj_times\n",
        "                is_unfrozen = torch.logical_not(is_frozen)\n",
        "                state_trajs[is_frozen, k+1] = state_trajs[is_frozen, k]\n",
        "                state_trajs[is_unfrozen, k+1] = dynamics.equivalent_wrapped_state(state_trajs[is_unfrozen, k].to(device) + dt*dynamics.dsdt(state_trajs[is_unfrozen, k].to(device), ctrl_trajs[is_unfrozen, k].to(device), dstb_trajs[is_unfrozen, k].to(device))).cpu()\n",
        "            else:\n",
        "                state_trajs[:, k+1] = dynamics.equivalent_wrapped_state(state_trajs[:, k].to(device) + dt*dynamics.dsdt(state_trajs[:, k].to(device), ctrl_trajs[:, k].to(device), dstb_trajs[:, k].to(device)))\n",
        "\n",
        "        # compute batch_scenario_costs\n",
        "        # TODO: need to handle the case of using tStart_generator when extending a trajectory by a frozen initial state will inadvertently affect cost computation (the min lx cost formulation is unaffected, but other cost formulations might care)\n",
        "        if set_type == 'BRT':\n",
        "            batch_scenario_costs = dynamics.cost_fn(state_trajs.to(device))\n",
        "        elif set_type == 'BRS':\n",
        "            if control_type == 'init_ttr': # is this correct for init_ttr?\n",
        "                batch_scenario_costs =  dynamics.boundary_fn(state_trajs.to(device))[:, (init_traj_times - tMin) / dt]\n",
        "            elif control_type == 'value':\n",
        "                batch_scenario_costs =  dynamics.boundary_fn(state_trajs.to(device))[:, -1]\n",
        "            else:\n",
        "                raise NotImplementedError # what is the correct thing to do for ttr?\n",
        "\n",
        "        # compute batch_scenario_init_hams, batch_scenario_mean_hams, batch_scenario_mean_abs_hams, batch_scenario_max_abs_hams, batch_scenario_min_abs_hams\n",
        "        batch_scenario_init_hams = ham_trajs[:, 0]\n",
        "        batch_scenario_mean_hams = torch.mean(ham_trajs, dim=-1)\n",
        "        batch_scenario_mean_abs_hams = torch.mean(torch.abs(ham_trajs), dim=-1)\n",
        "        batch_scenario_max_abs_hams = torch.max(torch.abs(ham_trajs), dim=-1).values\n",
        "        batch_scenario_min_abs_hams = torch.min(torch.abs(ham_trajs), dim=-1).values\n",
        "\n",
        "        # store scenarios\n",
        "        times = torch.cat((times, batch_scenario_times.cpu()), dim=0)\n",
        "        states = torch.cat((states, batch_scenario_states.cpu()), dim=0)\n",
        "        values = torch.cat((values, batch_scenario_values.cpu()), dim=0)\n",
        "        costs = torch.cat((costs, batch_scenario_costs.cpu()), dim=0)\n",
        "        init_hams = torch.cat((init_hams, batch_scenario_init_hams.cpu()), dim=0)\n",
        "        mean_hams = torch.cat((mean_hams, batch_scenario_mean_hams.cpu()), dim=0)\n",
        "        mean_abs_hams = torch.cat((mean_abs_hams, batch_scenario_mean_abs_hams.cpu()), dim=0)\n",
        "        max_abs_hams = torch.cat((max_abs_hams, batch_scenario_max_abs_hams.cpu()), dim=0)\n",
        "        min_abs_hams = torch.cat((min_abs_hams, batch_scenario_min_abs_hams.cpu()), dim=0)\n",
        "\n",
        "        # update counters\n",
        "        num_scenarios += scenario_batch_size\n",
        "        if max_scenarios:\n",
        "            scenarios_pbar.update(scenario_batch_size)\n",
        "        num_new_violations = int(torch.sum(violation_validator.validate(batch_scenario_states, batch_scenario_costs)))\n",
        "        num_violations += num_new_violations\n",
        "        if max_violations:\n",
        "            violations_pbar.update(num_new_violations)\n",
        "\n",
        "    if max_scenarios:\n",
        "        scenarios_pbar.close()\n",
        "    if max_samples:\n",
        "        samples_pbar.close()\n",
        "    if max_violations:\n",
        "        violations_pbar.close()\n",
        "\n",
        "    violations = violation_validator.validate(states, costs)\n",
        "\n",
        "    return {\n",
        "        'times': times,\n",
        "        'states': states,\n",
        "        'values': values,\n",
        "        'costs': costs,\n",
        "        'init_hams': init_hams,\n",
        "        'init_abs_hams': torch.abs(init_hams),\n",
        "        'mean_hams': mean_hams,\n",
        "        'mean_abs_hams': mean_abs_hams,\n",
        "        'max_abs_hams': max_abs_hams,\n",
        "        'min_abs_hams': min_abs_hams,\n",
        "        'violations': violations,\n",
        "        'valid_sample_fraction': torch.mean(torch.tensor(nums_valid_samples, dtype=float))/sample_batch_size,\n",
        "        'violation_rate': 0 if not num_scenarios else num_violations / num_scenarios,\n",
        "        'maxed_scenarios': (max_scenarios is not None) and num_scenarios >= max_scenarios,\n",
        "        'maxed_samples': (max_samples is not None) and num_samples >= max_samples,\n",
        "        'maxed_violations': (max_violations is not None) and num_violations >= max_violations,\n",
        "        'batch_state_trajs': None if (max_samples and (num_samples >= max_samples)) else state_trajs,\n",
        "    }\n",
        "\n",
        "def target_fraction(device, model, dynamics, t, sample_validator, target_validator, num_samples, batch_size):\n",
        "    with torch.no_grad():\n",
        "        states = torch.zeros(0, dynamics.state_dim)\n",
        "        values = torch.zeros(0, )\n",
        "\n",
        "        while len(states) < num_samples:\n",
        "            # sample batch\n",
        "            batch_times = torch.full((batch_size, 1), t)\n",
        "            batch_states = torch.zeros(batch_size, dynamics.state_dim)\n",
        "            for dim in range(dynamics.state_dim):\n",
        "                batch_states[:, dim].uniform_(*dynamics.state_test_range()[dim])\n",
        "            batch_states = dynamics.equivalent_wrapped_state(batch_states)\n",
        "            batch_coords = torch.cat((batch_times, batch_states), dim=-1)\n",
        "\n",
        "            # validate batch\n",
        "            batch_model_results = model({'coords': dynamics.coord_to_input(batch_coords.to(device))})\n",
        "            batch_values = dynamics.io_to_value(batch_model_results['model_in'], batch_model_results['model_out'].squeeze(dim=-1)).detach()\n",
        "            batch_valids = sample_validator.validate(batch_coords, batch_values).detach().cpu()\n",
        "\n",
        "            # store valid portion of batch\n",
        "            states = torch.cat((states, batch_states[batch_valids].cpu()), dim=0)\n",
        "            values = torch.cat((values, batch_values[batch_valids].cpu()), dim=0)\n",
        "\n",
        "        states = states[:num_samples]\n",
        "        values = values[:num_samples]\n",
        "        coords = torch.cat((torch.full((num_samples, 1), t), states), dim=-1)\n",
        "        valids = target_validator.validate(coords.to(device), values.to(device))\n",
        "    return torch.sum(valids) / num_samples\n",
        "\n",
        "class MLP(torch.nn.Module):\n",
        "    def __init__(self, input_size):\n",
        "        super(MLP, self).__init__()\n",
        "\n",
        "        s1 = int(2*input_size)\n",
        "        s2 = int(input_size)\n",
        "        s3 = int(input_size)\n",
        "        self.l1 = torch.nn.Linear(input_size, s1)\n",
        "        self.a1 = torch.nn.ReLU()\n",
        "        self.l2 = torch.nn.Linear(s1, s2)\n",
        "        self.a2 = torch.nn.ReLU()\n",
        "        self.l3 = torch.nn.Linear(s2, s3)\n",
        "        self.a3 = torch.nn.ReLU()\n",
        "        self.l4 = torch.nn.Linear(s3, 1)\n",
        "\n",
        "    def forward(self, x):\n",
        "        x = self.l1(x)\n",
        "        x = self.a1(x)\n",
        "        x = self.l2(x)\n",
        "        x = self.a2(x)\n",
        "        x = self.l3(x)\n",
        "        x = self.a3(x)\n",
        "        x = self.l4(x)\n",
        "        return x\n",
        "\n",
        "\n",
        "\n",
        "def sample_values(device, model, dynamics, t, num_samples, batch_size):\n",
        "    with torch.no_grad():\n",
        "        states = torch.zeros(0, dynamics.state_dim)\n",
        "        values = torch.zeros(0, )\n",
        "\n",
        "        while len(states) < num_samples:\n",
        "            # sample batch\n",
        "            batch_times = torch.full((batch_size, 1), t)\n",
        "            batch_states = torch.zeros(batch_size, dynamics.state_dim)\n",
        "            for dim in range(dynamics.state_dim):\n",
        "                batch_states[:, dim].uniform_(*dynamics.state_test_range()[dim])\n",
        "            batch_states = dynamics.equivalent_wrapped_state(batch_states)\n",
        "            batch_coords = torch.cat((batch_times, batch_states), dim=-1)\n",
        "\n",
        "            batch_model_results = model({'coords': dynamics.coord_to_input(batch_coords.to(device))})\n",
        "            batch_values = dynamics.io_to_value(batch_model_results['model_in'], batch_model_results['model_out'].squeeze(dim=-1)).detach()\n",
        "\n",
        "            # store batch\n",
        "            states = torch.cat((states, batch_states.cpu()), dim=0)\n",
        "            values = torch.cat((values, batch_values.cpu()), dim=0)\n",
        "\n",
        "        states = states[:num_samples]\n",
        "        values = values[:num_samples]\n",
        "        coords = torch.cat((torch.full((num_samples, 1), t), states), dim=-1)\n",
        "    return values\n"
      ],
      "metadata": {
        "id": "JT3KyjNnCqHc"
      },
      "execution_count": 8,
      "outputs": []
    },
    {
      "cell_type": "code",
      "source": [
        "# uses real units\n",
        "def init_brt_hjivi_loss(dynamics, minWith, dirichlet_loss_divisor):\n",
        "    def brt_hjivi_loss(state, value, dvdt, dvds, boundary_value, dirichlet_mask, output):\n",
        "        if torch.all(dirichlet_mask):\n",
        "            # pretraining loss\n",
        "            diff_constraint_hom = torch.Tensor([0])\n",
        "        else:\n",
        "            ham = dynamics.hamiltonian(state, dvds)\n",
        "            if minWith == 'zero':\n",
        "                ham = torch.clamp(ham, max=0.0)\n",
        "\n",
        "            diff_constraint_hom = dvdt - ham\n",
        "            if minWith == 'target':\n",
        "                diff_constraint_hom = torch.max(\n",
        "                    diff_constraint_hom, value - boundary_value)\n",
        "        dirichlet = value[dirichlet_mask] - boundary_value[dirichlet_mask]\n",
        "        if dynamics.deepreach_model == 'exact':\n",
        "            if torch.all(dirichlet_mask):\n",
        "                # pretraining\n",
        "                dirichlet = output.squeeze(dim=-1)[dirichlet_mask]-0.0\n",
        "            else:\n",
        "                return {'diff_constraint_hom': torch.abs(diff_constraint_hom).sum()}\n",
        "\n",
        "        return {'dirichlet': torch.abs(dirichlet).sum() / dirichlet_loss_divisor,\n",
        "                'diff_constraint_hom': torch.abs(diff_constraint_hom).sum()}\n",
        "\n",
        "    return brt_hjivi_loss\n",
        "def init_brat_hjivi_loss(dynamics, minWith, dirichlet_loss_divisor):\n",
        "    def brat_hjivi_loss(state, value, dvdt, dvds, boundary_value, reach_value, avoid_value, dirichlet_mask, output):\n",
        "        if torch.all(dirichlet_mask):\n",
        "            # pretraining loss\n",
        "            diff_constraint_hom = torch.Tensor([0])\n",
        "        else:\n",
        "            ham = dynamics.hamiltonian(state, dvds)\n",
        "            if minWith == 'zero':\n",
        "                ham = torch.clamp(ham, max=0.0)\n",
        "\n",
        "            diff_constraint_hom = dvdt - ham\n",
        "            if minWith == 'target':\n",
        "                diff_constraint_hom = torch.min(\n",
        "                    torch.max(diff_constraint_hom, value - reach_value), value + avoid_value)\n",
        "\n",
        "        dirichlet = value[dirichlet_mask] - boundary_value[dirichlet_mask]\n",
        "        if dynamics.deepreach_model == 'exact':\n",
        "            if torch.all(dirichlet_mask):\n",
        "                dirichlet = output.squeeze(dim=-1)[dirichlet_mask]-0.0\n",
        "            else:\n",
        "                return {'diff_constraint_hom': torch.abs(diff_constraint_hom).sum()}\n",
        "        return {'dirichlet': torch.abs(dirichlet).sum() / dirichlet_loss_divisor,\n",
        "                'diff_constraint_hom': torch.abs(diff_constraint_hom).sum()}\n",
        "    return brat_hjivi_loss"
      ],
      "metadata": {
        "id": "ojN0xTCfCx5p"
      },
      "execution_count": 9,
      "outputs": []
    },
    {
      "cell_type": "code",
      "source": [
        "\"\"\"\n",
        "MIT License\n",
        "\n",
        "Copyright (c) 2020 Vincent Sitzmann\n",
        "\n",
        "Permission is hereby granted, free of charge, to any person obtaining a copy\n",
        "of this software and associated documentation files (the \"Software\"), to deal\n",
        "in the Software without restriction, including without limitation the rights\n",
        "to use, copy, modify, merge, publish, distribute, sublicense, and/or sell\n",
        "copies of the Software, and to permit persons to whom the Software is\n",
        "furnished to do so, subject to the following conditions:\n",
        "\n",
        "The above copyright notice and this permission notice shall be included in all\n",
        "copies or substantial portions of the Software.\n",
        "\n",
        "THE SOFTWARE IS PROVIDED \"AS IS\", WITHOUT WARRANTY OF ANY KIND, EXPRESS OR\n",
        "IMPLIED, INCLUDING BUT NOT LIMITED TO THE WARRANTIES OF MERCHANTABILITY,\n",
        "FITNESS FOR A PARTICULAR PURPOSE AND NONINFRINGEMENT. IN NO EVENT SHALL THE\n",
        "AUTHORS OR COPYRIGHT HOLDERS BE LIABLE FOR ANY CLAIM, DAMAGES OR OTHER\n",
        "LIABILITY, WHETHER IN AN ACTION OF CONTRACT, TORT OR OTHERWISE, ARISING FROM,\n",
        "OUT OF OR IN CONNECTION WITH THE SOFTWARE OR THE USE OR OTHER DEALINGS IN THE\n",
        "SOFTWARE.\n",
        "\"\"\"\n",
        "\n",
        "class BatchLinear(nn.Linear):\n",
        "    '''A linear layer'''\n",
        "    __doc__ = nn.Linear.__doc__\n",
        "\n",
        "    def forward(self, input, params=None):\n",
        "        if params is None:\n",
        "            params = OrderedDict(self.named_parameters())\n",
        "\n",
        "        bias = params.get('bias', None)\n",
        "        weight = params['weight']\n",
        "\n",
        "        output = input.matmul(weight.permute(*[i for i in range(len(weight.shape) - 2)], -1, -2))\n",
        "        output += bias.unsqueeze(-2)\n",
        "        return output\n",
        "\n",
        "\n",
        "class Sine(nn.Module):\n",
        "    def __init(self):\n",
        "        super().__init__()\n",
        "\n",
        "    def forward(self, input):\n",
        "        # See paper sec. 3.2, final paragraph, and supplement Sec. 1.5 for discussion of factor 30\n",
        "        return torch.sin(30 * input)\n",
        "\n",
        "\n",
        "class FCBlock(nn.Module):\n",
        "    '''A fully connected neural network.\n",
        "    '''\n",
        "\n",
        "    def __init__(self, in_features, out_features, num_hidden_layers, hidden_features,\n",
        "                 outermost_linear=False, nonlinearity='relu', weight_init=None):\n",
        "        super().__init__()\n",
        "\n",
        "        self.first_layer_init = None\n",
        "\n",
        "        # Dictionary that maps nonlinearity name to the respective function, initialization, and, if applicable,\n",
        "        # special first-layer initialization scheme\n",
        "        nls_and_inits = {'sine':(Sine(), sine_init, first_layer_sine_init),\n",
        "                         'relu':(nn.ReLU(inplace=True), init_weights_normal, None),\n",
        "                         'sigmoid':(nn.Sigmoid(), init_weights_xavier, None),\n",
        "                         'tanh':(nn.Tanh(), init_weights_xavier, None),\n",
        "                         'selu':(nn.SELU(inplace=True), init_weights_selu, None),\n",
        "                         'softplus':(nn.Softplus(), init_weights_normal, None),\n",
        "                         'elu':(nn.ELU(inplace=True), init_weights_elu, None)}\n",
        "\n",
        "        nl, nl_weight_init, first_layer_init = nls_and_inits[nonlinearity]\n",
        "\n",
        "        if weight_init is not None:  # Overwrite weight init if passed\n",
        "            self.weight_init = weight_init\n",
        "        else:\n",
        "            self.weight_init = nl_weight_init\n",
        "\n",
        "        self.net = []\n",
        "        self.net.append(nn.Sequential(\n",
        "            BatchLinear(in_features, hidden_features), nl\n",
        "        ))\n",
        "\n",
        "        for i in range(num_hidden_layers):\n",
        "            self.net.append(nn.Sequential(\n",
        "                BatchLinear(hidden_features, hidden_features), nl\n",
        "            ))\n",
        "\n",
        "        if outermost_linear:\n",
        "            self.net.append(nn.Sequential(BatchLinear(hidden_features, out_features)))\n",
        "        else:\n",
        "            self.net.append(nn.Sequential(\n",
        "                BatchLinear(hidden_features, out_features), nl\n",
        "            ))\n",
        "\n",
        "        self.net = nn.Sequential(*self.net)\n",
        "        if self.weight_init is not None:\n",
        "            self.net.apply(self.weight_init)\n",
        "\n",
        "        if first_layer_init is not None: # Apply special initialization to first layer, if applicable.\n",
        "            self.net[0].apply(first_layer_init)\n",
        "\n",
        "    def forward(self, coords, params=None, **kwargs):\n",
        "        if params is None:\n",
        "            params = OrderedDict(self.named_parameters())\n",
        "\n",
        "        output = self.net(coords)\n",
        "        return output\n",
        "\n",
        "\n",
        "class SingleBVPNet(nn.Module):\n",
        "    '''A canonical representation network for a BVP.'''\n",
        "\n",
        "    def __init__(self, out_features=1, type='sine', in_features=2,\n",
        "                 mode='mlp', hidden_features=256, num_hidden_layers=3, **kwargs):\n",
        "        super().__init__()\n",
        "        self.mode = mode\n",
        "        self.net = FCBlock(in_features=in_features, out_features=out_features, num_hidden_layers=num_hidden_layers,\n",
        "                           hidden_features=hidden_features, outermost_linear=True, nonlinearity=type)\n",
        "        print(self)\n",
        "\n",
        "    def forward(self, model_input, params=None):\n",
        "        if params is None:\n",
        "            params = OrderedDict(self.named_parameters())\n",
        "\n",
        "        # Enables us to compute gradients w.r.t. coordinates\n",
        "        # TODO: should not need to .clone().detach().requires_grad_(True); instead, use .retain_grad() on input in calling script\n",
        "        # otherwise, .detach() removes input from the graph so grad cannot propagate back end-to-end, e.g., percept -> NN -> state estimation (input)\n",
        "        coords_org = model_input['coords'].clone().detach().requires_grad_(True)\n",
        "        coords = coords_org\n",
        "\n",
        "        output = self.net(coords)\n",
        "        return {'model_in': coords_org, 'model_out': output}\n",
        "\n",
        "\n",
        "########################\n",
        "# Initialization methods\n",
        "def init_weights_normal(m):\n",
        "    if type(m) == BatchLinear or type(m) == nn.Linear:\n",
        "        if hasattr(m, 'weight'):\n",
        "            nn.init.kaiming_normal_(m.weight, a=0.0, nonlinearity='relu', mode='fan_in')\n",
        "\n",
        "\n",
        "def init_weights_selu(m):\n",
        "    if type(m) == BatchLinear or type(m) == nn.Linear:\n",
        "        if hasattr(m, 'weight'):\n",
        "            num_input = m.weight.size(-1)\n",
        "            nn.init.normal_(m.weight, std=1 / math.sqrt(num_input))\n",
        "\n",
        "\n",
        "def init_weights_elu(m):\n",
        "    if type(m) == BatchLinear or type(m) == nn.Linear:\n",
        "        if hasattr(m, 'weight'):\n",
        "            num_input = m.weight.size(-1)\n",
        "            nn.init.normal_(m.weight, std=math.sqrt(1.5505188080679277) / math.sqrt(num_input))\n",
        "\n",
        "\n",
        "def init_weights_xavier(m):\n",
        "    if type(m) == BatchLinear or type(m) == nn.Linear:\n",
        "        if hasattr(m, 'weight'):\n",
        "            nn.init.xavier_normal_(m.weight)\n",
        "\n",
        "\n",
        "def sine_init(m):\n",
        "    with torch.no_grad():\n",
        "        if hasattr(m, 'weight'):\n",
        "            num_input = m.weight.size(-1)\n",
        "            # See supplement Sec. 1.5 for discussion of factor 30\n",
        "            m.weight.uniform_(-np.sqrt(6 / num_input) / 30, np.sqrt(6 / num_input) / 30)\n",
        "\n",
        "\n",
        "def first_layer_sine_init(m):\n",
        "    with torch.no_grad():\n",
        "        if hasattr(m, 'weight'):\n",
        "            num_input = m.weight.size(-1)\n",
        "            # See paper sec. 3.2, final paragraph, and supplement Sec. 1.5 for discussion of factor 30\n",
        "            m.weight.uniform_(-1 / num_input, 1 / num_input)\n"
      ],
      "metadata": {
        "id": "_103N1sCCzv1"
      },
      "execution_count": 10,
      "outputs": []
    },
    {
      "cell_type": "markdown",
      "source": [
        "### 5. Dynamics Code"
      ],
      "metadata": {
        "id": "8YL1FjbYDcRv"
      }
    },
    {
      "cell_type": "code",
      "source": [
        "# during training, states will be sampled uniformly by each state dimension from the model-unit -1 to 1 range (for training stability),\n",
        "# which may or may not correspond to proper test ranges\n",
        "# note that coord refers to [time, *state], and input refers to whatever is fed directly to the model (often [time, *state, params])\n",
        "# in the future, code will need to be fixed to correctly handle parameterized models\n",
        "class Dynamics(ABC):\n",
        "    def __init__(self,\n",
        "    loss_type:str, set_mode:str,\n",
        "    state_dim:int, input_dim:int,\n",
        "    control_dim:int, disturbance_dim:int,\n",
        "    state_mean:list, state_var:list,\n",
        "    value_mean:float, value_var:float, value_normto:float,\n",
        "    deepreach_model:str):\n",
        "        self.loss_type = loss_type\n",
        "        self.set_mode = set_mode\n",
        "        self.state_dim = state_dim\n",
        "        self.input_dim = input_dim\n",
        "        self.control_dim = control_dim\n",
        "        self.disturbance_dim = disturbance_dim\n",
        "        self.state_mean = torch.tensor(state_mean)\n",
        "        self.state_var = torch.tensor(state_var)\n",
        "        self.value_mean = value_mean\n",
        "        self.value_var = value_var\n",
        "        self.value_normto = value_normto\n",
        "        self.deepreach_model = deepreach_model\n",
        "        assert self.loss_type in ['brt_hjivi', 'brat_hjivi'], f'loss type {self.loss_type} not recognized'\n",
        "        if self.loss_type == 'brat_hjivi':\n",
        "            assert callable(self.reach_fn) and callable(self.avoid_fn)\n",
        "        assert self.set_mode in ['reach', 'avoid'], f'set mode {self.set_mode} not recognized'\n",
        "        for state_descriptor in [self.state_mean, self.state_var]:\n",
        "            assert len(state_descriptor) == self.state_dim, 'state descriptor dimension does not equal state dimension, ' + str(len(state_descriptor)) + ' != ' + str(self.state_dim)\n",
        "\n",
        "    # ALL METHODS ARE BATCH COMPATIBLE\n",
        "\n",
        "    # MODEL-UNIT CONVERSIONS (TODO: refactor into separate model-unit conversion class?)\n",
        "\n",
        "    # convert model input to real coord\n",
        "    def input_to_coord(self, input):\n",
        "        coord = input.clone()\n",
        "        coord[..., 1:] = (input[..., 1:] * self.state_var.to(device=input.device)) + self.state_mean.to(device=input.device)\n",
        "        return coord\n",
        "\n",
        "    # convert real coord to model input\n",
        "    def coord_to_input(self, coord):\n",
        "        input = coord.clone()\n",
        "        input[..., 1:] = (coord[..., 1:] - self.state_mean.to(device=coord.device)) / self.state_var.to(device=coord.device)\n",
        "        return input\n",
        "\n",
        "    # convert model io to real value\n",
        "    def io_to_value(self, input, output):\n",
        "        if self.deepreach_model==\"diff\":\n",
        "            return (output * self.value_var / self.value_normto) + self.boundary_fn(self.input_to_coord(input)[..., 1:])\n",
        "        elif self.deepreach_model==\"exact\":\n",
        "            return (output * input[..., 0] * self.value_var / self.value_normto) + self.boundary_fn(self.input_to_coord(input)[..., 1:])\n",
        "        else:\n",
        "            return (output * self.value_var / self.value_normto) + self.value_mean\n",
        "\n",
        "    # convert model io to real dv\n",
        "    def io_to_dv(self, input, output):\n",
        "        dodi = jacobian(output.unsqueeze(dim=-1), input)[0].squeeze(dim=-2)\n",
        "\n",
        "        if self.deepreach_model==\"diff\":\n",
        "            dvdt = (self.value_var / self.value_normto) * dodi[..., 0]\n",
        "\n",
        "            dvds_term1 = (self.value_var / self.value_normto / self.state_var.to(device=dodi.device)) * dodi[..., 1:]\n",
        "            state = self.input_to_coord(input)[..., 1:]\n",
        "            dvds_term2 = jacobian(self.boundary_fn(state).unsqueeze(dim=-1), state)[0].squeeze(dim=-2)\n",
        "            dvds = dvds_term1 + dvds_term2\n",
        "        elif self.deepreach_model==\"exact\":\n",
        "            dvdt = (self.value_var / self.value_normto) * \\\n",
        "                (input[..., 0]*dodi[..., 0] + output)\n",
        "\n",
        "            dvds_term1 = (self.value_var / self.value_normto /\n",
        "                          self.state_var.to(device=dodi.device)) * dodi[..., 1:] * input[..., 0].unsqueeze(-1)\n",
        "            state = self.input_to_coord(input)[..., 1:]\n",
        "            dvds_term2 = jacobian(self.boundary_fn(\n",
        "                state).unsqueeze(dim=-1), state)[0].squeeze(dim=-2)\n",
        "            dvds = dvds_term1 + dvds_term2\n",
        "        else:\n",
        "            dvdt = (self.value_var / self.value_normto) * dodi[..., 0]\n",
        "            dvds = (self.value_var / self.value_normto / self.state_var.to(device=dodi.device)) * dodi[..., 1:]\n",
        "\n",
        "        return torch.cat((dvdt.unsqueeze(dim=-1), dvds), dim=-1)\n",
        "\n",
        "    # ALL FOLLOWING METHODS USE REAL UNITS\n",
        "\n",
        "    @abstractmethod\n",
        "    def state_test_range(self):\n",
        "        raise NotImplementedError\n",
        "\n",
        "    @abstractmethod\n",
        "    def equivalent_wrapped_state(self, state):\n",
        "        raise NotImplementedError\n",
        "\n",
        "    @abstractmethod\n",
        "    def dsdt(self, state, control, disturbance):\n",
        "        raise NotImplementedError\n",
        "\n",
        "    @abstractmethod\n",
        "    def boundary_fn(self, state):\n",
        "        raise NotImplementedError\n",
        "\n",
        "    @abstractmethod\n",
        "    def sample_target_state(self, num_samples):\n",
        "        raise NotImplementedError\n",
        "\n",
        "    @abstractmethod\n",
        "    def cost_fn(self, state_traj):\n",
        "        raise NotImplementedError\n",
        "\n",
        "    @abstractmethod\n",
        "    def hamiltonian(self, state, dvds):\n",
        "        raise NotImplementedError\n",
        "\n",
        "    @abstractmethod\n",
        "    def optimal_control(self, state, dvds):\n",
        "        raise NotImplementedError\n",
        "\n",
        "    @abstractmethod\n",
        "    def optimal_disturbance(self, state, dvds):\n",
        "        raise NotImplementedError\n",
        "\n",
        "    @abstractmethod\n",
        "    def plot_config(self):\n",
        "        raise NotImplementedError\n",
        "\n",
        "class ParameterizedVertDrone2D(Dynamics):\n",
        "    def __init__(self, gravity:float, input_multiplier_max:float, input_magnitude_max:float):\n",
        "        self.gravity = gravity                             # g\n",
        "        self.input_multiplier_max = input_multiplier_max   # k_max\n",
        "        self.input_magnitude_max = input_magnitude_max     # u_max\n",
        "        super().__init__(\n",
        "            loss_type='brt_hjivi', set_mode='avoid',\n",
        "            state_dim=3, input_dim=4, control_dim=1, disturbance_dim=0,\n",
        "            state_mean=[0, 1.5, self.input_multiplier_max/2], # v, z, k\n",
        "            state_var=[4, 2, self.input_multiplier_max/2],    # v, z, k\n",
        "            value_mean=0.25,\n",
        "            value_var=0.5,\n",
        "            value_normto=0.02,\n",
        "            deepreach_model=\"exact\",\n",
        "        )\n",
        "\n",
        "    def state_test_range(self):\n",
        "        return [\n",
        "            [-4, 4],                        # v\n",
        "            [-0.5, 3.5],                    # z\n",
        "            [0, self.input_multiplier_max], # k\n",
        "        ]\n",
        "\n",
        "    def equivalent_wrapped_state(self, state):\n",
        "        wrapped_state = torch.clone(state)\n",
        "        return wrapped_state\n",
        "\n",
        "    # ParameterizedVertDrone2D dynamics\n",
        "    # \\dot v = k*u - g\n",
        "    # \\dot z = v\n",
        "    # \\dot k = 0\n",
        "    def dsdt(self, state, control, disturbance):\n",
        "        dsdt = torch.zeros_like(state)\n",
        "        dsdt[..., 0] = state[..., 2]*control[..., 0] - self.gravity\n",
        "        dsdt[..., 1] = state[..., 0]\n",
        "        dsdt[..., 2] = 0\n",
        "        return dsdt\n",
        "\n",
        "    def boundary_fn(self, state):\n",
        "        return -torch.abs(state[..., 1] - 1.5) + 1.5\n",
        "\n",
        "    def sample_target_state(self, num_samples):\n",
        "        raise NotImplementedError\n",
        "\n",
        "    def cost_fn(self, state_traj):\n",
        "        raise NotImplementedError\n",
        "\n",
        "    def hamiltonian(self, state, dvds):\n",
        "        return state[..., 2]*torch.abs(dvds[..., 0]*self.input_magnitude_max) \\\n",
        "                - dvds[..., 0]*self.gravity \\\n",
        "                + dvds[..., 1]*state[..., 0]\n",
        "\n",
        "    def optimal_control(self, state, dvds):\n",
        "        raise NotImplementedError\n",
        "\n",
        "    def optimal_disturbance(self, state, dvds):\n",
        "        raise NotImplementedError\n",
        "\n",
        "    def plot_config(self):\n",
        "        return {\n",
        "            'state_slices': [0, 1.5, self.input_multiplier_max/2],\n",
        "            'state_labels': ['v', 'z', 'k'],\n",
        "            'x_axis_idx': 0,\n",
        "            'y_axis_idx': 1,\n",
        "            'z_axis_idx': 2,\n",
        "        }\n",
        "\n",
        "class Air3D(Dynamics):\n",
        "    def __init__(self, collisionR:float, velocity:float, omega_max:float, angle_alpha_factor:float):\n",
        "        self.collisionR = collisionR\n",
        "        self.velocity = velocity\n",
        "        self.omega_max = omega_max\n",
        "        self.angle_alpha_factor = angle_alpha_factor\n",
        "        super().__init__(\n",
        "            loss_type='brt_hjivi', set_mode='avoid',\n",
        "            state_dim=3, input_dim=4, control_dim=1, disturbance_dim=1,\n",
        "            state_mean=[0, 0, 0],\n",
        "            state_var=[1, 1, self.angle_alpha_factor*math.pi],\n",
        "            value_mean=0.25,\n",
        "            value_var=0.5,\n",
        "            value_normto=0.02,\n",
        "            deepreach_model=\"exact\",\n",
        "        )\n",
        "\n",
        "    def state_test_range(self):\n",
        "        return [\n",
        "            [-1, 1],\n",
        "            [-1, 1],\n",
        "            [-math.pi, math.pi],\n",
        "        ]\n",
        "\n",
        "    def equivalent_wrapped_state(self, state):\n",
        "        wrapped_state = torch.clone(state)\n",
        "        wrapped_state[..., 2] = (wrapped_state[..., 2] + math.pi) % (2*math.pi) - math.pi\n",
        "        return wrapped_state\n",
        "\n",
        "    # Air3D dynamics\n",
        "    # \\dot x    = -v + v \\cos \\psi + u y\n",
        "    # \\dot y    = v \\sin \\psi - u x\n",
        "    # \\dot \\psi = d - u\n",
        "    def dsdt(self, state, control, disturbance):\n",
        "        dsdt = torch.zeros_like(state)\n",
        "        dsdt[..., 0] = -self.velocity + self.velocity*torch.cos(state[..., 2]) + control[..., 0]*state[..., 1]\n",
        "        dsdt[..., 1] = self.velocity*torch.sin(state[..., 2]) - control[..., 0]*state[..., 0]\n",
        "        dsdt[..., 2] = disturbance[..., 0] - control[..., 0]\n",
        "        return dsdt\n",
        "\n",
        "    def boundary_fn(self, state):\n",
        "        return torch.norm(state[..., :2], dim=-1) - self.collisionR\n",
        "\n",
        "    def sample_target_state(self, num_samples):\n",
        "        raise NotImplementedError\n",
        "\n",
        "    def cost_fn(self, state_traj):\n",
        "        return torch.min(self.boundary_fn(state_traj), dim=-1).values\n",
        "\n",
        "    def hamiltonian(self, state, dvds):\n",
        "        ham = self.omega_max * torch.abs(dvds[..., 0] * state[..., 1] - dvds[..., 1] * state[..., 0] - dvds[..., 2])  # Control component\n",
        "        ham = ham - self.omega_max * torch.abs(dvds[..., 2])  # Disturbance component\n",
        "        ham = ham + (self.velocity * (torch.cos(state[..., 2]) - 1.0) * dvds[..., 0]) + (self.velocity * torch.sin(state[..., 2]) * dvds[..., 1])  # Constant component\n",
        "        return ham\n",
        "\n",
        "    def optimal_control(self, state, dvds):\n",
        "        det = dvds[..., 0]*state[..., 1] - dvds[..., 1]*state[..., 0]-dvds[..., 2]\n",
        "        return (self.omega_max * torch.sign(det))[..., None]\n",
        "\n",
        "    def optimal_disturbance(self, state, dvds):\n",
        "        return (-self.omega_max * torch.sign(dvds[..., 2]))[..., None]\n",
        "\n",
        "    def plot_config(self):\n",
        "        return {\n",
        "            'state_slices': [0, 0, 0],\n",
        "            'state_labels': ['x', 'y', 'theta'],\n",
        "            'x_axis_idx': 0,\n",
        "            'y_axis_idx': 1,\n",
        "            'z_axis_idx': 2,\n",
        "        }\n",
        "\n",
        "class Dubins3D(Dynamics):\n",
        "    def __init__(self, goalR:float, velocity:float, omega_max:float, angle_alpha_factor:float, set_mode:str, freeze_model: bool):\n",
        "        self.goalR = goalR\n",
        "        self.velocity = velocity\n",
        "        self.omega_max = omega_max\n",
        "        self.angle_alpha_factor = angle_alpha_factor\n",
        "        self.freeze_model = freeze_model\n",
        "        super().__init__(\n",
        "            loss_type='brt_hjivi', set_mode=set_mode,\n",
        "            state_dim=3, input_dim=4, control_dim=1, disturbance_dim=0,\n",
        "            state_mean=[0, 0, 0],\n",
        "            state_var=[1, 1, self.angle_alpha_factor*math.pi],\n",
        "            value_mean=0.25,\n",
        "            value_var=0.5,\n",
        "            value_normto=0.02,\n",
        "            deepreach_model=\"exact\"\n",
        "        )\n",
        "\n",
        "    def state_test_range(self):\n",
        "        return [\n",
        "            [-1, 1],\n",
        "            [-1, 1],\n",
        "            [-math.pi, math.pi],\n",
        "        ]\n",
        "\n",
        "    def equivalent_wrapped_state(self, state):\n",
        "        wrapped_state = torch.clone(state)\n",
        "        wrapped_state[..., 2] = (wrapped_state[..., 2] + math.pi) % (2*math.pi) - math.pi\n",
        "        return wrapped_state\n",
        "\n",
        "    # Dubins3D dynamics\n",
        "    # \\dot x    = v \\cos \\theta\n",
        "    # \\dot y    = v \\sin \\theta\n",
        "    # \\dot \\theta = u\n",
        "    def dsdt(self, state, control, disturbance):\n",
        "        if self.freeze_model:\n",
        "            raise NotImplementedError\n",
        "        dsdt = torch.zeros_like(state)\n",
        "        dsdt[..., 0] = self.velocity*torch.cos(state[..., 2])\n",
        "        dsdt[..., 1] = self.velocity*torch.sin(state[..., 2])\n",
        "        dsdt[..., 2] = control[..., 0]\n",
        "        return dsdt\n",
        "\n",
        "    def boundary_fn(self, state):\n",
        "        return torch.norm(state[..., :2], dim=-1) - self.goalR\n",
        "\n",
        "    def sample_target_state(self, num_samples):\n",
        "        raise NotImplementedError\n",
        "\n",
        "    def cost_fn(self, state_traj):\n",
        "        return torch.min(self.boundary_fn(state_traj), dim=-1).values\n",
        "\n",
        "    def hamiltonian(self, state, dvds):\n",
        "        if self.freeze_model:\n",
        "            raise NotImplementedError\n",
        "        if self.set_mode == 'reach':\n",
        "            return self.velocity*(torch.cos(state[..., 2]) * dvds[..., 0] + torch.sin(state[..., 2]) * dvds[..., 1]) - self.omega_max * torch.abs(dvds[..., 2])\n",
        "        elif self.set_mode == 'avoid':\n",
        "            return self.velocity*(torch.cos(state[..., 2]) * dvds[..., 0] + torch.sin(state[..., 2]) * dvds[..., 1]) + self.omega_max * torch.abs(dvds[..., 2])\n",
        "\n",
        "    def optimal_control(self, state, dvds):\n",
        "        if self.set_mode == 'reach':\n",
        "            return (-self.omega_max*torch.sign(dvds[..., 2]))[..., None]\n",
        "        elif self.set_mode == 'avoid':\n",
        "            return (self.omega_max*torch.sign(dvds[..., 2]))[..., None]\n",
        "\n",
        "    def optimal_disturbance(self, state, dvds):\n",
        "        return 0\n",
        "\n",
        "    def plot_config(self):\n",
        "        return {\n",
        "            'state_slices': [0, 0, 0],\n",
        "            'state_labels': ['x', 'y', r'$\\theta$'],\n",
        "            'x_axis_idx': 0,\n",
        "            'y_axis_idx': 1,\n",
        "            'z_axis_idx': 2,\n",
        "        }\n",
        "\n",
        "class Dubins4D(Dynamics):\n",
        "    def __init__(self, bound_mode:str):\n",
        "        self.vMin = 0.2\n",
        "        self.vMax = 14.8\n",
        "        self.collisionR = 1.5\n",
        "        self.bound_mode = bound_mode\n",
        "        assert self.bound_mode in ['v1', 'v2']\n",
        "\n",
        "        xMean = 0\n",
        "        yMean = 0\n",
        "        thetaMean = 0\n",
        "        vMean = 7.5\n",
        "        aMean = 0\n",
        "        oMean = 0\n",
        "\n",
        "        xVar = 10\n",
        "        yVar = 10\n",
        "        thetaVar = 1.2*math.pi\n",
        "        vVar = 7.5\n",
        "        aVar = 10\n",
        "        oVar = 3*math.pi if self.bound_mode == 'v1' else 2.0\n",
        "\n",
        "        super().__init__(\n",
        "            loss_type='brt_hjivi',\n",
        "            state_dim=14, input_dim=15,  control_dim=2, disturbance_dim=0,\n",
        "            state_mean=[xMean, yMean, thetaMean, vMean, xMean, yMean, aMean, aMean, oMean, oMean, aMean, aMean, oMean, oMean],\n",
        "            state_var=[xVar, yVar, thetaVar, vVar, xVar, yVar, aVar, aVar, oVar, oVar, aVar, aVar, oVar, oVar],\n",
        "            value_mean=13,\n",
        "            value_var=14,\n",
        "            value_normto=0.02,\n",
        "            deepreach_model=\"exact\",\n",
        "        )\n",
        "\n",
        "    def state_test_range(self):\n",
        "        return [\n",
        "            [-1, 1],\n",
        "            [-1, 1],\n",
        "            [-math.pi, math.pi],\n",
        "            [self.vMin, self.vMax],\n",
        "            [-1, 1],\n",
        "            [-1, 1],\n",
        "            [-1, 1],\n",
        "            [-1, 1],\n",
        "            [-1, 1],\n",
        "            [-1, 1],\n",
        "            [-1, 1],\n",
        "            [-1, 1],\n",
        "            [-1, 1],\n",
        "            [-1, 1],\n",
        "        ]\n",
        "\n",
        "    def equivalent_wrapped_state(self, state):\n",
        "        wrapped_state = torch.clone(state)\n",
        "        wrapped_state[..., 2] = (wrapped_state[..., 2] + math.pi) % (2*math.pi) - math.pi\n",
        "        return wrapped_state\n",
        "\n",
        "    def boundary_fn(self, state):\n",
        "        return torch.norm(state[..., 0:2] - state[..., 4:6], dim=-1) - self.collisionR\n",
        "\n",
        "    def sample_target_state(self, num_samples):\n",
        "        raise NotImplementedError\n",
        "\n",
        "    def cost_fn(self, state_traj):\n",
        "        raise NotImplementedError\n",
        "\n",
        "    def dsdt(self, state, control, disturbance):\n",
        "        raise NotImplementedError\n",
        "\n",
        "    def hamiltonian(self, state, dvds):\n",
        "        raise NotImplementedError\n",
        "\n",
        "    def optimal_control(self, state, dvds):\n",
        "        raise NotImplementedError\n",
        "\n",
        "    def optimal_disturbance(self, state, dvds):\n",
        "        raise NotImplementedError\n",
        "\n",
        "    def plot_config(self):\n",
        "        raise NotImplementedError\n",
        "\n",
        "class NarrowPassage(Dynamics):\n",
        "    def __init__(self, avoid_fn_weight:float, avoid_only:bool):\n",
        "        self.L = 2.0\n",
        "\n",
        "        # # Target positions\n",
        "        self.goalX = [6.0, -6.0]\n",
        "        self.goalY = [-1.4, 1.4]\n",
        "\n",
        "        # State bounds\n",
        "        self.vMin = 0.001\n",
        "        self.vMax = 6.50\n",
        "        self.phiMin = -0.3*math.pi + 0.001\n",
        "        self.phiMax = 0.3*math.pi - 0.001\n",
        "\n",
        "        # Control bounds\n",
        "        self.aMin = -4.0\n",
        "        self.aMax = 2.0\n",
        "        self.psiMin = -3.0*math.pi\n",
        "        self.psiMax = 3.0*math.pi\n",
        "\n",
        "        # Lower and upper curb positions (in the y direction)\n",
        "        self.curb_positions = [-2.8, 2.8]\n",
        "\n",
        "        # Stranded car position\n",
        "        self.stranded_car_pos = [0.0, -1.8]\n",
        "\n",
        "        self.avoid_fn_weight = avoid_fn_weight\n",
        "\n",
        "        self.avoid_only = avoid_only\n",
        "\n",
        "        super().__init__(\n",
        "            loss_type='brt_hjivi' if self.avoid_only else 'brat_hjivi', set_mode='avoid' if self.avoid_only else 'reach',\n",
        "            state_dim=10, input_dim=11, control_dim=4, disturbance_dim=0,\n",
        "            # state = [x1, y1, th1, v1, phi1, x2, y2, th2, v2, phi2]\n",
        "            state_mean=[\n",
        "                0, 0, 0, 3, 0,\n",
        "                0, 0, 0, 3, 0\n",
        "            ],\n",
        "            state_var=[\n",
        "                8.0, 3.8, 1.2*math.pi, 4.0, 1.2*0.3*math.pi,\n",
        "                8.0, 3.8, 1.2*math.pi, 4.0, 1.2*0.3*math.pi,\n",
        "            ],\n",
        "            value_mean=0.25*8.0,\n",
        "            value_var=0.5*8.0,\n",
        "            value_normto=0.02,\n",
        "            deepreach_model=\"exact\",\n",
        "        )\n",
        "\n",
        "    def state_test_range(self):\n",
        "        return [\n",
        "            [-8, 8],\n",
        "            [-3.8, 3.8],\n",
        "            [-math.pi, math.pi],\n",
        "            [-1, 7],\n",
        "            [-0.3*math.pi, 0.3*math.pi],\n",
        "            [-8, 8],\n",
        "            [-3.8, 3.8],\n",
        "            [-math.pi, math.pi],\n",
        "            [-1, 7],\n",
        "            [-0.3*math.pi, 0.3*math.pi],\n",
        "        ]\n",
        "\n",
        "    def equivalent_wrapped_state(self, state):\n",
        "        wrapped_state = torch.clone(state)\n",
        "        wrapped_state[..., 2] = (wrapped_state[..., 2] + math.pi) % (2*math.pi) - math.pi\n",
        "        wrapped_state[..., 4] = (wrapped_state[..., 4] + math.pi) % (2*math.pi) - math.pi\n",
        "        wrapped_state[..., 7] = (wrapped_state[..., 7] + math.pi) % (2*math.pi) - math.pi\n",
        "        wrapped_state[..., 9] = (wrapped_state[..., 9] + math.pi) % (2*math.pi) - math.pi\n",
        "        return wrapped_state\n",
        "\n",
        "    # NarrowPassage dynamics\n",
        "    # \\dot x   = v * cos(th)\n",
        "    # \\dot y   = v * sin(th)\n",
        "    # \\dot th  = v * tan(phi) / L\n",
        "    # \\dot v   = u1\n",
        "    # \\dot phi = u2\n",
        "    # \\dot x   = ...\n",
        "    # \\dot y   = ...\n",
        "    # \\dot th  = ...\n",
        "    # \\dot v   = ...\n",
        "    # \\dot phi = ...\n",
        "    def dsdt(self, state, control, disturbance):\n",
        "        dsdt = torch.zeros_like(state)\n",
        "        dsdt[..., 0] = state[..., 3]*torch.cos(state[..., 2])\n",
        "        dsdt[..., 1] = state[..., 3]*torch.sin(state[..., 2])\n",
        "        dsdt[..., 2] = state[..., 3]*torch.tan(state[..., 4]) / self.L\n",
        "        dsdt[..., 3] = control[..., 0]\n",
        "        dsdt[..., 4] = control[..., 1]\n",
        "        dsdt[..., 5] = state[..., 8]*torch.cos(state[..., 7])\n",
        "        dsdt[..., 6] = state[..., 8]*torch.sin(state[..., 7])\n",
        "        dsdt[..., 7] = state[..., 8]*torch.tan(state[..., 9]) / self.L\n",
        "        dsdt[..., 8] = control[..., 2]\n",
        "        dsdt[..., 9] = control[..., 3]\n",
        "        return dsdt\n",
        "\n",
        "    def reach_fn(self, state):\n",
        "        if self.avoid_only:\n",
        "            raise RuntimeError\n",
        "        # vehicle 1\n",
        "        goal_tensor_R1 = torch.tensor([self.goalX[0], self.goalY[0]], device=state.device)\n",
        "        dist_R1 = torch.norm(state[..., 0:2] - goal_tensor_R1, dim=-1) - self.L\n",
        "        # vehicle 2\n",
        "        goal_tensor_R2 = torch.tensor([self.goalX[1], self.goalY[1]], device=state.device)\n",
        "        dist_R2 = torch.norm(state[..., 5:7] - goal_tensor_R2, dim=-1) - self.L\n",
        "        return torch.maximum(dist_R1, dist_R2)\n",
        "\n",
        "    def avoid_fn(self, state):\n",
        "        # distance from lower curb\n",
        "        dist_lc_R1 = state[..., 1] - self.curb_positions[0] - 0.5*self.L\n",
        "        dist_lc_R2 = state[..., 6] - self.curb_positions[0] - 0.5*self.L\n",
        "        dist_lc = torch.minimum(dist_lc_R1, dist_lc_R2)\n",
        "\n",
        "        # distance from upper curb\n",
        "        dist_uc_R1 = self.curb_positions[1] - state[..., 1] - 0.5*self.L\n",
        "        dist_uc_R2 = self.curb_positions[1] - state[..., 6] - 0.5*self.L\n",
        "        dist_uc = torch.minimum(dist_uc_R1, dist_uc_R2)\n",
        "\n",
        "        # distance from the stranded car\n",
        "        stranded_car_pos = torch.tensor(self.stranded_car_pos, device=state.device)\n",
        "        dist_stranded_R1 = torch.norm(state[..., 0:2] - stranded_car_pos, dim=-1) - self.L\n",
        "        dist_stranded_R2 = torch.norm(state[..., 5:7] - stranded_car_pos, dim=-1) - self.L\n",
        "        dist_stranded = torch.minimum(dist_stranded_R1, dist_stranded_R2)\n",
        "\n",
        "        # distance between the vehicles themselves\n",
        "        dist_R1R2 = torch.norm(state[..., 0:2] - state[..., 5:7], dim=-1) - self.L\n",
        "\n",
        "        return self.avoid_fn_weight * torch.min(torch.min(torch.min(dist_lc, dist_uc), dist_stranded), dist_R1R2)\n",
        "\n",
        "    def boundary_fn(self, state):\n",
        "        if self.avoid_only:\n",
        "            return self.avoid_fn(state)\n",
        "        else:\n",
        "            return torch.maximum(self.reach_fn(state), -self.avoid_fn(state))\n",
        "\n",
        "    def sample_target_state(self, num_samples):\n",
        "        raise NotImplementedError\n",
        "\n",
        "    def cost_fn(self, state_traj):\n",
        "        if self.avoid_only:\n",
        "            return torch.min(self.avoid_fn(state_traj), dim=-1).values\n",
        "        else:\n",
        "            # return min_t max{l(x(t)), max_k_up_to_t{-g(x(k))}}, where l(x) is reach_fn, g(x) is avoid_fn\n",
        "            reach_values = self.reach_fn(state_traj)\n",
        "            avoid_values = self.avoid_fn(state_traj)\n",
        "            return torch.min(torch.maximum(reach_values, torch.cummax(-avoid_values, dim=-1).values), dim=-1).values\n",
        "\n",
        "    def hamiltonian(self, state, dvds):\n",
        "        optimal_control = self.optimal_control(state, dvds)\n",
        "        return state[..., 3] * torch.cos(state[..., 2]) * dvds[..., 0] + \\\n",
        "               state[..., 3] * torch.sin(state[..., 2]) * dvds[..., 1] + \\\n",
        "               state[..., 3] * torch.tan(state[..., 4]) * dvds[..., 2] / self.L + \\\n",
        "               optimal_control[..., 0] * dvds[..., 3] + \\\n",
        "               optimal_control[..., 1] * dvds[..., 4] + \\\n",
        "               state[..., 8] * torch.cos(state[..., 7]) * dvds[..., 5] + \\\n",
        "               state[..., 8] * torch.sin(state[..., 7]) * dvds[..., 6] + \\\n",
        "               state[..., 8] * torch.tan(state[..., 9]) * dvds[..., 7] / self.L + \\\n",
        "               optimal_control[..., 2] * dvds[..., 8] + \\\n",
        "               optimal_control[..., 3] * dvds[..., 9]\n",
        "\n",
        "    def optimal_control(self, state, dvds):\n",
        "        a1_min = self.aMin * (state[..., 3] > self.vMin)\n",
        "        a1_max = self.aMax * (state[..., 3] < self.vMax)\n",
        "        psi1_min = self.psiMin * (state[..., 4] > self.phiMin)\n",
        "        psi1_max = self.psiMax * (state[..., 4] < self.phiMax)\n",
        "        a2_min = self.aMin * (state[..., 8] > self.vMin)\n",
        "        a2_max = self.aMax * (state[..., 8] < self.vMax)\n",
        "        psi2_min = self.psiMin * (state[..., 9] > self.phiMin)\n",
        "        psi2_max = self.psiMax * (state[..., 9] < self.phiMax)\n",
        "\n",
        "        if self.avoid_only:\n",
        "            a1 = torch.where(dvds[..., 3] < 0, a1_min, a1_max)\n",
        "            psi1 = torch.where(dvds[..., 4] < 0, psi1_min, psi1_max)\n",
        "            a2 = torch.where(dvds[..., 8] < 0, a2_min, a2_max)\n",
        "            psi2 = torch.where(dvds[..., 9] < 0, psi2_min, psi2_max)\n",
        "\n",
        "        else:\n",
        "            a1 = torch.where(dvds[..., 3] > 0, a1_min, a1_max)\n",
        "            psi1 = torch.where(dvds[..., 4] > 0, psi1_min, psi1_max)\n",
        "            a2 = torch.where(dvds[..., 8] > 0, a2_min, a2_max)\n",
        "            psi2 = torch.where(dvds[..., 9] > 0, psi2_min, psi2_max)\n",
        "\n",
        "        return torch.cat((a1[..., None], psi1[..., None], a2[..., None], psi2[..., None]), dim=-1)\n",
        "\n",
        "    def optimal_disturbance(self, state, dvds):\n",
        "        return 0\n",
        "\n",
        "    def plot_config(self):\n",
        "        return {\n",
        "            'state_slices': [\n",
        "                -6.0, -1.4, 0.0, 6.5, 0.0,\n",
        "                -6.0, 1.4, -math.pi, 0.0, 0.0\n",
        "            ],\n",
        "            'state_labels': [\n",
        "                r'$x_1$', r'$y_1$', r'$\\theta_1$', r'$v_1$', r'$\\phi_1$',\n",
        "                r'$x_2$', r'$y_2$', r'$\\theta_2$', r'$v_2$', r'$\\phi_2$',\n",
        "            ],\n",
        "            'x_axis_idx': 0,\n",
        "            'y_axis_idx': 1,\n",
        "            'z_axis_idx': 2,\n",
        "        }\n",
        "\n",
        "class ReachAvoidRocketLanding(Dynamics):\n",
        "    def __init__(self):\n",
        "        super().__init__(\n",
        "            loss_type='brat_hjivi', set_mode='reach',\n",
        "            state_dim=6, input_dim=7, control_dim=2, disturbance_dim=0,\n",
        "            state_mean=[0.0, 80.0, 0.0, 0.0, 0.0, 0.0],\n",
        "            state_var=[150.0, 70.0, 1.2*math.pi, 200.0, 200.0, 10.0],\n",
        "            value_mean=0.0,\n",
        "            value_var=1.0,\n",
        "            value_normto=0.02,\n",
        "            deepreach_model=\"exact\",\n",
        "        )\n",
        "\n",
        "    def state_test_range(self):\n",
        "        return [\n",
        "            [-150, 150],\n",
        "            [10, 150],\n",
        "            [-math.pi, math.pi],\n",
        "            [-200, 200],\n",
        "            [-200, 200],\n",
        "            [-10, 10],\n",
        "        ]\n",
        "\n",
        "    def equivalent_wrapped_state(self, state):\n",
        "        wrapped_state = torch.clone(state)\n",
        "        wrapped_state[..., 2] = (wrapped_state[..., 2] + math.pi) % (2*math.pi) - math.pi\n",
        "        return wrapped_state\n",
        "\n",
        "    # \\dot x = v_x\n",
        "    # \\dot y = v_y\n",
        "    # \\dot th = w\n",
        "    # \\dot v_x = u1 * cos(th) - u2 sin(th)\n",
        "    # \\dot v_y = u1 * sin(th) + u2 cos(th) - 9.81\n",
        "    # \\dot w = 0.3 * u1\n",
        "    def dsdt(self, state, control, disturbance):\n",
        "        dsdt = torch.zeros_like(state)\n",
        "        dsdt[..., 0] = state[..., 3]\n",
        "        dsdt[..., 1] = state[..., 4]\n",
        "        dsdt[..., 2] = state[..., 5]\n",
        "        dsdt[..., 3] = control[..., 0]*torch.cos(state[..., 2]) - control[..., 1]*torch.sin(state[..., 2])\n",
        "        dsdt[..., 4] = control[..., 0]*torch.sin(state[..., 2]) + control[..., 1]*torch.cos(state[..., 2]) - 9.81\n",
        "        dsdt[..., 5] = 0.3*control[..., 0]\n",
        "        return dsdt\n",
        "\n",
        "    def reach_fn(self, state):\n",
        "        # Only target set in the xy direction\n",
        "        # Target set position in x direction\n",
        "        dist_x = torch.abs(state[..., 0]) - 20.0 #[-20, 150] boundary_fn range\n",
        "\n",
        "        # Target set position in y direction\n",
        "        dist_y = state[..., 1] - 20.0  #[-10, 130] boundary_fn range\n",
        "\n",
        "        # First compute the target function as you normally would but then normalize it later.\n",
        "        max_dist = torch.max(dist_x, dist_y)\n",
        "        return torch.where((max_dist >= 0), max_dist/150.0, max_dist/10.0)\n",
        "\n",
        "    def avoid_fn(self, state):\n",
        "        # distance to floor\n",
        "        dist_y = state[..., 1]\n",
        "\n",
        "        # distance to wall\n",
        "        wall_left = -30\n",
        "        wall_right = -20\n",
        "        wall_bottom = 0\n",
        "        wall_top = 100\n",
        "        dist_left = wall_left - state[..., 0]\n",
        "        dist_right = state[..., 0] - wall_right\n",
        "        dist_bottom = wall_bottom - state[..., 1]\n",
        "        dist_top = state[..., 1] - wall_top\n",
        "        dist_wall_x = torch.max(dist_left, dist_right)\n",
        "        dist_wall_y = torch.max(dist_bottom, dist_top)\n",
        "        dist_wall = torch.norm(torch.cat((torch.max(torch.tensor(0), dist_wall_x).unsqueeze(-1), torch.max(torch.tensor(0), dist_wall_y).unsqueeze(-1)), dim=-1), dim=-1) + torch.min(torch.tensor(0), torch.max(dist_wall_x, dist_wall_y))\n",
        "\n",
        "        return torch.min(dist_y, dist_wall)\n",
        "\n",
        "    def boundary_fn(self, state):\n",
        "        return torch.maximum(self.reach_fn(state), -self.avoid_fn(state))\n",
        "\n",
        "    def sample_target_state(self, num_samples):\n",
        "        target_state_range = self.state_test_range()\n",
        "        target_state_range[0] = [-20, 20] # y in [-20, 20]\n",
        "        target_state_range[1] = [10, 20]  # z in [10, 20]\n",
        "        target_state_range = torch.tensor(target_state_range)\n",
        "        return target_state_range[:, 0] + torch.rand(num_samples, self.state_dim)*(target_state_range[:, 1] - target_state_range[:, 0])\n",
        "\n",
        "    def cost_fn(self, state_traj):\n",
        "        # return min_t max{l(x(t)), max_k_up_to_t{-g(x(k))}}, where l(x) is reach_fn, g(x) is avoid_fn\n",
        "        reach_values = self.reach_fn(state_traj)\n",
        "        avoid_values = self.avoid_fn(state_traj)\n",
        "        return torch.min(torch.maximum(reach_values, torch.cummax(-avoid_values, dim=-1).values), dim=-1).values\n",
        "\n",
        "    def hamiltonian(self, state, dvds):\n",
        "        # Control Hamiltonian\n",
        "        u1_coeff = dvds[..., 3] * torch.cos(state[..., 2]) + dvds[..., 4] * torch.sin(state[..., 2]) + 0.3 * dvds[..., 5]\n",
        "        u2_coeff = -dvds[..., 3] * torch.sin(state[..., 2]) + dvds[..., 4] * torch.cos(state[..., 2])\n",
        "        ham_ctrl = -250.0 * torch.sqrt(u1_coeff * u1_coeff + u2_coeff * u2_coeff)\n",
        "        # Constant Hamiltonian\n",
        "        ham_constant = dvds[..., 0] * state[..., 3] + dvds[..., 1] * state[..., 4] + \\\n",
        "                      dvds[..., 2] * state[..., 5]  - dvds[..., 4] * 9.81\n",
        "        # Compute the Hamiltonian\n",
        "        ham_vehicle = ham_ctrl + ham_constant\n",
        "        return ham_vehicle\n",
        "\n",
        "    def optimal_control(self, state, dvds):\n",
        "        u1_coeff = dvds[..., 3] * torch.cos(state[..., 2]) + dvds[..., 4] * torch.sin(state[..., 2]) + 0.3 * dvds[..., 5]\n",
        "        u2_coeff = -dvds[..., 3] * torch.sin(state[..., 2]) + dvds[..., 4] * torch.cos(state[..., 2])\n",
        "        opt_angle = torch.atan2(u2_coeff, u1_coeff) + math.pi\n",
        "        return torch.cat((250.0 * torch.cos(opt_angle)[..., None], 250.0 * torch.sin(opt_angle)[..., None]), dim=-1)\n",
        "\n",
        "    def optimal_disturbance(self, state, dvds):\n",
        "        return 0\n",
        "\n",
        "    def plot_config(self):\n",
        "        return {\n",
        "            'state_slices': [-100, 120, 0, 150, -5, 0.0],\n",
        "            'state_labels': ['x', 'y', r'$\\theta$', r'$v_x$', r'$v_y$', r'$\\omega'],\n",
        "            'x_axis_idx': 0,\n",
        "            'y_axis_idx': 1,\n",
        "            'z_axis_idx': 4,\n",
        "        }\n",
        "\n",
        "class RocketLanding(Dynamics):\n",
        "    def __init__(self):\n",
        "        super().__init__(\n",
        "            loss_type='brt_hjivi', set_mode='reach',\n",
        "            state_dim=6, input_dim=8, control_dim=2, disturbance_dim=0,\n",
        "            state_mean=[0.0, 80.0, 0.0, 0.0, 0.0, 0.0],\n",
        "            state_var=[150.0, 70.0, 1.2*math.pi, 200.0, 200.0, 10.0],\n",
        "            value_mean=0.0,\n",
        "            value_var=1.0,\n",
        "            value_normto=0.02,\n",
        "            deepreach_model=\"exact\",\n",
        "        )\n",
        "\n",
        "    # convert model input to real coord\n",
        "    def input_to_coord(self, input):\n",
        "        input = input[..., :-1]\n",
        "        coord = input.clone()\n",
        "        coord[..., 1:] = (input[..., 1:] * self.state_var.to(device=input.device)) + self.state_mean.to(device=input.device)\n",
        "        return coord\n",
        "\n",
        "    # convert real coord to model input\n",
        "    def coord_to_input(self, coord):\n",
        "        input = coord.clone()\n",
        "        input[..., 1:] = (coord[..., 1:] - self.state_mean.to(device=coord.device)) / self.state_var.to(device=coord.device)\n",
        "        input = torch.cat((input, torch.zeros((*input.shape[:-1], 1), device=input.device)), dim=-1)\n",
        "        return input\n",
        "\n",
        "    # convert model io to real value\n",
        "    def io_to_value(self, input, output):\n",
        "        if self.deepreach_model==\"diff\":\n",
        "            return (output * self.value_var / self.value_normto) + self.boundary_fn(self.input_to_coord(input)[..., 1:])\n",
        "        else:\n",
        "            return (output * self.value_var / self.value_normto) + self.value_mean\n",
        "\n",
        "    # convert model io to real dv\n",
        "    def io_to_dv(self, input, output):\n",
        "        dodi = jacobian(output.unsqueeze(dim=-1), input)[0].squeeze(dim=-2)[..., :-1]\n",
        "\n",
        "        if self.deepreach_model==\"diff\":\n",
        "            dvdt = (self.value_var / self.value_normto) * dodi[..., 0]\n",
        "\n",
        "            dvds_term1 = (self.value_var / self.value_normto / self.state_var.to(device=dodi.device)) * dodi[..., 1:]\n",
        "            state = self.input_to_coord(input)[..., 1:]\n",
        "            dvds_term2 = jacobian(self.boundary_fn(state).unsqueeze(dim=-1), state)[0].squeeze(dim=-2)\n",
        "            dvds = dvds_term1 + dvds_term2\n",
        "\n",
        "        else:\n",
        "            dvdt = (self.value_var / self.value_normto) * dodi[..., 0]\n",
        "            dvds = (self.value_var / self.value_normto / self.state_var.to(device=dodi.device)) * dodi[..., 1:]\n",
        "\n",
        "        return torch.cat((dvdt.unsqueeze(dim=-1), dvds), dim=-1)\n",
        "\n",
        "\n",
        "    def state_test_range(self):\n",
        "        return [\n",
        "            [-150, 150],\n",
        "            [10, 150],\n",
        "            [-math.pi, math.pi],\n",
        "            [-200, 200],\n",
        "            [-200, 200],\n",
        "            [-10, 10],\n",
        "        ]\n",
        "\n",
        "    def equivalent_wrapped_state(self, state):\n",
        "        wrapped_state = torch.clone(state)\n",
        "        wrapped_state[..., 2] = (wrapped_state[..., 2] + math.pi) % (2*math.pi) - math.pi\n",
        "        return wrapped_state\n",
        "\n",
        "    # \\dot x = v_x\n",
        "    # \\dot y = v_y\n",
        "    # \\dot th = w\n",
        "    # \\dot v_x = u1 * cos(th) - u2 sin(th)\n",
        "    # \\dot v_y = u1 * sin(th) + u2 cos(th) - 9.81\n",
        "    # \\dot w = 0.3 * u1\n",
        "    def dsdt(self, state, control, disturbance):\n",
        "        dsdt = torch.zeros_like(state)\n",
        "        dsdt[..., 0] = state[..., 3]\n",
        "        dsdt[..., 1] = state[..., 4]\n",
        "        dsdt[..., 2] = state[..., 5]\n",
        "        dsdt[..., 3] = control[..., 0]*torch.cos(state[..., 2]) - control[..., 1]*torch.sin(state[..., 2])\n",
        "        dsdt[..., 4] = control[..., 0]*torch.sin(state[..., 2]) + control[..., 1]*torch.cos(state[..., 2]) - 9.81\n",
        "        dsdt[..., 5] = 0.3*control[..., 0]\n",
        "        return dsdt\n",
        "\n",
        "    def boundary_fn(self, state):\n",
        "        # Only target set in the yz direction\n",
        "        # Target set position in y direction\n",
        "        dist_y = torch.abs(state[..., 0]) - 20.0 #[-20, 150] boundary_fn range\n",
        "\n",
        "        # Target set position in z direction\n",
        "        dist_z = state[..., 1] - 20.0  #[-10, 130] boundary_fn range\n",
        "\n",
        "        # First compute the l(x) as you normally would but then normalize it later.\n",
        "        lx = torch.max(dist_y, dist_z)\n",
        "        return torch.where((lx >= 0), lx/150.0, lx/10.0)\n",
        "\n",
        "    def sample_target_state(self, num_samples):\n",
        "        target_state_range = self.state_test_range()\n",
        "        target_state_range[0] = [-20, 20] # y in [-20, 20]\n",
        "        target_state_range[1] = [10, 20]  # z in [10, 20]\n",
        "        target_state_range = torch.tensor(target_state_range)\n",
        "        return target_state_range[:, 0] + torch.rand(num_samples, self.state_dim)*(target_state_range[:, 1] - target_state_range[:, 0])\n",
        "\n",
        "    def cost_fn(self, state_traj):\n",
        "        return torch.min(self.boundary_fn(state_traj), dim=-1).values\n",
        "\n",
        "    def hamiltonian(self, state, dvds):\n",
        "        # Control Hamiltonian\n",
        "        u1_coeff = dvds[..., 3] * torch.cos(state[..., 2]) + dvds[..., 4] * torch.sin(state[..., 2]) + 0.3 * dvds[..., 5]\n",
        "        u2_coeff = -dvds[..., 3] * torch.sin(state[..., 2]) + dvds[..., 4] * torch.cos(state[..., 2])\n",
        "        ham_ctrl = -250.0 * torch.sqrt(u1_coeff * u1_coeff + u2_coeff * u2_coeff)\n",
        "        # Constant Hamiltonian\n",
        "        ham_constant = dvds[..., 0] * state[..., 3] + dvds[..., 1] * state[..., 4] + \\\n",
        "                      dvds[..., 2] * state[..., 5]  - dvds[..., 4] * 9.81\n",
        "        # Compute the Hamiltonian\n",
        "        ham_vehicle = ham_ctrl + ham_constant\n",
        "        return ham_vehicle\n",
        "\n",
        "    def optimal_control(self, state, dvds):\n",
        "        u1_coeff = dvds[..., 3] * torch.cos(state[..., 2]) + dvds[..., 4] * torch.sin(state[..., 2]) + 0.3 * dvds[..., 5]\n",
        "        u2_coeff = -dvds[..., 3] * torch.sin(state[..., 2]) + dvds[..., 4] * torch.cos(state[..., 2])\n",
        "        opt_angle = torch.atan2(u2_coeff, u1_coeff) + math.pi\n",
        "        return torch.cat((250.0 * torch.cos(opt_angle)[..., None], 250.0 * torch.sin(opt_angle)[..., None]), dim=-1)\n",
        "\n",
        "    def optimal_disturbance(self, state, dvds):\n",
        "        return 0\n",
        "\n",
        "    def plot_config(self):\n",
        "        return {\n",
        "            'state_slices': [-100, 120, 0, 150, -5, 0.0],\n",
        "            'state_labels': ['x', 'y', r'$\\theta$', r'$v_x$', r'$v_y$', r'$\\omega'],\n",
        "            'x_axis_idx': 0,\n",
        "            'y_axis_idx': 1,\n",
        "            'z_axis_idx': 4,\n",
        "        }\n",
        "\n",
        "class Quadrotor(Dynamics):\n",
        "    def __init__(self, collisionR:float, thrust_max:float, set_mode:str):\n",
        "        self.thrust_max = thrust_max\n",
        "        self.m=1 #mass\n",
        "        self.arm_l=0.17\n",
        "        self.CT=1\n",
        "        self.CM=0.016\n",
        "        self.Gz=-9.8\n",
        "\n",
        "        self.thrust_max = thrust_max\n",
        "        self.collisionR = collisionR\n",
        "\n",
        "\n",
        "        super().__init__(\n",
        "            loss_type='brt_hjivi', set_mode=set_mode,\n",
        "            state_dim=13, input_dim=14, control_dim=4, disturbance_dim=0,\n",
        "            state_mean=[0 for i in range(13)],\n",
        "            state_var=[1.5, 1.5, 1.5, 1, 1, 1, 1, 10, 10 ,10 ,10 ,10 ,10],\n",
        "            value_mean=(math.sqrt(1.5**2+1.5**2+1.5**2)-2*self.collisionR)/2,\n",
        "            value_var=math.sqrt(1.5**2+1.5**2+1.5**2),\n",
        "            value_normto=0.02,\n",
        "            deepreach_model=\"exact\"\n",
        "        )\n",
        "\n",
        "    def state_test_range(self):\n",
        "        return [\n",
        "            [-1.5, 1.5],\n",
        "            [-1.5, 1.5],\n",
        "            [-1.5, 1.5],\n",
        "            [-1, 1],\n",
        "            [-1, 1],\n",
        "            [-1, 1],\n",
        "            [-1, 1],\n",
        "            [-10, 10],\n",
        "            [-10, 10],\n",
        "            [-10, 10],\n",
        "            [-10, 10],\n",
        "            [-10, 10],\n",
        "            [-10, 10],\n",
        "        ]\n",
        "\n",
        "    def equivalent_wrapped_state(self, state):\n",
        "        wrapped_state = torch.clone(state)\n",
        "        return wrapped_state\n",
        "\n",
        "    # Dubins3D dynamics\n",
        "    # \\dot x    = v \\cos \\theta\n",
        "    # \\dot y    = v \\sin \\theta\n",
        "    # \\dot \\theta = u\n",
        "    def dsdt(self, state, control, disturbance):\n",
        "        qw = state[..., 3] * 1.0\n",
        "        qx = state[..., 4] * 1.0\n",
        "        qy = state[..., 5] * 1.0\n",
        "        qz = state[..., 6] * 1.0\n",
        "        vx = state[..., 7] * 1.0\n",
        "        vy = state[..., 8] * 1.0\n",
        "        vz = state[..., 9] * 1.0\n",
        "        wx = state[..., 10] * 1.0\n",
        "        wy = state[..., 11] * 1.0\n",
        "        wz = state[..., 12] * 1.0\n",
        "        u1 = control[...,0] * 1.0\n",
        "        u2 = control[...,1] * 1.0\n",
        "        u3 = control[...,2] * 1.0\n",
        "        u4 = control[...,3] * 1.0\n",
        "\n",
        "\n",
        "        dsdt = torch.zeros_like(state)\n",
        "        dsdt[..., 0] = vx\n",
        "        dsdt[..., 1] = vy\n",
        "        dsdt[..., 2] = vz\n",
        "        dsdt[..., 3] = -(wx*qx+wy*qy+wz*qz)/2.0\n",
        "        dsdt[..., 4] =  (wx*qw+wz*qy-wy*qz)/2.0\n",
        "        dsdt[..., 5] = (wy*qw-wz*qx+wx*qz)/2.0\n",
        "        dsdt[..., 6] = (wz*qw+wy*qx-wx*qy)/2.0\n",
        "        dsdt[..., 7] = 2*(qw*qy+qx*qz)*self.CT/self.m*(u1+u2+u3+u4)\n",
        "        dsdt[..., 8] =2*(-qw*qx+qy*qz)*self.CT/self.m*(u1+u2+u3+u4)\n",
        "        dsdt[..., 9] =self.Gz+(1-2*torch.pow(qx,2)-2*torch.pow(qy,2))*self.CT/self.m*(u1+u2+u3+u4)\n",
        "        dsdt[..., 10] = 4*math.sqrt(2)*self.CT*(u1-u2-u3+u4)/(3*self.arm_l*self.m)-5*wy*wz/9.0\n",
        "        dsdt[..., 11] = 4*math.sqrt(2)*self.CT*(-u1-u2+u3+u4)/(3*self.arm_l*self.m)+5*wx*wz/9.0\n",
        "        dsdt[..., 12] =12*self.CT*self.CM/(7*self.arm_l**2*self.m)*(u1-u2+u3-u4)\n",
        "        return dsdt\n",
        "\n",
        "    def boundary_fn(self, state):\n",
        "        return torch.norm(state[..., :3], dim=-1) - self.collisionR\n",
        "\n",
        "    def sample_target_state(self, num_samples):\n",
        "        raise NotImplementedError\n",
        "\n",
        "    def cost_fn(self, state_traj):\n",
        "        return torch.min(self.boundary_fn(state_traj), dim=-1).values\n",
        "\n",
        "    def hamiltonian(self, state, dvds):\n",
        "        if self.set_mode == 'reach':\n",
        "            raise NotImplementedError\n",
        "\n",
        "        elif self.set_mode == 'avoid':\n",
        "            qw = state[..., 3] * 1.0\n",
        "            qx = state[..., 4] * 1.0\n",
        "            qy = state[..., 5] * 1.0\n",
        "            qz = state[..., 6] * 1.0\n",
        "            vx = state[..., 7] * 1.0\n",
        "            vy = state[..., 8] * 1.0\n",
        "            vz = state[..., 9] * 1.0\n",
        "            wx = state[..., 10] * 1.0\n",
        "            wy = state[..., 11] * 1.0\n",
        "            wz = state[..., 12] * 1.0\n",
        "\n",
        "\n",
        "            C1=2*(qw*qy+qx*qz)*self.CT/self.m\n",
        "            C2=2*(-qw*qx+qy*qz)*self.CT/self.m\n",
        "            C3=(1-2*torch.pow(qx,2)-2*torch.pow(qy,2))*self.CT/self.m\n",
        "            C4=4*math.sqrt(2)*self.CT/(3*self.arm_l*self.m)\n",
        "            C5=4*math.sqrt(2)*self.CT/(3*self.arm_l*self.m)\n",
        "            C6=12*self.CT*self.CM/(7*self.arm_l**2*self.m)\n",
        "\n",
        "            # Compute the hamiltonian for the quadrotor\n",
        "            ham= dvds[..., 0]*vx + dvds[..., 1]*vy+ dvds[..., 2]*vz\n",
        "            ham+= -dvds[..., 3]* (wx*qx+wy*qy+wz*qz)/2.0\n",
        "            ham+= dvds[..., 4]*(wx*qw+wz*qy-wy*qz)/2.0\n",
        "            ham+= dvds[..., 5]*(wy*qw-wz*qx+wx*qz)/2.0\n",
        "            ham+= dvds[..., 6]*(wz*qw+wy*qx-wx*qy)/2.0\n",
        "            ham+= dvds[..., 9]*-9.8\n",
        "            ham+= -dvds[..., 10]*5*wy*wz/9.0+ dvds[..., 11]*5*wx*wz/9.0\n",
        "\n",
        "            ham+=torch.abs(dvds[..., 7]*C1+dvds[..., 8]*C2+dvds[..., 9]*C3\n",
        "                +dvds[..., 10]*C4-dvds[..., 11]*C5+dvds[..., 12]*C6)*self.thrust_max\n",
        "\n",
        "            ham+=torch.abs(dvds[..., 7]*C1+dvds[..., 8]*C2+dvds[..., 9]*C3\n",
        "                -dvds[..., 10]*C4-dvds[..., 11]*C5-dvds[..., 12]*C6)*self.thrust_max\n",
        "\n",
        "            ham+=torch.abs(dvds[..., 7]*C1+dvds[..., 8]*C2+dvds[..., 9]*C3\n",
        "                -dvds[..., 10]*C4+dvds[..., 11]*C5+dvds[..., 12]*C6)*self.thrust_max\n",
        "\n",
        "            ham+=torch.abs(dvds[..., 7]*C1+dvds[..., 8]*C2+dvds[..., 9]*C3\n",
        "                +dvds[..., 10]*C4+dvds[..., 11]*C5-dvds[..., 12]*C6)*self.thrust_max\n",
        "\n",
        "            return ham\n",
        "\n",
        "    def optimal_control(self, state, dvds):\n",
        "        if self.set_mode == 'reach':\n",
        "            raise NotImplementedError\n",
        "        elif self.set_mode == 'avoid':\n",
        "            qw = state[..., 3] * 1.0\n",
        "            qx = state[..., 4] * 1.0\n",
        "            qy = state[..., 5] * 1.0\n",
        "            qz = state[..., 6] * 1.0\n",
        "\n",
        "\n",
        "            C1=2*(qw*qy+qx*qz)*self.CT/self.m\n",
        "            C2=2*(-qw*qx+qy*qz)*self.CT/self.m\n",
        "            C3=(1-2*torch.pow(qx,2)-2*torch.pow(qy,2))*self.CT/self.m\n",
        "            C4=4*math.sqrt(2)*self.CT/(3*self.arm_l*self.m)\n",
        "            C5=4*math.sqrt(2)*self.CT/(3*self.arm_l*self.m)\n",
        "            C6=12*self.CT*self.CM/(7*self.arm_l**2*self.m)\n",
        "\n",
        "\n",
        "            u1=self.thrust_max*torch.sign(dvds[..., 7]*C1+dvds[..., 8]*C2+dvds[..., 9]*C3\n",
        "                +dvds[..., 10]*C4-dvds[..., 11]*C5+dvds[..., 12]*C6)\n",
        "            u2=self.thrust_max*torch.sign(dvds[..., 7]*C1+dvds[..., 8]*C2+dvds[..., 9]*C3\n",
        "                -dvds[..., 10]*C4-dvds[..., 11]*C5-dvds[..., 12]*C6)\n",
        "            u3=self.thrust_max*torch.sign(dvds[..., 7]*C1+dvds[..., 8]*C2+dvds[..., 9]*C3\n",
        "                -dvds[..., 10]*C4+dvds[..., 11]*C5+dvds[..., 12]*C6)\n",
        "            u4=self.thrust_max*torch.sign(dvds[..., 7]*C1+dvds[..., 8]*C2+dvds[..., 9]*C3\n",
        "                +dvds[..., 10]*C4+dvds[..., 11]*C5-dvds[..., 12]*C6)\n",
        "\n",
        "        return torch.cat((u1[..., None], u2[..., None], u3[..., None], u4[..., None]), dim=-1)\n",
        "\n",
        "    def optimal_disturbance(self, state, dvds):\n",
        "        return 0\n",
        "\n",
        "    def plot_config(self):\n",
        "        return {\n",
        "            'state_slices': [0, 0, 0, 1, 0, 0, 0, 0, 0, 0, 0, 0, 0],\n",
        "            'state_labels': ['x', 'y', 'z', 'qw', 'qx', 'qy', 'qz', 'vx', 'vy', 'vz', 'wx', 'wy', 'wz'],\n",
        "            'x_axis_idx': 0,\n",
        "            'y_axis_idx': 2,\n",
        "            'z_axis_idx': 7,\n",
        "        }\n",
        "\n",
        "class MultiVehicleCollision(Dynamics):\n",
        "    def __init__(self):\n",
        "        self.angle_alpha_factor = 1.2\n",
        "        self.velocity = 0.6\n",
        "        self.omega_max = 1.1\n",
        "        self.collisionR = 0.25\n",
        "        super().__init__(\n",
        "            loss_type='brt_hjivi', set_mode='avoid',\n",
        "            state_dim=9, input_dim=10, control_dim=3, disturbance_dim=0,\n",
        "            state_mean=[\n",
        "                0, 0,\n",
        "                0, 0,\n",
        "                0, 0,\n",
        "                0, 0, 0,\n",
        "            ],\n",
        "            state_var=[\n",
        "                1, 1,\n",
        "                1, 1,\n",
        "                1, 1,\n",
        "                self.angle_alpha_factor*math.pi, self.angle_alpha_factor*math.pi, self.angle_alpha_factor*math.pi,\n",
        "            ],\n",
        "            value_mean=0.25,\n",
        "            value_var=0.5,\n",
        "            value_normto=0.02,\n",
        "            deepreach_model=\"exact\"\n",
        "        )\n",
        "\n",
        "    def state_test_range(self):\n",
        "        return [\n",
        "            [-1, 1], [-1, 1],\n",
        "            [-1, 1], [-1, 1],\n",
        "            [-1, 1], [-1, 1],\n",
        "            [-math.pi, math.pi], [-math.pi, math.pi], [-math.pi, math.pi],\n",
        "        ]\n",
        "\n",
        "    def equivalent_wrapped_state(self, state):\n",
        "        wrapped_state = torch.clone(state)\n",
        "        wrapped_state[..., 6] = (wrapped_state[..., 6] + math.pi) % (2*math.pi) - math.pi\n",
        "        wrapped_state[..., 7] = (wrapped_state[..., 7] + math.pi) % (2*math.pi) - math.pi\n",
        "        wrapped_state[..., 8] = (wrapped_state[..., 8] + math.pi) % (2*math.pi) - math.pi\n",
        "        return wrapped_state\n",
        "\n",
        "    # dynamics (per car)\n",
        "    # \\dot x    = v \\cos \\theta\n",
        "    # \\dot y    = v \\sin \\theta\n",
        "    # \\dot \\theta = u\n",
        "    def dsdt(self, state, control, disturbance):\n",
        "        dsdt = torch.zeros_like(state)\n",
        "        dsdt[..., 0] = self.velocity*torch.cos(state[..., 6])\n",
        "        dsdt[..., 1] = self.velocity*torch.sin(state[..., 6])\n",
        "        dsdt[..., 2] = self.velocity*torch.cos(state[..., 7])\n",
        "        dsdt[..., 3] = self.velocity*torch.sin(state[..., 7])\n",
        "        dsdt[..., 4] = self.velocity*torch.cos(state[..., 8])\n",
        "        dsdt[..., 5] = self.velocity*torch.sin(state[..., 8])\n",
        "        dsdt[..., 6] = control[..., 0]\n",
        "        dsdt[..., 7] = control[..., 1]\n",
        "        dsdt[..., 8] = control[..., 2]\n",
        "        return dsdt\n",
        "\n",
        "    def boundary_fn(self, state):\n",
        "        boundary_values = torch.norm(state[..., 0:2] - state[..., 2:4], dim=-1) - self.collisionR\n",
        "        for i in range(1, 2):\n",
        "            boundary_values_current = torch.norm(state[..., 0:2] - state[..., 2*(i+1):2*(i+1)+2], dim=-1) - self.collisionR\n",
        "            boundary_values = torch.min(boundary_values, boundary_values_current)\n",
        "        # Collision cost between the evaders themselves\n",
        "        for i in range(2):\n",
        "            for j in range(i+1, 2):\n",
        "                evader1_coords_index = (i+1)*2\n",
        "                evader2_coords_index = (j+1)*2\n",
        "                boundary_values_current = torch.norm(state[..., evader1_coords_index:evader1_coords_index+2] - state[..., evader2_coords_index:evader2_coords_index+2], dim=-1) - self.collisionR\n",
        "                boundary_values = torch.min(boundary_values, boundary_values_current)\n",
        "        return boundary_values\n",
        "\n",
        "    def sample_target_state(self, num_samples):\n",
        "        raise NotImplementedError\n",
        "\n",
        "    def cost_fn(self, state_traj):\n",
        "        return torch.min(self.boundary_fn(state_traj), dim=-1).values\n",
        "\n",
        "    def hamiltonian(self, state, dvds):\n",
        "        # Compute the hamiltonian for the ego vehicle\n",
        "        ham = self.velocity*(torch.cos(state[..., 6]) * dvds[..., 0] + torch.sin(state[..., 6]) * dvds[..., 1]) + self.omega_max * torch.abs(dvds[..., 6])\n",
        "        # Hamiltonian effect due to other vehicles\n",
        "        ham += self.velocity*(torch.cos(state[..., 7]) * dvds[..., 2] + torch.sin(state[..., 7]) * dvds[..., 3]) + self.omega_max * torch.abs(dvds[..., 7])\n",
        "        ham += self.velocity*(torch.cos(state[..., 8]) * dvds[..., 4] + torch.sin(state[..., 8]) * dvds[..., 5]) + self.omega_max * torch.abs(dvds[..., 8])\n",
        "        return ham\n",
        "\n",
        "    def optimal_control(self, state, dvds):\n",
        "        return self.omega_max*torch.sign(dvds[..., [6, 7, 8]])\n",
        "\n",
        "    def optimal_disturbance(self, state, dvds):\n",
        "        return 0\n",
        "\n",
        "    def plot_config(self):\n",
        "        return {\n",
        "            'state_slices': [\n",
        "                0, 0,\n",
        "                -0.4, 0,\n",
        "                0.4, 0,\n",
        "                math.pi/2, math.pi/4, 3*math.pi/4,\n",
        "            ],\n",
        "            'state_labels': [\n",
        "                r'$x_1$', r'$y_1$',\n",
        "                r'$x_2$', r'$y_2$',\n",
        "                r'$x_3$', r'$y_3$',\n",
        "                r'$\\theta_1$', r'$\\theta_2$', r'$\\theta_3$',\n",
        "            ],\n",
        "            'x_axis_idx': 0,\n",
        "            'y_axis_idx': 1,\n",
        "            'z_axis_idx': 6,\n",
        "        }\n",
        "\n",
        "###############################################################\n",
        "# Custom Dynamics for 2d Planar Robot\n",
        "###############################################################\n",
        "class PlanarRobot2D(Dynamics):\n",
        "    def __init__(\n",
        "        self,\n",
        "        goalR: float,\n",
        "        velocity: float,\n",
        "        set_mode: str = 'avoid',\n",
        "        freeze_model: bool = False\n",
        "    ):\n",
        "        \"\"\"\n",
        "        2D constant-speed robot dynamics for reach/avoid problems.\n",
        "\n",
        "        Args:\n",
        "            goalR: Radius of the obstacle (avoid) or goal (reach) circle.\n",
        "            velocity: Constant forward speed (m/s).\n",
        "            set_mode: 'reach' or 'avoid'.\n",
        "            freeze_model: If True, dsdt/hamiltonian will raise NotImplementedError.\n",
        "        \"\"\"\n",
        "        self.goalR = goalR\n",
        "        self.velocity = velocity\n",
        "        self.freeze_model = freeze_model\n",
        "\n",
        "        super().__init__(\n",
        "            loss_type='brt_hjivi',\n",
        "            set_mode=set_mode,\n",
        "            state_dim=2, # [p_x, p_y]\n",
        "            input_dim=3, # [p_x, p_y, t]\n",
        "            control_dim=1, # [theta]\n",
        "            disturbance_dim=0,\n",
        "\n",
        "            # Normalize x,y from [-2,2] to [-1,1]\n",
        "            state_mean=[0.0, 0.0],\n",
        "            state_var=[2.0, 2.0],\n",
        "\n",
        "            value_mean=0.0, # value_mean is not used in 'exact' mode\n",
        "            value_var=0.5,\n",
        "            value_normto=0.02,\n",
        "            deepreach_model=\"exact\",\n",
        "        )\n",
        "\n",
        "    def state_test_range(self):\n",
        "        return [\n",
        "            [-2.0, 2.0], # p_x\n",
        "            [-2.0, 2.0], # p_y\n",
        "        ]\n",
        "\n",
        "    def equivalent_wrapped_state(self, state):\n",
        "        return state\n",
        "\n",
        "    def dsdt(self, state, control, disturbance):\n",
        "        # \\dot p_x = v \\cos \\theta\n",
        "        # \\dot p_y = v \\sin \\theta\n",
        "        if self.freeze_model:\n",
        "            raise NotImplementedError\n",
        "        theta = control[..., 0]\n",
        "        ds = torch.zeros_like(state)\n",
        "        ds[..., 0] = self.velocity * torch.cos(theta)\n",
        "        ds[..., 1] = self.velocity * torch.sin(theta)\n",
        "        return ds\n",
        "\n",
        "    def boundary_fn(self, state):\n",
        "        return torch.norm(state, dim=-1) - self.goalR\n",
        "\n",
        "    def sample_target_state(self, num_samples):\n",
        "        raise NotImplementedError\n",
        "\n",
        "    def cost_fn(self, state_traj):\n",
        "        raise NotImplementedError\n",
        "        # return torch.min(self.boundary_fn(state_traj), dim=-1).values\n",
        "\n",
        "    def hamiltonian(self, state, dvds):\n",
        "        if self.freeze_model:\n",
        "            raise NotImplementedError\n",
        "        norm = torch.sqrt(dvds[..., 0]**2 + dvds[..., 1]**2)\n",
        "        if self.set_mode == 'reach':\n",
        "            return  - self.velocity * norm\n",
        "        elif self.set_mode == 'avoid':\n",
        "            return  self.velocity * norm\n",
        "\n",
        "    def optimal_control(self, state, dvds):\n",
        "        raise NotImplementedError\n",
        "\n",
        "    def optimal_disturbance(self, state, dvds):\n",
        "        raise NotImplementedError\n",
        "\n",
        "    def plot_config(self):\n",
        "        return {\n",
        "            \"state_slices\": [0, 0],\n",
        "            \"state_labels\": [\"p_x\", \"p_y\"],\n",
        "            \"x_axis_idx\": 0,\n",
        "            \"y_axis_idx\": 1,\n",
        "            \"z_axis_idx\": -1,\n",
        "        }\n",
        "\n",
        "###############################################################\n"
      ],
      "metadata": {
        "id": "8dauKrtlDfXO"
      },
      "execution_count": 11,
      "outputs": []
    },
    {
      "cell_type": "markdown",
      "source": [
        "### 6. Experiments Code"
      ],
      "metadata": {
        "id": "cZYSaKilD_U3"
      }
    },
    {
      "cell_type": "code",
      "source": [
        "class Experiment(ABC):\n",
        "    def __init__(self, model, dataset, experiment_dir, use_wandb):\n",
        "        self.model = model\n",
        "        self.dataset = dataset\n",
        "        self.experiment_dir = experiment_dir\n",
        "        self.use_wandb = use_wandb\n",
        "\n",
        "    @abstractmethod\n",
        "    def init_special(self):\n",
        "        raise NotImplementedError\n",
        "\n",
        "    def _load_checkpoint(self, epoch):\n",
        "        if epoch == -1:\n",
        "            model_path = os.path.join(self.experiment_dir, 'training', 'checkpoints', 'model_final.pth')\n",
        "            self.model.load_state_dict(torch.load(model_path))\n",
        "        else:\n",
        "            model_path = os.path.join(self.experiment_dir, 'training', 'checkpoints', 'model_epoch_%04d.pth' % epoch)\n",
        "            self.model.load_state_dict(torch.load(model_path)['model'])\n",
        "\n",
        "    def validate(self, device, epoch, save_path, x_resolution, y_resolution, z_resolution, time_resolution):\n",
        "        was_training = self.model.training\n",
        "        self.model.eval()\n",
        "        self.model.requires_grad_(False)\n",
        "\n",
        "        plot_config = self.dataset.dynamics.plot_config()\n",
        "        state_test_range = self.dataset.dynamics.state_test_range()\n",
        "\n",
        "        x_idx = plot_config['x_axis_idx']\n",
        "        y_idx = plot_config['y_axis_idx']\n",
        "        z_idx = plot_config.get('z_axis_idx', -1)\n",
        "\n",
        "        x_min, x_max = state_test_range[x_idx]\n",
        "        y_min, y_max = state_test_range[y_idx]\n",
        "        xs = torch.linspace(x_min, x_max, x_resolution)\n",
        "        ys = torch.linspace(y_min, y_max, y_resolution)\n",
        "        xys = torch.cartesian_prod(xs, ys)\n",
        "\n",
        "        # Determine z slices: if z_idx == -1, use a single dummy slice\n",
        "        if z_idx == -1:\n",
        "            zs = torch.tensor([0.0], dtype=torch.float32)\n",
        "        else:\n",
        "            z_min, z_max = state_test_range[z_idx]\n",
        "            zs = torch.linspace(z_min, z_max, z_resolution)\n",
        "\n",
        "        times = torch.linspace(0, self.dataset.tMax, time_resolution)\n",
        "        fig = plt.figure(figsize=(5*len(times), 5*len(zs)))\n",
        "\n",
        "        # Loop over time and z-slices\n",
        "        for i, t in enumerate(times):\n",
        "            for j, z_val in enumerate(zs):\n",
        "                coords = torch.zeros(x_resolution*y_resolution, self.dataset.dynamics.state_dim + 1)\n",
        "                coords[:, 0] = t\n",
        "                coords[:, 1:] = torch.tensor(plot_config['state_slices'])\n",
        "\n",
        "                coords[:, 1 + x_idx] = xys[:, 0]\n",
        "                coords[:, 1 + y_idx] = xys[:, 1]\n",
        "\n",
        "                # Only fill z if it's a real 3D axis\n",
        "                if z_idx != -1:\n",
        "                    coords[:, 1 + z_idx] = z_val\n",
        "\n",
        "                with torch.no_grad():\n",
        "                    inp = self.dataset.dynamics.coord_to_input(coords.to(device))\n",
        "                    results = self.model({'coords': inp})\n",
        "                    values = self.dataset.dynamics.io_to_value(results['model_in'].detach(), results['model_out'].squeeze(dim=-1).detach())\n",
        "\n",
        "                ax = fig.add_subplot(len(times), len(zs), (j+1) + i*len(zs))\n",
        "                title_z = (f\", {plot_config['state_labels'][z_idx]} = {z_val:.2f}\"\n",
        "                        if z_idx != -1 else \"\")\n",
        "                ax.set_title(f\"t = {t:.2f}{title_z}\")\n",
        "\n",
        "                img = values.cpu().numpy().reshape(x_resolution, y_resolution).T\n",
        "                # binary decision boundary: <=0 in red/blue\n",
        "                mask = (img <= 0).astype(float)\n",
        "                s = ax.imshow(mask, cmap='bwr', origin='lower', extent=(x_min, x_max, y_min, y_max))\n",
        "                fig.colorbar(s, ax=ax)\n",
        "\n",
        "        fig.savefig(save_path)\n",
        "        if self.use_wandb:\n",
        "            wandb.log({\n",
        "                'step': epoch,\n",
        "                'val_plot': wandb.Image(fig),\n",
        "            })\n",
        "        plt.close()\n",
        "\n",
        "        if was_training:\n",
        "            self.model.train()\n",
        "            self.model.requires_grad_(True)\n",
        "\n",
        "    def train(\n",
        "            self, device, batch_size, epochs, lr,\n",
        "            steps_til_summary, epochs_til_checkpoint,\n",
        "            loss_fn, clip_grad, use_lbfgs, adjust_relative_grads,\n",
        "            val_x_resolution, val_y_resolution, val_z_resolution, val_time_resolution,\n",
        "            use_CSL, CSL_lr, CSL_dt, epochs_til_CSL, num_CSL_samples, CSL_loss_frac_cutoff, max_CSL_epochs, CSL_loss_weight, CSL_batch_size,\n",
        "        ):\n",
        "        was_eval = not self.model.training\n",
        "        self.model.train()\n",
        "        self.model.requires_grad_(True)\n",
        "\n",
        "        train_dataloader = DataLoader(self.dataset, shuffle=True, batch_size=batch_size, pin_memory=True, num_workers=0)\n",
        "\n",
        "        optim = torch.optim.Adam(lr=lr, params=self.model.parameters())\n",
        "\n",
        "        # copy settings from Raissi et al. (2019) and here\n",
        "        # https://github.com/maziarraissi/PINNs\n",
        "        if use_lbfgs:\n",
        "            optim = torch.optim.LBFGS(lr=lr, params=self.model.parameters(), max_iter=50000, max_eval=50000,\n",
        "                                    history_size=50, line_search_fn='strong_wolfe')\n",
        "\n",
        "        training_dir = os.path.join(self.experiment_dir, 'training')\n",
        "\n",
        "        summaries_dir = os.path.join(training_dir, 'summaries')\n",
        "        if not os.path.exists(summaries_dir):\n",
        "            os.makedirs(summaries_dir)\n",
        "\n",
        "        checkpoints_dir = os.path.join(training_dir, 'checkpoints')\n",
        "        if not os.path.exists(checkpoints_dir):\n",
        "            os.makedirs(checkpoints_dir)\n",
        "\n",
        "        writer = SummaryWriter(summaries_dir)\n",
        "\n",
        "        total_steps = 0\n",
        "\n",
        "        if adjust_relative_grads:\n",
        "            new_weight = 1\n",
        "\n",
        "        with tqdm(total=len(train_dataloader) * epochs) as pbar:\n",
        "            train_losses = []\n",
        "            last_CSL_epoch = -1\n",
        "            for epoch in range(0, epochs):\n",
        "                if self.dataset.pretrain: # skip CSL\n",
        "                    last_CSL_epoch = epoch\n",
        "                time_interval_length = (self.dataset.counter/self.dataset.counter_end)*(self.dataset.tMax-self.dataset.tMin)\n",
        "                CSL_tMax = self.dataset.tMin + int(time_interval_length/CSL_dt)*CSL_dt\n",
        "\n",
        "                # self-supervised learning\n",
        "                for step, (model_input, gt) in enumerate(train_dataloader):\n",
        "                    start_time = time.time()\n",
        "\n",
        "                    model_input = {key: value.to(device) for key, value in model_input.items()}\n",
        "                    gt = {key: value.to(device) for key, value in gt.items()}\n",
        "\n",
        "                    model_results = self.model({'coords': model_input['model_coords']})\n",
        "\n",
        "                    states = self.dataset.dynamics.input_to_coord(model_results['model_in'].detach())[..., 1:]\n",
        "                    values = self.dataset.dynamics.io_to_value(model_results['model_in'].detach(), model_results['model_out'].squeeze(dim=-1))\n",
        "                    dvs = self.dataset.dynamics.io_to_dv(model_results['model_in'], model_results['model_out'].squeeze(dim=-1))\n",
        "                    boundary_values = gt['boundary_values']\n",
        "                    if self.dataset.dynamics.loss_type == 'brat_hjivi':\n",
        "                        reach_values = gt['reach_values']\n",
        "                        avoid_values = gt['avoid_values']\n",
        "                    dirichlet_masks = gt['dirichlet_masks']\n",
        "\n",
        "                    if self.dataset.dynamics.loss_type == 'brt_hjivi':\n",
        "                        losses = loss_fn(states, values, dvs[..., 0], dvs[..., 1:], boundary_values, dirichlet_masks, model_results['model_out'])\n",
        "                    elif self.dataset.dynamics.loss_type == 'brat_hjivi':\n",
        "                        losses = loss_fn(states, values, dvs[..., 0], dvs[..., 1:], boundary_values, reach_values, avoid_values, dirichlet_masks, model_results['model_out'])\n",
        "                    else:\n",
        "                        raise NotImplementedError\n",
        "\n",
        "                    if use_lbfgs:\n",
        "                        def closure():\n",
        "                            optim.zero_grad()\n",
        "                            train_loss = 0.\n",
        "                            for loss_name, loss in losses.items():\n",
        "                                train_loss += loss.mean()\n",
        "                            train_loss.backward()\n",
        "                            return train_loss\n",
        "                        optim.step(closure)\n",
        "\n",
        "                    # Adjust the relative magnitude of the losses if required\n",
        "                    if self.dataset.dynamics.deepreach_model in ['vanilla', 'diff'] and adjust_relative_grads:\n",
        "                        if losses['diff_constraint_hom'] > 0.01:\n",
        "                            params = OrderedDict(self.model.named_parameters())\n",
        "                            # Gradients with respect to the PDE loss\n",
        "                            optim.zero_grad()\n",
        "                            losses['diff_constraint_hom'].backward(retain_graph=True)\n",
        "                            grads_PDE = []\n",
        "                            for key, param in params.items():\n",
        "                                grads_PDE.append(param.grad.view(-1))\n",
        "                            grads_PDE = torch.cat(grads_PDE)\n",
        "\n",
        "                            # Gradients with respect to the boundary loss\n",
        "                            optim.zero_grad()\n",
        "                            losses['dirichlet'].backward(retain_graph=True)\n",
        "                            grads_dirichlet = []\n",
        "                            for key, param in params.items():\n",
        "                                grads_dirichlet.append(param.grad.view(-1))\n",
        "                            grads_dirichlet = torch.cat(grads_dirichlet)\n",
        "\n",
        "                            # # Plot the gradients\n",
        "                            # import seaborn as sns\n",
        "                            # import matplotlib.pyplot as plt\n",
        "                            # fig = plt.figure(figsize=(5, 5))\n",
        "                            # ax = fig.add_subplot(1, 1, 1)\n",
        "                            # ax.set_yscale('symlog')\n",
        "                            # sns.distplot(grads_PDE.cpu().numpy(), hist=False, kde_kws={\"shade\": False}, norm_hist=True)\n",
        "                            # sns.distplot(grads_dirichlet.cpu().numpy(), hist=False, kde_kws={\"shade\": False}, norm_hist=True)\n",
        "                            # fig.savefig('gradient_visualization.png')\n",
        "\n",
        "                            # fig = plt.figure(figsize=(5, 5))\n",
        "                            # ax = fig.add_subplot(1, 1, 1)\n",
        "                            # ax.set_yscale('symlog')\n",
        "                            # grads_dirichlet_normalized = grads_dirichlet * torch.mean(torch.abs(grads_PDE))/torch.mean(torch.abs(grads_dirichlet))\n",
        "                            # sns.distplot(grads_PDE.cpu().numpy(), hist=False, kde_kws={\"shade\": False}, norm_hist=True)\n",
        "                            # sns.distplot(grads_dirichlet_normalized.cpu().numpy(), hist=False, kde_kws={\"shade\": False}, norm_hist=True)\n",
        "                            # ax.set_xlim([-1000.0, 1000.0])\n",
        "                            # fig.savefig('gradient_visualization_normalized.png')\n",
        "\n",
        "                            # Set the new weight according to the paper\n",
        "                            # num = torch.max(torch.abs(grads_PDE))\n",
        "                            num = torch.mean(torch.abs(grads_PDE))\n",
        "                            den = torch.mean(torch.abs(grads_dirichlet))\n",
        "                            new_weight = 0.9*new_weight + 0.1*num/den\n",
        "                            losses['dirichlet'] = new_weight*losses['dirichlet']\n",
        "                        writer.add_scalar('weight_scaling', new_weight, total_steps)\n",
        "\n",
        "                    # import ipdb; ipdb.set_trace()\n",
        "\n",
        "                    train_loss = 0.\n",
        "                    for loss_name, loss in losses.items():\n",
        "                        single_loss = loss.mean()\n",
        "\n",
        "                        if loss_name == 'dirichlet':\n",
        "                            writer.add_scalar(loss_name, single_loss/new_weight, total_steps)\n",
        "                        else:\n",
        "                            writer.add_scalar(loss_name, single_loss, total_steps)\n",
        "                        train_loss += single_loss\n",
        "\n",
        "                    train_losses.append(train_loss.item())\n",
        "                    writer.add_scalar(\"total_train_loss\", train_loss, total_steps)\n",
        "\n",
        "                    if not total_steps % steps_til_summary:\n",
        "                        torch.save(self.model.state_dict(),\n",
        "                                os.path.join(checkpoints_dir, 'model_current.pth'))\n",
        "                        # summary_fn(model, model_input, gt, model_output, writer, total_steps)\n",
        "\n",
        "                    if not use_lbfgs:\n",
        "                        optim.zero_grad()\n",
        "                        train_loss.backward()\n",
        "\n",
        "                        if clip_grad:\n",
        "                            if isinstance(clip_grad, bool):\n",
        "                                torch.nn.utils.clip_grad_norm_(self.model.parameters(), max_norm=1.)\n",
        "                            else:\n",
        "                                torch.nn.utils.clip_grad_norm_(self.model.parameters(), max_norm=clip_grad)\n",
        "\n",
        "                        optim.step()\n",
        "\n",
        "                    pbar.update(1)\n",
        "\n",
        "                    if not total_steps % steps_til_summary:\n",
        "                        tqdm.write(\"Epoch %d, Total loss %0.6f, iteration time %0.6f\" % (epoch, train_loss, time.time() - start_time))\n",
        "                        if self.use_wandb:\n",
        "                            wandb.log({\n",
        "                                'step': epoch,\n",
        "                                'train_loss': train_loss,\n",
        "                                'pde_loss': losses['diff_constraint_hom'],\n",
        "                            })\n",
        "\n",
        "                    total_steps += 1\n",
        "\n",
        "                # cost-supervised learning (CSL) phase\n",
        "                if use_CSL and not self.dataset.pretrain and (epoch-last_CSL_epoch) >= epochs_til_CSL:\n",
        "                    last_CSL_epoch = epoch\n",
        "\n",
        "                    # generate CSL datasets\n",
        "                    self.model.eval()\n",
        "\n",
        "                    CSL_dataset = scenario_optimization(\n",
        "                        device=device, model=self.model, policy=self.model, dynamics=self.dataset.dynamics,\n",
        "                        tMin=self.dataset.tMin, tMax=CSL_tMax, dt=CSL_dt,\n",
        "                        set_type=\"BRT\", control_type=\"value\", # TODO: implement option for BRS too\n",
        "                        scenario_batch_size=min(num_CSL_samples, 100000), sample_batch_size=min(10*num_CSL_samples, 1000000),\n",
        "                        sample_generator=SliceSampleGenerator(dynamics=self.dataset.dynamics, slices=[None]*self.dataset.dynamics.state_dim),\n",
        "                        sample_validator=ValueThresholdValidator(v_min=float('-inf'), v_max=float('inf')),\n",
        "                        violation_validator=ValueThresholdValidator(v_min=0.0, v_max=0.0),\n",
        "                        max_scenarios=num_CSL_samples, tStart_generator=lambda n : torch.zeros(n).uniform_(self.dataset.tMin, CSL_tMax)\n",
        "                    )\n",
        "                    CSL_coords = torch.cat((CSL_dataset['times'].unsqueeze(-1), CSL_dataset['states']), dim=-1)\n",
        "                    CSL_costs = CSL_dataset['costs']\n",
        "\n",
        "                    num_CSL_val_samples = int(0.1*num_CSL_samples)\n",
        "                    CSL_val_dataset = scenario_optimization(\n",
        "                        model=self.model, policy=self.model, dynamics=self.dataset.dynamics,\n",
        "                        tMin=self.dataset.tMin, tMax=CSL_tMax, dt=CSL_dt,\n",
        "                        set_type=\"BRT\", control_type=\"value\", # TODO: implement option for BRS too\n",
        "                        scenario_batch_size=min(num_CSL_val_samples, 100000), sample_batch_size=min(10*num_CSL_val_samples, 1000000),\n",
        "                        sample_generator=SliceSampleGenerator(dynamics=self.dataset.dynamics, slices=[None]*self.dataset.dynamics.state_dim),\n",
        "                        sample_validator=ValueThresholdValidator(v_min=float('-inf'), v_max=float('inf')),\n",
        "                        violation_validator=ValueThresholdValidator(v_min=0.0, v_max=0.0),\n",
        "                        max_scenarios=num_CSL_val_samples, tStart_generator=lambda n : torch.zeros(n).uniform_(self.dataset.tMin, CSL_tMax)\n",
        "                    )\n",
        "                    CSL_val_coords = torch.cat((CSL_val_dataset['times'].unsqueeze(-1), CSL_val_dataset['states']), dim=-1)\n",
        "                    CSL_val_costs = CSL_val_dataset['costs']\n",
        "\n",
        "                    CSL_val_tMax_dataset = scenario_optimization(\n",
        "                        model=self.model, policy=self.model, dynamics=self.dataset.dynamics,\n",
        "                        tMin=self.dataset.tMin, tMax=self.dataset.tMax, dt=CSL_dt,\n",
        "                        set_type=\"BRT\", control_type=\"value\", # TODO: implement option for BRS too\n",
        "                        scenario_batch_size=min(num_CSL_val_samples, 100000), sample_batch_size=min(10*num_CSL_val_samples, 1000000),\n",
        "                        sample_generator=SliceSampleGenerator(dynamics=self.dataset.dynamics, slices=[None]*self.dataset.dynamics.state_dim),\n",
        "                        sample_validator=ValueThresholdValidator(v_min=float('-inf'), v_max=float('inf')),\n",
        "                        violation_validator=ValueThresholdValidator(v_min=0.0, v_max=0.0),\n",
        "                        max_scenarios=num_CSL_val_samples # no tStart_generator, since I want all tMax times\n",
        "                    )\n",
        "                    CSL_val_tMax_coords = torch.cat((CSL_val_tMax_dataset['times'].unsqueeze(-1), CSL_val_tMax_dataset['states']), dim=-1)\n",
        "                    CSL_val_tMax_costs = CSL_val_tMax_dataset['costs']\n",
        "\n",
        "                    self.model.train()\n",
        "\n",
        "                    # CSL optimizer\n",
        "                    CSL_optim = torch.optim.Adam(lr=CSL_lr, params=self.model.parameters())\n",
        "\n",
        "                    # initial CSL val loss\n",
        "                    CSL_val_results = self.model({'coords': self.dataset.dynamics.coord_to_input(CSL_val_coords.to(device))})\n",
        "                    CSL_val_preds = self.dataset.dynamics.io_to_value(CSL_val_results['model_in'], CSL_val_results['model_out'].squeeze(dim=-1))\n",
        "                    CSL_val_errors = CSL_val_preds - CSL_val_costs.to(device)\n",
        "                    CSL_val_loss = torch.mean(torch.pow(CSL_val_errors, 2))\n",
        "                    CSL_initial_val_loss = CSL_val_loss\n",
        "                    if self.use_wandb:\n",
        "                        wandb.log({\n",
        "                            \"step\": epoch,\n",
        "                            \"CSL_val_loss\": CSL_val_loss.item()\n",
        "                        })\n",
        "\n",
        "                    # initial self-supervised learning (SSL) val loss\n",
        "                    # right now, just took code from dataio.py and the SSL training loop above; TODO: refactor all this for cleaner modular code\n",
        "                    CSL_val_states = CSL_val_coords[..., 1:].to(device)\n",
        "                    CSL_val_dvs = self.dataset.dynamics.io_to_dv(CSL_val_results['model_in'], CSL_val_results['model_out'].squeeze(dim=-1))\n",
        "                    CSL_val_boundary_values = self.dataset.dynamics.boundary_fn(CSL_val_states)\n",
        "                    if self.dataset.dynamics.loss_type == 'brat_hjivi':\n",
        "                        CSL_val_reach_values = self.dataset.dynamics.reach_fn(CSL_val_states)\n",
        "                        CSL_val_avoid_values = self.dataset.dynamics.avoid_fn(CSL_val_states)\n",
        "                    CSL_val_dirichlet_masks = CSL_val_coords[:, 0].to(device) == self.dataset.tMin # assumes time unit in dataset (model) is same as real time units\n",
        "                    if self.dataset.dynamics.loss_type == 'brt_hjivi':\n",
        "                        SSL_val_losses = loss_fn(CSL_val_states, CSL_val_preds, CSL_val_dvs[..., 0], CSL_val_dvs[..., 1:], CSL_val_boundary_values, CSL_val_dirichlet_masks)\n",
        "                    elif self.dataset.dynamics.loss_type == 'brat_hjivi':\n",
        "                        SSL_val_losses = loss_fn(CSL_val_states, CSL_val_preds, CSL_val_dvs[..., 0], CSL_val_dvs[..., 1:], CSL_val_boundary_values, CSL_val_reach_values, CSL_val_avoid_values, CSL_val_dirichlet_masks)\n",
        "                    else:\n",
        "                        NotImplementedError\n",
        "                    SSL_val_loss = SSL_val_losses['diff_constraint_hom'].mean() # I assume there is no dirichlet (boundary) loss here, because I do not ever explicitly generate source samples at tMin (i.e. torch.all(CSL_val_dirichlet_masks == False))\n",
        "                    if self.use_wandb:\n",
        "                        wandb.log({\n",
        "                            \"step\": epoch,\n",
        "                            \"SSL_val_loss\": SSL_val_loss.item()\n",
        "                        })\n",
        "\n",
        "                    # CSL training loop\n",
        "                    for CSL_epoch in tqdm(range(max_CSL_epochs)):\n",
        "                        CSL_idxs = torch.randperm(num_CSL_samples)\n",
        "                        for CSL_batch in range(math.ceil(num_CSL_samples/CSL_batch_size)):\n",
        "                            CSL_batch_idxs = CSL_idxs[CSL_batch*CSL_batch_size:(CSL_batch+1)*CSL_batch_size]\n",
        "                            CSL_batch_coords = CSL_coords[CSL_batch_idxs]\n",
        "\n",
        "                            CSL_batch_results = self.model({'coords': self.dataset.dynamics.coord_to_input(CSL_batch_coords.to(device))})\n",
        "                            CSL_batch_preds = self.dataset.dynamics.io_to_value(CSL_batch_results['model_in'], CSL_batch_results['model_out'].squeeze(dim=-1))\n",
        "                            CSL_batch_costs = CSL_costs[CSL_batch_idxs].to(device)\n",
        "                            CSL_batch_errors = CSL_batch_preds - CSL_batch_costs\n",
        "                            CSL_batch_loss = CSL_loss_weight*torch.mean(torch.pow(CSL_batch_errors, 2))\n",
        "\n",
        "                            CSL_batch_states = CSL_batch_coords[..., 1:].to(device)\n",
        "                            CSL_batch_dvs = self.dataset.dynamics.io_to_dv(CSL_batch_results['model_in'], CSL_batch_results['model_out'].squeeze(dim=-1))\n",
        "                            CSL_batch_boundary_values = self.dataset.dynamics.boundary_fn(CSL_batch_states)\n",
        "                            if self.dataset.dynamics.loss_type == 'brat_hjivi':\n",
        "                                CSL_batch_reach_values = self.dataset.dynamics.reach_fn(CSL_batch_states)\n",
        "                                CSL_batch_avoid_values = self.dataset.dynamics.avoid_fn(CSL_batch_states)\n",
        "                            CSL_batch_dirichlet_masks = CSL_batch_coords[:, 0].to(device) == self.dataset.tMin # assumes time unit in dataset (model) is same as real time units\n",
        "                            if self.dataset.dynamics.loss_type == 'brt_hjivi':\n",
        "                                SSL_batch_losses = loss_fn(CSL_batch_states, CSL_batch_preds, CSL_batch_dvs[..., 0], CSL_batch_dvs[..., 1:], CSL_batch_boundary_values, CSL_batch_dirichlet_masks)\n",
        "                            elif self.dataset.dynamics.loss_type == 'brat_hjivi':\n",
        "                                SSL_batch_losses = loss_fn(CSL_batch_states, CSL_batch_preds, CSL_batch_dvs[..., 0], CSL_batch_dvs[..., 1:], CSL_batch_boundary_values, CSL_batch_reach_values, CSL_batch_avoid_values, CSL_batch_dirichlet_masks)\n",
        "                            else:\n",
        "                                NotImplementedError\n",
        "                            SSL_batch_loss = SSL_batch_losses['diff_constraint_hom'].mean() # I assume there is no dirichlet (boundary) loss here, because I do not ever explicitly generate source samples at tMin (i.e. torch.all(CSL_batch_dirichlet_masks == False))\n",
        "\n",
        "                            CSL_optim.zero_grad()\n",
        "                            SSL_batch_loss.backward(retain_graph=True)\n",
        "                            if (not use_lbfgs) and clip_grad: # no adjust_relative_grads, because I assume even with adjustment, the diff_constraint_hom remains unaffected and the only other loss (dirichlet) is zero\n",
        "                                if isinstance(clip_grad, bool):\n",
        "                                    torch.nn.utils.clip_grad_norm_(self.model.parameters(), max_norm=1.)\n",
        "                                else:\n",
        "                                    torch.nn.utils.clip_grad_norm_(self.model.parameters(), max_norm=clip_grad)\n",
        "                            CSL_batch_loss.backward()\n",
        "                            CSL_optim.step()\n",
        "\n",
        "                        # evaluate on CSL_val_dataset\n",
        "                        CSL_val_results = self.model({'coords': self.dataset.dynamics.coord_to_input(CSL_val_coords.to(device))})\n",
        "                        CSL_val_preds = self.dataset.dynamics.io_to_value(CSL_val_results['model_in'], CSL_val_results['model_out'].squeeze(dim=-1))\n",
        "                        CSL_val_errors = CSL_val_preds - CSL_val_costs.to(device)\n",
        "                        CSL_val_loss = torch.mean(torch.pow(CSL_val_errors, 2))\n",
        "\n",
        "                        CSL_val_states = CSL_val_coords[..., 1:].to(device)\n",
        "                        CSL_val_dvs = self.dataset.dynamics.io_to_dv(CSL_val_results['model_in'], CSL_val_results['model_out'].squeeze(dim=-1))\n",
        "                        CSL_val_boundary_values = self.dataset.dynamics.boundary_fn(CSL_val_states)\n",
        "                        if self.dataset.dynamics.loss_type == 'brat_hjivi':\n",
        "                            CSL_val_reach_values = self.dataset.dynamics.reach_fn(CSL_val_states)\n",
        "                            CSL_val_avoid_values = self.dataset.dynamics.avoid_fn(CSL_val_states)\n",
        "                        CSL_val_dirichlet_masks = CSL_val_coords[:, 0].to(device) == self.dataset.tMin # assumes time unit in dataset (model) is same as real time units\n",
        "                        if self.dataset.dynamics.loss_type == 'brt_hjivi':\n",
        "                            SSL_val_losses = loss_fn(CSL_val_states, CSL_val_preds, CSL_val_dvs[..., 0], CSL_val_dvs[..., 1:], CSL_val_boundary_values, CSL_val_dirichlet_masks)\n",
        "                        elif self.dataset.dynamics.loss_type == 'brat_hjivi':\n",
        "                            SSL_val_losses = loss_fn(CSL_val_states, CSL_val_preds, CSL_val_dvs[..., 0], CSL_val_dvs[..., 1:], CSL_val_boundary_values, CSL_val_reach_values, CSL_val_avoid_values, CSL_val_dirichlet_masks)\n",
        "                        else:\n",
        "                            raise NotImplementedError\n",
        "                        SSL_val_loss = SSL_val_losses['diff_constraint_hom'].mean() # I assume there is no dirichlet (boundary) loss here, because I do not ever explicitly generate source samples at tMin (i.e. torch.all(CSL_val_dirichlet_masks == False))\n",
        "\n",
        "                        CSL_val_tMax_results = self.model({'coords': self.dataset.dynamics.coord_to_input(CSL_val_tMax_coords.to(device))})\n",
        "                        CSL_val_tMax_preds = self.dataset.dynamics.io_to_value(CSL_val_tMax_results['model_in'], CSL_val_tMax_results['model_out'].squeeze(dim=-1))\n",
        "                        CSL_val_tMax_errors = CSL_val_tMax_preds - CSL_val_tMax_costs.to(device)\n",
        "                        CSL_val_tMax_loss = torch.mean(torch.pow(CSL_val_tMax_errors, 2))\n",
        "\n",
        "                        # log CSL losses, recovered_safe_set_fracs\n",
        "                        if self.dataset.dynamics.set_mode == 'reach':\n",
        "                            CSL_train_batch_theoretically_recoverable_safe_set_frac = torch.sum(CSL_batch_costs.to(device) < 0) / len(CSL_batch_preds)\n",
        "                            CSL_train_batch_recovered_safe_set_frac = torch.sum(CSL_batch_preds < torch.min(CSL_batch_preds[CSL_batch_costs.to(device) > 0])) / len(CSL_batch_preds)\n",
        "                            CSL_val_theoretically_recoverable_safe_set_frac = torch.sum(CSL_val_costs.to(device) < 0) / len(CSL_val_preds)\n",
        "                            CSL_val_recovered_safe_set_frac = torch.sum(CSL_val_preds < torch.min(CSL_val_preds[CSL_val_costs.to(device) > 0])) / len(CSL_val_preds)\n",
        "                            CSL_val_tMax_theoretically_recoverable_safe_set_frac = torch.sum(CSL_val_tMax_costs.to(device) < 0) / len(CSL_val_tMax_preds)\n",
        "                            CSL_val_tMax_recovered_safe_set_frac = torch.sum(CSL_val_tMax_preds < torch.min(CSL_val_tMax_preds[CSL_val_tMax_costs.to(device) > 0])) / len(CSL_val_tMax_preds)\n",
        "                        elif self.dataset.dynamics.set_mode == 'avoid':\n",
        "                            CSL_train_batch_theoretically_recoverable_safe_set_frac = torch.sum(CSL_batch_costs.to(device) > 0) / len(CSL_batch_preds)\n",
        "                            CSL_train_batch_recovered_safe_set_frac = torch.sum(CSL_batch_preds > torch.max(CSL_batch_preds[CSL_batch_costs.to(device) < 0])) / len(CSL_batch_preds)\n",
        "                            CSL_val_theoretically_recoverable_safe_set_frac = torch.sum(CSL_val_costs.to(device) > 0) / len(CSL_val_preds)\n",
        "                            CSL_val_recovered_safe_set_frac = torch.sum(CSL_val_preds > torch.max(CSL_val_preds[CSL_val_costs.to(device) < 0])) / len(CSL_val_preds)\n",
        "                            CSL_val_tMax_theoretically_recoverable_safe_set_frac = torch.sum(CSL_val_tMax_costs.to(device) > 0) / len(CSL_val_tMax_preds)\n",
        "                            CSL_val_tMax_recovered_safe_set_frac = torch.sum(CSL_val_tMax_preds > torch.max(CSL_val_tMax_preds[CSL_val_tMax_costs.to(device) < 0])) / len(CSL_val_tMax_preds)\n",
        "                        else:\n",
        "                            raise NotImplementedError\n",
        "                        if self.use_wandb:\n",
        "                            wandb.log({\n",
        "                                \"step\": epoch+(CSL_epoch+1)*int(0.5*epochs_til_CSL/max_CSL_epochs),\n",
        "                                \"CSL_train_batch_loss\": CSL_batch_loss.item(),\n",
        "                                \"SSL_train_batch_loss\": SSL_batch_loss.item(),\n",
        "                                \"CSL_val_loss\": CSL_val_loss.item(),\n",
        "                                \"SSL_val_loss\": SSL_val_loss.item(),\n",
        "                                \"CSL_val_tMax_loss\": CSL_val_tMax_loss.item(),\n",
        "                                \"CSL_train_batch_theoretically_recoverable_safe_set_frac\": CSL_train_batch_theoretically_recoverable_safe_set_frac.item(),\n",
        "                                \"CSL_val_theoretically_recoverable_safe_set_frac\": CSL_val_theoretically_recoverable_safe_set_frac.item(),\n",
        "                                \"CSL_val_tMax_theoretically_recoverable_safe_set_frac\": CSL_val_tMax_theoretically_recoverable_safe_set_frac.item(),\n",
        "                                \"CSL_train_batch_recovered_safe_set_frac\": CSL_train_batch_recovered_safe_set_frac.item(),\n",
        "                                \"CSL_val_recovered_safe_set_frac\": CSL_val_recovered_safe_set_frac.item(),\n",
        "                                \"CSL_val_tMax_recovered_safe_set_frac\": CSL_val_tMax_recovered_safe_set_frac.item(),\n",
        "                            })\n",
        "\n",
        "                        if CSL_val_loss < CSL_loss_frac_cutoff*CSL_initial_val_loss:\n",
        "                            break\n",
        "\n",
        "                if not (epoch+1) % epochs_til_checkpoint:\n",
        "                    # Saving the optimizer state is important to produce consistent results\n",
        "                    checkpoint = {\n",
        "                        'epoch': epoch+1,\n",
        "                        'model': self.model.state_dict(),\n",
        "                        'optimizer': optim.state_dict()}\n",
        "                    torch.save(checkpoint,\n",
        "                        os.path.join(checkpoints_dir, 'model_epoch_%04d.pth' % (epoch+1)))\n",
        "                    np.savetxt(os.path.join(checkpoints_dir, 'train_losses_epoch_%04d.txt' % (epoch+1)),\n",
        "                        np.array(train_losses))\n",
        "                    self.validate(\n",
        "                        device=device, epoch=epoch+1, save_path=os.path.join(checkpoints_dir, 'BRS_validation_plot_epoch_%04d.png' % (epoch+1)),\n",
        "                        x_resolution = val_x_resolution, y_resolution = val_y_resolution, z_resolution=val_z_resolution, time_resolution=val_time_resolution)\n",
        "\n",
        "        if was_eval:\n",
        "            self.model.eval()\n",
        "            self.model.requires_grad_(False)\n",
        "\n",
        "    def test(self, device, current_time, last_checkpoint, checkpoint_dt, dt, num_scenarios, num_violations, set_type, control_type, data_step, checkpoint_toload=None):\n",
        "        was_training = self.model.training\n",
        "        self.model.eval()\n",
        "        self.model.requires_grad_(False)\n",
        "\n",
        "        testing_dir = os.path.join(self.experiment_dir, 'testing_%s' % current_time.strftime('%m_%d_%Y_%H_%M'))\n",
        "        if os.path.exists(testing_dir):\n",
        "            overwrite = input(\"The testing directory %s already exists. Overwrite? (y/n)\"%testing_dir)\n",
        "            if not (overwrite == 'y'):\n",
        "                print('Exiting.')\n",
        "                quit()\n",
        "            shutil.rmtree(testing_dir)\n",
        "        os.makedirs(testing_dir)\n",
        "\n",
        "        if checkpoint_toload is None:\n",
        "            print('running cross-checkpoint testing')\n",
        "\n",
        "            for i in tqdm(range(sidelen), desc='Checkpoint'):\n",
        "                self._load_checkpoint(epoch=checkpoints[i])\n",
        "                raise NotImplementedError\n",
        "\n",
        "        else:\n",
        "            print('running specific-checkpoint testing')\n",
        "            self._load_checkpoint(checkpoint_toload)\n",
        "\n",
        "            model = self.model\n",
        "            dataset = self.dataset\n",
        "            dynamics = dataset.dynamics\n",
        "            raise NotImplementedError\n",
        "\n",
        "        if was_training:\n",
        "            self.model.train()\n",
        "            self.model.requires_grad_(True)\n",
        "\n",
        "class DeepReach(Experiment):\n",
        "    def init_special(self):\n",
        "        pass"
      ],
      "metadata": {
        "id": "QMWFvhr8ECTy"
      },
      "execution_count": 12,
      "outputs": []
    },
    {
      "cell_type": "markdown",
      "source": [
        "### 7. Run Experiment"
      ],
      "metadata": {
        "id": "aA4ZpF_vE8wh"
      }
    },
    {
      "cell_type": "code",
      "source": [
        "wandb.login()"
      ],
      "metadata": {
        "colab": {
          "base_uri": "https://localhost:8080/",
          "height": 216
        },
        "id": "PDz8C2x_Q3gE",
        "outputId": "2525de86-1949-451e-8f63-c9cc080d375c"
      },
      "execution_count": 13,
      "outputs": [
        {
          "output_type": "stream",
          "name": "stderr",
          "text": [
            "\u001b[34m\u001b[1mwandb\u001b[0m: Using wandb-core as the SDK backend.  Please refer to https://wandb.me/wandb-core for more information.\n"
          ]
        },
        {
          "output_type": "display_data",
          "data": {
            "text/plain": [
              "<IPython.core.display.Javascript object>"
            ],
            "application/javascript": [
              "\n",
              "        window._wandbApiKey = new Promise((resolve, reject) => {\n",
              "            function loadScript(url) {\n",
              "            return new Promise(function(resolve, reject) {\n",
              "                let newScript = document.createElement(\"script\");\n",
              "                newScript.onerror = reject;\n",
              "                newScript.onload = resolve;\n",
              "                document.body.appendChild(newScript);\n",
              "                newScript.src = url;\n",
              "            });\n",
              "            }\n",
              "            loadScript(\"https://cdn.jsdelivr.net/npm/postmate/build/postmate.min.js\").then(() => {\n",
              "            const iframe = document.createElement('iframe')\n",
              "            iframe.style.cssText = \"width:0;height:0;border:none\"\n",
              "            document.body.appendChild(iframe)\n",
              "            const handshake = new Postmate({\n",
              "                container: iframe,\n",
              "                url: 'https://wandb.ai/authorize'\n",
              "            });\n",
              "            const timeout = setTimeout(() => reject(\"Couldn't auto authenticate\"), 5000)\n",
              "            handshake.then(function(child) {\n",
              "                child.on('authorize', data => {\n",
              "                    clearTimeout(timeout)\n",
              "                    resolve(data)\n",
              "                });\n",
              "            });\n",
              "            })\n",
              "        });\n",
              "    "
            ]
          },
          "metadata": {}
        },
        {
          "output_type": "stream",
          "name": "stderr",
          "text": [
            "\u001b[34m\u001b[1mwandb\u001b[0m: Logging into wandb.ai. (Learn how to deploy a W&B server locally: https://wandb.me/wandb-server)\n",
            "\u001b[34m\u001b[1mwandb\u001b[0m: You can find your API key in your browser here: https://wandb.ai/authorize\n",
            "wandb: Paste an API key from your profile and hit enter:"
          ]
        },
        {
          "name": "stdout",
          "output_type": "stream",
          "text": [
            " ··········\n"
          ]
        },
        {
          "output_type": "stream",
          "name": "stderr",
          "text": [
            "\u001b[34m\u001b[1mwandb\u001b[0m: \u001b[33mWARNING\u001b[0m If you're specifying your api key in code, ensure this code is not shared publicly.\n",
            "\u001b[34m\u001b[1mwandb\u001b[0m: \u001b[33mWARNING\u001b[0m Consider setting the WANDB_API_KEY environment variable, or running `wandb login` from the command line.\n",
            "\u001b[34m\u001b[1mwandb\u001b[0m: No netrc file found, creating one.\n",
            "\u001b[34m\u001b[1mwandb\u001b[0m: Appending key for api.wandb.ai to your netrc file: /root/.netrc\n",
            "\u001b[34m\u001b[1mwandb\u001b[0m: Currently logged in as: \u001b[33maanirudh\u001b[0m (\u001b[33maanirudh-n-a\u001b[0m) to \u001b[32mhttps://api.wandb.ai\u001b[0m. Use \u001b[1m`wandb login --relogin`\u001b[0m to force relogin\n"
          ]
        },
        {
          "output_type": "execute_result",
          "data": {
            "text/plain": [
              "True"
            ]
          },
          "metadata": {},
          "execution_count": 13
        }
      ]
    },
    {
      "cell_type": "code",
      "source": [
        "import sys\n",
        "\n",
        "sys.argv = [\n",
        "    \"script_name\",  # Placeholder for script name (ignored by argparse)\n",
        "    \"--mode\", \"train\",\n",
        "    \"--experiment_class\", \"DeepReach\",\n",
        "    \"--dynamics_class\", \"PlanarRobot2D\",\n",
        "    \"--experiment_name\", \"brt_obstacle_05m\",\n",
        "    \"--minWith\", \"target\",\n",
        "    \"--goalR\", \"0.5\",\n",
        "    \"--velocity\", \"1.0\",\n",
        "    \"--set_mode\", \"reach\",\n",
        "    \"--num_epochs\", \"40000\",\n",
        "\n",
        "    \"--wandb_project\", \"reachability-experiments\",\n",
        "    \"--wandb_entity\", \"aanirudh-n-a\",\n",
        "    '--wandb_group', \"Training\",\n",
        "    '--wandb_name', \"brt_safeset_05m_run_02\",\n",
        "]"
      ],
      "metadata": {
        "id": "F6Uc01CzFDSb"
      },
      "execution_count": 16,
      "outputs": []
    },
    {
      "cell_type": "code",
      "source": [
        "import inspect\n",
        "from inspect import isclass\n",
        "p = configargparse.ArgumentParser()\n",
        "\n",
        "p.add_argument('-c', '--config_filepath', required=False, is_config_file=True, help='Path to config file.')\n",
        "p.add_argument('--mode', type=str, required=True, choices=['all', 'train', 'test'], help=\"Experiment mode to run (new experiments must choose 'all' or 'train').\")\n",
        "\n",
        "# save/load directory options\n",
        "p.add_argument('--experiments_dir', type=str, default='./runs', help='Where to save the experiment subdirectory.')\n",
        "p.add_argument('--experiment_name', type=str, required=True, help='Name of the experient subdirectory.')\n",
        "p.add_argument('--use_wandb', default=True, action='store_false', help='use wandb for logging')\n",
        "\n",
        "use_wandb = p.parse_known_args()[0].use_wandb\n",
        "if use_wandb:\n",
        "    p.add_argument('--wandb_project', type=str, required=True, help='wandb project')\n",
        "    p.add_argument('--wandb_entity', type=str, required=True, help='wandb entity')\n",
        "    p.add_argument('--wandb_group', type=str, required=True, help='wandb group')\n",
        "    p.add_argument('--wandb_name', type=str, required=True, help='name of wandb run')\n",
        "\n",
        "mode = p.parse_known_args()[0].mode\n",
        "\n",
        "if (mode == 'all') or (mode == 'train'):\n",
        "    p.add_argument('--seed', type=int, default=0, required=False, help='Seed for the experiment.')\n",
        "\n",
        "    # load experiment_class choices dynamically from experiments module\n",
        "    experiment_classes_dict = {\n",
        "        name: clss for name, clss in globals().items()\n",
        "        if isclass(clss) and issubclass(clss, Experiment) and clss is not Experiment\n",
        "    }\n",
        "    # experiment_classes_dict = {name: clss for name, clss in inspect.getmembers(experiments, inspect.isclass) if clss.__bases__[0] == experiments.Experiment}\n",
        "    p.add_argument('--experiment_class', type=str, default='DeepReach', choices=experiment_classes_dict.keys(), help='Experiment class to use.')\n",
        "    # load special experiment_class arguments dynamically from chosen experiment class\n",
        "    experiment_class = DeepReach #experiment_classes_dict[p.parse_known_args()[0].experiment_class]\n",
        "    experiment_params = {name: param for name, param in inspect.signature(experiment_class.init_special).parameters.items() if name != 'self'}\n",
        "    for param in experiment_params.keys():\n",
        "        p.add_argument('--' + param, type=experiment_params[param].annotation, required=True, help='special experiment_class argument')\n",
        "\n",
        "    # simulation data source options\n",
        "    p.add_argument('--device', type=str, default='cuda:0', required=False, help='CUDA Device to use.')\n",
        "    p.add_argument('--numpoints', type=int, default=65000, help='Number of points in simulation data source __getitem__.')\n",
        "    p.add_argument('--pretrain', action='store_true', default=False, required=False, help='Pretrain dirichlet conditions')\n",
        "    p.add_argument('--pretrain_iters', type=int, default=2000, required=False, help='Number of pretrain iterations')\n",
        "    p.add_argument('--tMin', type=float, default=0.0, required=False, help='Start time of the simulation')\n",
        "    p.add_argument('--tMax', type=float, default=1.0, required=False, help='End time of the simulation')\n",
        "    p.add_argument('--counter_start', type=int, default=0, required=False, help='Defines the initial time for the curriculum training')\n",
        "    p.add_argument('--counter_end', type=int, default=-1, required=False, help='Defines the linear step for curriculum training starting from the initial time')\n",
        "    p.add_argument('--num_src_samples', type=int, default=1000, required=False, help='Number of source samples (initial-time samples) at each time step')\n",
        "    p.add_argument('--num_target_samples', type=int, default=0, required=False, help='Number of samples inside the target set')\n",
        "\n",
        "    # model options\n",
        "    p.add_argument('--model', type=str, default='sine', required=False, choices=['sine', 'tanh', 'sigmoid', 'relu'], help='Type of model to evaluate, default is sine.')\n",
        "    p.add_argument('--model_mode', type=str, default='mlp', required=False, choices=['mlp', 'rbf', 'pinn'], help='Whether to use uniform velocity parameter')\n",
        "    p.add_argument('--num_hl', type=int, default=3, required=False, help='The number of hidden layers')\n",
        "    p.add_argument('--num_nl', type=int, default=512, required=False, help='Number of neurons per hidden layer.')\n",
        "    p.add_argument('--deepreach_model', type=str, default='exact', required=False, choices=['exact', 'diff', 'vanilla'], help='deepreach model')\n",
        "\n",
        "    # training options\n",
        "    p.add_argument('--epochs_til_ckpt', type=int, default=1000, help='Time interval in seconds until checkpoint is saved.')\n",
        "    p.add_argument('--steps_til_summary', type=int, default=100, help='Time interval in seconds until tensorboard summary is saved.')\n",
        "    p.add_argument('--batch_size', type=int, default=1, help='Batch size used during training (irrelevant, since len(dataset) == 1).')\n",
        "    p.add_argument('--lr', type=float, default=2e-5, help='learning rate. default=2e-5')\n",
        "    p.add_argument('--num_epochs', type=int, default=100000, help='Number of epochs to train for.')\n",
        "    p.add_argument('--clip_grad', default=0.0, type=float, help='Clip gradient.')\n",
        "    p.add_argument('--use_lbfgs', default=False, type=bool, help='use L-BFGS.')\n",
        "    p.add_argument('--adj_rel_grads', default=True, type=bool, help='adjust the relative magnitude of the losses')\n",
        "    p.add_argument('--dirichlet_loss_divisor', default=1.0, required=False, type=float, help='What to divide the dirichlet loss by for loss reweighting')\n",
        "\n",
        "    # cost-supervised learning (CSL) options\n",
        "    p.add_argument('--use_CSL', default=False, action='store_true', help='use cost-supervised learning (CSL)')\n",
        "    p.add_argument('--CSL_lr', type=float, default=2e-5, help='The learning rate used for CSL')\n",
        "    p.add_argument('--CSL_dt', type=float, default=0.0025, help='The dt used in rolling out trajectories to get cost labels')\n",
        "    p.add_argument('--epochs_til_CSL', type=int, default=10000, help='Number of epochs between CSL phases')\n",
        "    p.add_argument('--num_CSL_samples', type=int, default=1000000, help='Number of cost samples in training dataset for CSL phases')\n",
        "    p.add_argument('--CSL_loss_frac_cutoff', type=float, default=0.1, help='Fraction of initial cost loss on validation dataset to cutoff CSL phases')\n",
        "    p.add_argument('--max_CSL_epochs', type=int, default=100, help='Max number of CSL epochs per phase')\n",
        "    p.add_argument('--CSL_loss_weight', type=float, default=1.0, help='weight of cost loss (relative to PDE loss)')\n",
        "    p.add_argument('--CSL_batch_size', type=int, default=1000, help='Batch size for training in CSL phases')\n",
        "\n",
        "    # validation (during training) options\n",
        "    p.add_argument('--val_x_resolution', type=int, default=200, help='x-axis resolution of validation plot during training')\n",
        "    p.add_argument('--val_y_resolution', type=int, default=200, help='y-axis resolution of validation plot during training')\n",
        "    p.add_argument('--val_z_resolution', type=int, default=5, help='z-axis resolution of validation plot during training')\n",
        "    p.add_argument('--val_time_resolution', type=int, default=3, help='time-axis resolution of validation plot during training')\n",
        "\n",
        "    # loss options\n",
        "    p.add_argument('--minWith', type=str, required=True, choices=['none', 'zero', 'target'], help='BRS vs BRT computation (typically should be using target for BRT)')\n",
        "\n",
        "    # # load dynamics_class choices dynamically from dynamics module\n",
        "    # dynamics_classes_dict = {name: clss for name, clss in inspect.getmembers(dynamics, inspect.isclass) if clss.__bases__[0] == dynamics.Dynamics}\n",
        "    p.add_argument('--dynamics_class', type=str, required=True, choices=[\"PlanarRobot2D\"], help='Dynamics class to use.')\n",
        "    # # load special dynamics_class arguments dynamically from chosen dynamics class\n",
        "    # dynamics_class = dynamics_classes_dict[p.parse_known_args()[0].dynamics_class]\n",
        "    # dynamics_params = {name: param for name, param in inspect.signature(dynamics_class).parameters.items() if name != 'self'}\n",
        "    dynamics_class = PlanarRobot2D\n",
        "    dynamics_params = {\n",
        "        name: param for name, param in inspect.signature(dynamics_class).parameters.items() if name != 'self'\n",
        "    }\n",
        "\n",
        "    for param in dynamics_params.keys():\n",
        "        if dynamics_params[param].annotation is bool:\n",
        "            p.add_argument('--' + param, type=dynamics_params[param].annotation, default=False, help='special dynamics_class argument')\n",
        "        else:\n",
        "            p.add_argument('--' + param, type=dynamics_params[param].annotation, required=True, help='special dynamics_class argument')\n",
        "\n",
        "if (mode == 'all') or (mode == 'test'):\n",
        "    p.add_argument('--dt', type=float, default=0.0025, help='The dt used in testing simulations')\n",
        "    p.add_argument('--checkpoint_toload', type=int, default=None, help=\"The checkpoint to load for testing (-1 for final training checkpoint, None for cross-checkpoint testing\")\n",
        "    p.add_argument('--num_scenarios', type=int, default=100000, help='The number of scenarios sampled in scenario optimization for testing')\n",
        "    p.add_argument('--num_violations', type=int, default=1000, help='The number of violations to sample for in scenario optimization for testing')\n",
        "    p.add_argument('--control_type', type=str, default='value', choices=['value', 'ttr', 'init_ttr'], help='The controller to use in scenario optimization for testing')\n",
        "    p.add_argument('--data_step', type=str, default='run_basic_recovery', choices=['plot_violations', 'run_basic_recovery', 'plot_basic_recovery', 'collect_samples', 'train_binner', 'run_binned_recovery', 'plot_binned_recovery', 'plot_cost_function'], help='The data processing step to run')\n",
        "\n",
        "opt = p.parse_args()\n",
        "\n",
        "# start wandb\n",
        "if use_wandb:\n",
        "    wandb.init(\n",
        "        project = opt.wandb_project,\n",
        "        entity = opt.wandb_entity,\n",
        "        group = opt.wandb_group,\n",
        "        name = opt.wandb_name,\n",
        "    )\n",
        "    wandb.config.update(opt)\n",
        "\n",
        "experiment_dir = os.path.join(opt.experiments_dir, opt.experiment_name)\n",
        "if (mode == 'all') or (mode == 'train'):\n",
        "    # create experiment dir\n",
        "    if os.path.exists(experiment_dir):\n",
        "        overwrite = input(\"The experiment directory %s already exists. Overwrite? (y/n)\"%experiment_dir)\n",
        "        if not (overwrite == 'y'):\n",
        "            print('Exiting.')\n",
        "            quit()\n",
        "        shutil.rmtree(experiment_dir)\n",
        "    os.makedirs(experiment_dir)\n",
        "elif mode == 'test':\n",
        "    # confirm that experiment dir already exists\n",
        "    if not os.path.exists(experiment_dir):\n",
        "        raise RuntimeError('Cannot run test mode: experiment directory not found!')\n",
        "\n",
        "current_time = datetime.now()\n",
        "# log current config\n",
        "with open(os.path.join(experiment_dir, 'config_%s.txt' % current_time.strftime('%m_%d_%Y_%H_%M')), 'w') as f:\n",
        "    for arg, val in vars(opt).items():\n",
        "        f.write(arg + ' = ' + str(val) + '\\n')\n",
        "\n",
        "if (mode == 'all') or (mode == 'train'):\n",
        "    # set counter_end appropriately if needed\n",
        "    if opt.counter_end == -1:\n",
        "        opt.counter_end = opt.num_epochs\n",
        "\n",
        "    # log original options\n",
        "    with open(os.path.join(experiment_dir, 'orig_opt.pickle'), 'wb') as opt_file:\n",
        "        pickle.dump(opt, opt_file)\n",
        "\n",
        "# load original experiment settings\n",
        "with open(os.path.join(experiment_dir, 'orig_opt.pickle'), 'rb') as opt_file:\n",
        "    orig_opt = pickle.load(opt_file)\n",
        "\n",
        "# set the experiment seed\n",
        "torch.manual_seed(orig_opt.seed)\n",
        "random.seed(orig_opt.seed)\n",
        "np.random.seed(orig_opt.seed)\n",
        "\n",
        "dynamics_class = PlanarRobot2D #getattr(dynamics, orig_opt.dynamics_class)\n",
        "dynamics = dynamics_class(**{argname: getattr(orig_opt, argname) for argname in inspect.signature(dynamics_class).parameters.keys() if argname != 'self'})\n",
        "dynamics.deepreach_model=orig_opt.deepreach_model\n",
        "dataset = ReachabilityDataset(\n",
        "    dynamics=dynamics, numpoints=orig_opt.numpoints,\n",
        "    pretrain=orig_opt.pretrain, pretrain_iters=orig_opt.pretrain_iters,\n",
        "    tMin=orig_opt.tMin, tMax=orig_opt.tMax,\n",
        "    counter_start=orig_opt.counter_start, counter_end=orig_opt.counter_end,\n",
        "    num_src_samples=orig_opt.num_src_samples, num_target_samples=orig_opt.num_target_samples)\n",
        "\n",
        "model = SingleBVPNet(in_features=dynamics.input_dim, out_features=1, type=orig_opt.model, mode=orig_opt.model_mode,\n",
        "                             final_layer_factor=1., hidden_features=orig_opt.num_nl, num_hidden_layers=orig_opt.num_hl)\n",
        "model.to(opt.device)\n",
        "\n",
        "experiment_class = DeepReach #getattr(experiments, orig_opt.experiment_class)\n",
        "experiment = experiment_class(model=model, dataset=dataset, experiment_dir=experiment_dir, use_wandb=use_wandb)\n",
        "experiment.init_special(**{argname: getattr(orig_opt, argname) for argname in inspect.signature(experiment_class.init_special).parameters.keys() if argname != 'self'})\n",
        "\n",
        "if (mode == 'all') or (mode == 'train'):\n",
        "    if dynamics.loss_type == 'brt_hjivi':\n",
        "        loss_fn = init_brt_hjivi_loss(dynamics, orig_opt.minWith, orig_opt.dirichlet_loss_divisor)\n",
        "    elif dynamics.loss_type == 'brat_hjivi':\n",
        "        loss_fn = init_brat_hjivi_loss(dynamics, orig_opt.minWith, orig_opt.dirichlet_loss_divisor)\n",
        "    else:\n",
        "        raise NotImplementedError\n",
        "    experiment.train(\n",
        "        device=opt.device, batch_size=orig_opt.batch_size, epochs=orig_opt.num_epochs, lr=orig_opt.lr,\n",
        "        steps_til_summary=orig_opt.steps_til_summary, epochs_til_checkpoint=orig_opt.epochs_til_ckpt,\n",
        "        loss_fn=loss_fn, clip_grad=orig_opt.clip_grad, use_lbfgs=orig_opt.use_lbfgs, adjust_relative_grads=orig_opt.adj_rel_grads,\n",
        "        val_x_resolution=orig_opt.val_x_resolution, val_y_resolution=orig_opt.val_y_resolution, val_z_resolution=orig_opt.val_z_resolution, val_time_resolution=orig_opt.val_time_resolution,\n",
        "        use_CSL=orig_opt.use_CSL, CSL_lr=orig_opt.CSL_lr, CSL_dt=orig_opt.CSL_dt, epochs_til_CSL=orig_opt.epochs_til_CSL, num_CSL_samples=orig_opt.num_CSL_samples, CSL_loss_frac_cutoff=orig_opt.CSL_loss_frac_cutoff, max_CSL_epochs=orig_opt.max_CSL_epochs, CSL_loss_weight=orig_opt.CSL_loss_weight, CSL_batch_size=orig_opt.CSL_batch_size)\n",
        "\n",
        "if (mode == 'all') or (mode == 'test'):\n",
        "    experiment.test(\n",
        "        device=opt.device, current_time=current_time,\n",
        "        last_checkpoint=orig_opt.num_epochs, checkpoint_dt=orig_opt.epochs_til_ckpt,\n",
        "        checkpoint_toload=opt.checkpoint_toload, dt=opt.dt,\n",
        "        num_scenarios=opt.num_scenarios, num_violations=opt.num_violations,\n",
        "        set_type='BRT' if orig_opt.minWith in ['zero', 'target'] else 'BRS', control_type=opt.control_type, data_step=opt.data_step)"
      ],
      "metadata": {
        "colab": {
          "base_uri": "https://localhost:8080/",
          "height": 1000
        },
        "id": "uC4PdfSbE-2l",
        "outputId": "de9f14e4-4a39-4ce8-e83d-e180e4b87130"
      },
      "execution_count": 17,
      "outputs": [
        {
          "data": {
            "text/html": [
              "Tracking run with wandb version 0.19.9"
            ],
            "text/plain": [
              "<IPython.core.display.HTML object>"
            ]
          },
          "metadata": {},
          "output_type": "display_data"
        },
        {
          "data": {
            "text/html": [
              "Run data is saved locally in <code>/content/drive/My Drive/wandb/run-20250419_110601-s48xgarj</code>"
            ],
            "text/plain": [
              "<IPython.core.display.HTML object>"
            ]
          },
          "metadata": {},
          "output_type": "display_data"
        },
        {
          "data": {
            "text/html": [
              "Syncing run <strong><a href='https://wandb.ai/aanirudh-n-a/reachability-experiments/runs/s48xgarj' target=\"_blank\">brt_safeset_05m_run_02</a></strong> to <a href='https://wandb.ai/aanirudh-n-a/reachability-experiments' target=\"_blank\">Weights & Biases</a> (<a href='https://wandb.me/developer-guide' target=\"_blank\">docs</a>)<br>"
            ],
            "text/plain": [
              "<IPython.core.display.HTML object>"
            ]
          },
          "metadata": {},
          "output_type": "display_data"
        },
        {
          "data": {
            "text/html": [
              " View project at <a href='https://wandb.ai/aanirudh-n-a/reachability-experiments' target=\"_blank\">https://wandb.ai/aanirudh-n-a/reachability-experiments</a>"
            ],
            "text/plain": [
              "<IPython.core.display.HTML object>"
            ]
          },
          "metadata": {},
          "output_type": "display_data"
        },
        {
          "data": {
            "text/html": [
              " View run at <a href='https://wandb.ai/aanirudh-n-a/reachability-experiments/runs/s48xgarj' target=\"_blank\">https://wandb.ai/aanirudh-n-a/reachability-experiments/runs/s48xgarj</a>"
            ],
            "text/plain": [
              "<IPython.core.display.HTML object>"
            ]
          },
          "metadata": {},
          "output_type": "display_data"
        },
        {
          "metadata": {
            "tags": null
          },
          "name": "stdout",
          "output_type": "stream",
          "text": [
            "SingleBVPNet(\n",
            "  (net): FCBlock(\n",
            "    (net): Sequential(\n",
            "      (0): Sequential(\n",
            "        (0): BatchLinear(in_features=3, out_features=512, bias=True)\n",
            "        (1): Sine()\n",
            "      )\n",
            "      (1): Sequential(\n",
            "        (0): BatchLinear(in_features=512, out_features=512, bias=True)\n",
            "        (1): Sine()\n",
            "      )\n",
            "      (2): Sequential(\n",
            "        (0): BatchLinear(in_features=512, out_features=512, bias=True)\n",
            "        (1): Sine()\n",
            "      )\n",
            "      (3): Sequential(\n",
            "        (0): BatchLinear(in_features=512, out_features=512, bias=True)\n",
            "        (1): Sine()\n",
            "      )\n",
            "      (4): Sequential(\n",
            "        (0): BatchLinear(in_features=512, out_features=1, bias=True)\n",
            "      )\n",
            "    )\n",
            "  )\n",
            ")\n"
          ]
        },
        {
          "metadata": {
            "tags": null
          },
          "name": "stderr",
          "output_type": "stream",
          "text": [
            "  0%|          | 1/40000 [00:01<17:23:09,  1.56s/it]"
          ]
        },
        {
          "metadata": {
            "tags": null
          },
          "name": "stdout",
          "output_type": "stream",
          "text": [
            "Epoch 0, Total loss 2817.822021, iteration time 1.532481\n"
          ]
        },
        {
          "metadata": {
            "tags": null
          },
          "name": "stderr",
          "output_type": "stream",
          "text": [
            "  0%|          | 102/40000 [00:22<2:19:49,  4.76it/s]"
          ]
        },
        {
          "metadata": {
            "tags": null
          },
          "name": "stdout",
          "output_type": "stream",
          "text": [
            "Epoch 100, Total loss 543.033325, iteration time 0.211500\n"
          ]
        },
        {
          "metadata": {
            "tags": null
          },
          "name": "stderr",
          "output_type": "stream",
          "text": [
            "  1%|          | 202/40000 [00:43<2:32:16,  4.36it/s]"
          ]
        },
        {
          "metadata": {
            "tags": null
          },
          "name": "stdout",
          "output_type": "stream",
          "text": [
            "Epoch 200, Total loss 207.233109, iteration time 0.243977\n"
          ]
        },
        {
          "metadata": {
            "tags": null
          },
          "name": "stderr",
          "output_type": "stream",
          "text": [
            "  1%|          | 302/40000 [01:04<2:24:08,  4.59it/s]"
          ]
        },
        {
          "metadata": {
            "tags": null
          },
          "name": "stdout",
          "output_type": "stream",
          "text": [
            "Epoch 300, Total loss 349.681946, iteration time 0.223981\n"
          ]
        },
        {
          "metadata": {
            "tags": null
          },
          "name": "stderr",
          "output_type": "stream",
          "text": [
            "  1%|          | 402/40000 [01:26<2:23:52,  4.59it/s]"
          ]
        },
        {
          "metadata": {
            "tags": null
          },
          "name": "stdout",
          "output_type": "stream",
          "text": [
            "Epoch 400, Total loss 434.128448, iteration time 0.219529\n"
          ]
        },
        {
          "metadata": {
            "tags": null
          },
          "name": "stderr",
          "output_type": "stream",
          "text": [
            "  1%|▏         | 502/40000 [01:47<2:24:39,  4.55it/s]"
          ]
        },
        {
          "metadata": {
            "tags": null
          },
          "name": "stdout",
          "output_type": "stream",
          "text": [
            "Epoch 500, Total loss 755.522095, iteration time 0.221378\n"
          ]
        },
        {
          "metadata": {
            "tags": null
          },
          "name": "stderr",
          "output_type": "stream",
          "text": [
            "  2%|▏         | 602/40000 [02:09<2:27:15,  4.46it/s]"
          ]
        },
        {
          "metadata": {
            "tags": null
          },
          "name": "stdout",
          "output_type": "stream",
          "text": [
            "Epoch 600, Total loss 706.524048, iteration time 0.229115\n"
          ]
        },
        {
          "metadata": {
            "tags": null
          },
          "name": "stderr",
          "output_type": "stream",
          "text": [
            "  2%|▏         | 702/40000 [02:31<2:32:07,  4.31it/s]"
          ]
        },
        {
          "metadata": {
            "tags": null
          },
          "name": "stdout",
          "output_type": "stream",
          "text": [
            "Epoch 700, Total loss 737.521729, iteration time 0.234577\n"
          ]
        },
        {
          "metadata": {
            "tags": null
          },
          "name": "stderr",
          "output_type": "stream",
          "text": [
            "  2%|▏         | 802/40000 [02:53<2:27:48,  4.42it/s]"
          ]
        },
        {
          "metadata": {
            "tags": null
          },
          "name": "stdout",
          "output_type": "stream",
          "text": [
            "Epoch 800, Total loss 860.764526, iteration time 0.230392\n"
          ]
        },
        {
          "metadata": {
            "tags": null
          },
          "name": "stderr",
          "output_type": "stream",
          "text": [
            "  2%|▏         | 902/40000 [03:16<2:28:00,  4.40it/s]"
          ]
        },
        {
          "metadata": {
            "tags": null
          },
          "name": "stdout",
          "output_type": "stream",
          "text": [
            "Epoch 900, Total loss 1008.637634, iteration time 0.235151\n"
          ]
        },
        {
          "metadata": {
            "tags": null
          },
          "name": "stderr",
          "output_type": "stream",
          "text": [
            "  3%|▎         | 1002/40000 [03:39<4:32:33,  2.38it/s]"
          ]
        },
        {
          "metadata": {
            "tags": null
          },
          "name": "stdout",
          "output_type": "stream",
          "text": [
            "Epoch 1000, Total loss 1008.707703, iteration time 0.106822\n"
          ]
        },
        {
          "metadata": {
            "tags": null
          },
          "name": "stderr",
          "output_type": "stream",
          "text": [
            "  3%|▎         | 1102/40000 [04:01<2:27:08,  4.41it/s]"
          ]
        },
        {
          "metadata": {
            "tags": null
          },
          "name": "stdout",
          "output_type": "stream",
          "text": [
            "Epoch 1100, Total loss 1103.592773, iteration time 0.230654\n"
          ]
        },
        {
          "metadata": {
            "tags": null
          },
          "name": "stderr",
          "output_type": "stream",
          "text": [
            "  3%|▎         | 1202/40000 [04:23<2:27:55,  4.37it/s]"
          ]
        },
        {
          "metadata": {
            "tags": null
          },
          "name": "stdout",
          "output_type": "stream",
          "text": [
            "Epoch 1200, Total loss 1262.625488, iteration time 0.231828\n"
          ]
        },
        {
          "metadata": {
            "tags": null
          },
          "name": "stderr",
          "output_type": "stream",
          "text": [
            "  3%|▎         | 1302/40000 [04:46<2:27:42,  4.37it/s]"
          ]
        },
        {
          "metadata": {
            "tags": null
          },
          "name": "stdout",
          "output_type": "stream",
          "text": [
            "Epoch 1300, Total loss 1768.937012, iteration time 0.233292\n"
          ]
        },
        {
          "metadata": {
            "tags": null
          },
          "name": "stderr",
          "output_type": "stream",
          "text": [
            "  4%|▎         | 1402/40000 [05:08<2:28:12,  4.34it/s]"
          ]
        },
        {
          "metadata": {
            "tags": null
          },
          "name": "stdout",
          "output_type": "stream",
          "text": [
            "Epoch 1400, Total loss 1438.722656, iteration time 0.240109\n"
          ]
        },
        {
          "metadata": {
            "tags": null
          },
          "name": "stderr",
          "output_type": "stream",
          "text": [
            "  4%|▍         | 1502/40000 [05:31<2:31:15,  4.24it/s]"
          ]
        },
        {
          "metadata": {
            "tags": null
          },
          "name": "stdout",
          "output_type": "stream",
          "text": [
            "Epoch 1500, Total loss 1488.441406, iteration time 0.234791\n"
          ]
        },
        {
          "metadata": {
            "tags": null
          },
          "name": "stderr",
          "output_type": "stream",
          "text": [
            "  4%|▍         | 1602/40000 [05:53<2:26:56,  4.36it/s]"
          ]
        },
        {
          "metadata": {
            "tags": null
          },
          "name": "stdout",
          "output_type": "stream",
          "text": [
            "Epoch 1600, Total loss 1638.483765, iteration time 0.230489\n"
          ]
        },
        {
          "metadata": {
            "tags": null
          },
          "name": "stderr",
          "output_type": "stream",
          "text": [
            "  4%|▍         | 1702/40000 [06:16<2:27:06,  4.34it/s]"
          ]
        },
        {
          "metadata": {
            "tags": null
          },
          "name": "stdout",
          "output_type": "stream",
          "text": [
            "Epoch 1700, Total loss 1719.870605, iteration time 0.230929\n"
          ]
        },
        {
          "metadata": {
            "tags": null
          },
          "name": "stderr",
          "output_type": "stream",
          "text": [
            "  5%|▍         | 1802/40000 [06:38<2:27:27,  4.32it/s]"
          ]
        },
        {
          "metadata": {
            "tags": null
          },
          "name": "stdout",
          "output_type": "stream",
          "text": [
            "Epoch 1800, Total loss 1774.698730, iteration time 0.247271\n"
          ]
        },
        {
          "metadata": {
            "tags": null
          },
          "name": "stderr",
          "output_type": "stream",
          "text": [
            "  5%|▍         | 1902/40000 [07:01<2:27:51,  4.29it/s]"
          ]
        },
        {
          "metadata": {
            "tags": null
          },
          "name": "stdout",
          "output_type": "stream",
          "text": [
            "Epoch 1900, Total loss 1747.013184, iteration time 0.238963\n"
          ]
        },
        {
          "metadata": {
            "tags": null
          },
          "name": "stderr",
          "output_type": "stream",
          "text": [
            "  5%|▌         | 2002/40000 [07:24<3:37:25,  2.91it/s]"
          ]
        },
        {
          "metadata": {
            "tags": null
          },
          "name": "stdout",
          "output_type": "stream",
          "text": [
            "Epoch 2000, Total loss 2048.428711, iteration time 0.105961\n"
          ]
        },
        {
          "metadata": {
            "tags": null
          },
          "name": "stderr",
          "output_type": "stream",
          "text": [
            "  5%|▌         | 2102/40000 [07:47<2:29:23,  4.23it/s]"
          ]
        },
        {
          "metadata": {
            "tags": null
          },
          "name": "stdout",
          "output_type": "stream",
          "text": [
            "Epoch 2100, Total loss 2458.502930, iteration time 0.245700\n"
          ]
        },
        {
          "metadata": {
            "tags": null
          },
          "name": "stderr",
          "output_type": "stream",
          "text": [
            "  6%|▌         | 2202/40000 [08:09<2:27:13,  4.28it/s]"
          ]
        },
        {
          "metadata": {
            "tags": null
          },
          "name": "stdout",
          "output_type": "stream",
          "text": [
            "Epoch 2200, Total loss 2117.459229, iteration time 0.255143\n"
          ]
        },
        {
          "metadata": {
            "tags": null
          },
          "name": "stderr",
          "output_type": "stream",
          "text": [
            "  6%|▌         | 2302/40000 [08:32<2:27:12,  4.27it/s]"
          ]
        },
        {
          "metadata": {
            "tags": null
          },
          "name": "stdout",
          "output_type": "stream",
          "text": [
            "Epoch 2300, Total loss 2288.759033, iteration time 0.248941\n"
          ]
        },
        {
          "metadata": {
            "tags": null
          },
          "name": "stderr",
          "output_type": "stream",
          "text": [
            "  6%|▌         | 2402/40000 [08:55<2:24:17,  4.34it/s]"
          ]
        },
        {
          "metadata": {
            "tags": null
          },
          "name": "stdout",
          "output_type": "stream",
          "text": [
            "Epoch 2400, Total loss 2406.125000, iteration time 0.232164\n"
          ]
        },
        {
          "metadata": {
            "tags": null
          },
          "name": "stderr",
          "output_type": "stream",
          "text": [
            "  6%|▋         | 2502/40000 [09:18<2:25:37,  4.29it/s]"
          ]
        },
        {
          "metadata": {
            "tags": null
          },
          "name": "stdout",
          "output_type": "stream",
          "text": [
            "Epoch 2500, Total loss 2094.540283, iteration time 0.250179\n"
          ]
        },
        {
          "metadata": {
            "tags": null
          },
          "name": "stderr",
          "output_type": "stream",
          "text": [
            "  7%|▋         | 2602/40000 [09:40<2:24:48,  4.30it/s]"
          ]
        },
        {
          "metadata": {
            "tags": null
          },
          "name": "stdout",
          "output_type": "stream",
          "text": [
            "Epoch 2600, Total loss 2459.079590, iteration time 0.237214\n"
          ]
        },
        {
          "metadata": {
            "tags": null
          },
          "name": "stderr",
          "output_type": "stream",
          "text": [
            "  7%|▋         | 2702/40000 [10:03<2:24:24,  4.30it/s]"
          ]
        },
        {
          "metadata": {
            "tags": null
          },
          "name": "stdout",
          "output_type": "stream",
          "text": [
            "Epoch 2700, Total loss 2318.969482, iteration time 0.231741\n"
          ]
        },
        {
          "metadata": {
            "tags": null
          },
          "name": "stderr",
          "output_type": "stream",
          "text": [
            "  7%|▋         | 2802/40000 [10:26<2:24:50,  4.28it/s]"
          ]
        },
        {
          "metadata": {
            "tags": null
          },
          "name": "stdout",
          "output_type": "stream",
          "text": [
            "Epoch 2800, Total loss 2184.707275, iteration time 0.234876\n"
          ]
        },
        {
          "metadata": {
            "tags": null
          },
          "name": "stderr",
          "output_type": "stream",
          "text": [
            "  7%|▋         | 2902/40000 [10:49<2:25:24,  4.25it/s]"
          ]
        },
        {
          "metadata": {
            "tags": null
          },
          "name": "stdout",
          "output_type": "stream",
          "text": [
            "Epoch 2900, Total loss 2781.162598, iteration time 0.231577\n"
          ]
        },
        {
          "metadata": {
            "tags": null
          },
          "name": "stderr",
          "output_type": "stream",
          "text": [
            "  8%|▊         | 3002/40000 [11:12<3:31:53,  2.91it/s]"
          ]
        },
        {
          "metadata": {
            "tags": null
          },
          "name": "stdout",
          "output_type": "stream",
          "text": [
            "Epoch 3000, Total loss 2816.377441, iteration time 0.099703\n"
          ]
        },
        {
          "metadata": {
            "tags": null
          },
          "name": "stderr",
          "output_type": "stream",
          "text": [
            "  8%|▊         | 3102/40000 [11:35<2:23:16,  4.29it/s]"
          ]
        },
        {
          "metadata": {
            "tags": null
          },
          "name": "stdout",
          "output_type": "stream",
          "text": [
            "Epoch 3100, Total loss 2344.909424, iteration time 0.243244\n"
          ]
        },
        {
          "metadata": {
            "tags": null
          },
          "name": "stderr",
          "output_type": "stream",
          "text": [
            "  8%|▊         | 3202/40000 [11:58<2:25:23,  4.22it/s]"
          ]
        },
        {
          "metadata": {
            "tags": null
          },
          "name": "stdout",
          "output_type": "stream",
          "text": [
            "Epoch 3200, Total loss 1522.130615, iteration time 0.242423\n"
          ]
        },
        {
          "metadata": {
            "tags": null
          },
          "name": "stderr",
          "output_type": "stream",
          "text": [
            "  8%|▊         | 3302/40000 [12:21<2:22:49,  4.28it/s]"
          ]
        },
        {
          "metadata": {
            "tags": null
          },
          "name": "stdout",
          "output_type": "stream",
          "text": [
            "Epoch 3300, Total loss 2952.756348, iteration time 0.239432\n"
          ]
        },
        {
          "metadata": {
            "tags": null
          },
          "name": "stderr",
          "output_type": "stream",
          "text": [
            "  9%|▊         | 3402/40000 [12:44<2:24:21,  4.23it/s]"
          ]
        },
        {
          "metadata": {
            "tags": null
          },
          "name": "stdout",
          "output_type": "stream",
          "text": [
            "Epoch 3400, Total loss 1314.705444, iteration time 0.241125\n"
          ]
        },
        {
          "metadata": {
            "tags": null
          },
          "name": "stderr",
          "output_type": "stream",
          "text": [
            "  9%|▉         | 3502/40000 [13:08<2:23:52,  4.23it/s]"
          ]
        },
        {
          "metadata": {
            "tags": null
          },
          "name": "stdout",
          "output_type": "stream",
          "text": [
            "Epoch 3500, Total loss 982.790161, iteration time 0.239906\n"
          ]
        },
        {
          "metadata": {
            "tags": null
          },
          "name": "stderr",
          "output_type": "stream",
          "text": [
            "  9%|▉         | 3602/40000 [13:31<2:24:58,  4.18it/s]"
          ]
        },
        {
          "metadata": {
            "tags": null
          },
          "name": "stdout",
          "output_type": "stream",
          "text": [
            "Epoch 3600, Total loss 1119.353149, iteration time 0.243370\n"
          ]
        },
        {
          "metadata": {
            "tags": null
          },
          "name": "stderr",
          "output_type": "stream",
          "text": [
            "  9%|▉         | 3702/40000 [13:54<2:22:53,  4.23it/s]"
          ]
        },
        {
          "metadata": {
            "tags": null
          },
          "name": "stdout",
          "output_type": "stream",
          "text": [
            "Epoch 3700, Total loss 853.034180, iteration time 0.240279\n"
          ]
        },
        {
          "metadata": {
            "tags": null
          },
          "name": "stderr",
          "output_type": "stream",
          "text": [
            " 10%|▉         | 3802/40000 [14:18<2:23:53,  4.19it/s]"
          ]
        },
        {
          "metadata": {
            "tags": null
          },
          "name": "stdout",
          "output_type": "stream",
          "text": [
            "Epoch 3800, Total loss 1214.907104, iteration time 0.252574\n"
          ]
        },
        {
          "metadata": {
            "tags": null
          },
          "name": "stderr",
          "output_type": "stream",
          "text": [
            " 10%|▉         | 3902/40000 [14:41<2:24:03,  4.18it/s]"
          ]
        },
        {
          "metadata": {
            "tags": null
          },
          "name": "stdout",
          "output_type": "stream",
          "text": [
            "Epoch 3900, Total loss 830.736755, iteration time 0.244334\n"
          ]
        },
        {
          "metadata": {
            "tags": null
          },
          "name": "stderr",
          "output_type": "stream",
          "text": [
            " 10%|█         | 4002/40000 [15:05<3:28:06,  2.88it/s]"
          ]
        },
        {
          "metadata": {
            "tags": null
          },
          "name": "stdout",
          "output_type": "stream",
          "text": [
            "Epoch 4000, Total loss 736.334717, iteration time 0.092295\n"
          ]
        },
        {
          "metadata": {
            "tags": null
          },
          "name": "stderr",
          "output_type": "stream",
          "text": [
            " 10%|█         | 4102/40000 [15:28<2:23:04,  4.18it/s]"
          ]
        },
        {
          "metadata": {
            "tags": null
          },
          "name": "stdout",
          "output_type": "stream",
          "text": [
            "Epoch 4100, Total loss 764.887329, iteration time 0.246836\n"
          ]
        },
        {
          "metadata": {
            "tags": null
          },
          "name": "stderr",
          "output_type": "stream",
          "text": [
            " 11%|█         | 4202/40000 [15:52<2:23:22,  4.16it/s]"
          ]
        },
        {
          "metadata": {
            "tags": null
          },
          "name": "stdout",
          "output_type": "stream",
          "text": [
            "Epoch 4200, Total loss 707.307983, iteration time 0.251731\n"
          ]
        },
        {
          "metadata": {
            "tags": null
          },
          "name": "stderr",
          "output_type": "stream",
          "text": [
            " 11%|█         | 4302/40000 [16:15<2:23:59,  4.13it/s]"
          ]
        },
        {
          "metadata": {
            "tags": null
          },
          "name": "stdout",
          "output_type": "stream",
          "text": [
            "Epoch 4300, Total loss 536.188232, iteration time 0.245511\n"
          ]
        },
        {
          "metadata": {
            "tags": null
          },
          "name": "stderr",
          "output_type": "stream",
          "text": [
            " 11%|█         | 4402/40000 [16:38<2:16:27,  4.35it/s]"
          ]
        },
        {
          "metadata": {
            "tags": null
          },
          "name": "stdout",
          "output_type": "stream",
          "text": [
            "Epoch 4400, Total loss 7548.442383, iteration time 0.235291\n"
          ]
        },
        {
          "metadata": {
            "tags": null
          },
          "name": "stderr",
          "output_type": "stream",
          "text": [
            " 11%|█▏        | 4502/40000 [17:01<2:21:40,  4.18it/s]"
          ]
        },
        {
          "metadata": {
            "tags": null
          },
          "name": "stdout",
          "output_type": "stream",
          "text": [
            "Epoch 4500, Total loss 1025.094238, iteration time 0.246990\n"
          ]
        },
        {
          "metadata": {
            "tags": null
          },
          "name": "stderr",
          "output_type": "stream",
          "text": [
            " 12%|█▏        | 4602/40000 [17:25<2:21:39,  4.16it/s]"
          ]
        },
        {
          "metadata": {
            "tags": null
          },
          "name": "stdout",
          "output_type": "stream",
          "text": [
            "Epoch 4600, Total loss 726.453369, iteration time 0.247771\n"
          ]
        },
        {
          "metadata": {
            "tags": null
          },
          "name": "stderr",
          "output_type": "stream",
          "text": [
            " 12%|█▏        | 4702/40000 [17:48<2:20:13,  4.20it/s]"
          ]
        },
        {
          "metadata": {
            "tags": null
          },
          "name": "stdout",
          "output_type": "stream",
          "text": [
            "Epoch 4700, Total loss 863.457458, iteration time 0.243232\n"
          ]
        },
        {
          "metadata": {
            "tags": null
          },
          "name": "stderr",
          "output_type": "stream",
          "text": [
            " 12%|█▏        | 4802/40000 [18:11<2:18:44,  4.23it/s]"
          ]
        },
        {
          "metadata": {
            "tags": null
          },
          "name": "stdout",
          "output_type": "stream",
          "text": [
            "Epoch 4800, Total loss 617.711792, iteration time 0.240338\n"
          ]
        },
        {
          "metadata": {
            "tags": null
          },
          "name": "stderr",
          "output_type": "stream",
          "text": [
            " 12%|█▏        | 4902/40000 [18:35<2:20:20,  4.17it/s]"
          ]
        },
        {
          "metadata": {
            "tags": null
          },
          "name": "stdout",
          "output_type": "stream",
          "text": [
            "Epoch 4900, Total loss 699.970154, iteration time 0.248942\n"
          ]
        },
        {
          "metadata": {
            "tags": null
          },
          "name": "stderr",
          "output_type": "stream",
          "text": [
            " 13%|█▎        | 5002/40000 [18:59<3:21:00,  2.90it/s]"
          ]
        },
        {
          "metadata": {
            "tags": null
          },
          "name": "stdout",
          "output_type": "stream",
          "text": [
            "Epoch 5000, Total loss 596.586121, iteration time 0.095725\n"
          ]
        },
        {
          "metadata": {
            "tags": null
          },
          "name": "stderr",
          "output_type": "stream",
          "text": [
            " 13%|█▎        | 5102/40000 [19:22<2:18:38,  4.20it/s]"
          ]
        },
        {
          "metadata": {
            "tags": null
          },
          "name": "stdout",
          "output_type": "stream",
          "text": [
            "Epoch 5100, Total loss 411.359253, iteration time 0.247063\n"
          ]
        },
        {
          "metadata": {
            "tags": null
          },
          "name": "stderr",
          "output_type": "stream",
          "text": [
            " 13%|█▎        | 5202/40000 [19:45<2:17:07,  4.23it/s]"
          ]
        },
        {
          "metadata": {
            "tags": null
          },
          "name": "stdout",
          "output_type": "stream",
          "text": [
            "Epoch 5200, Total loss 1019.944397, iteration time 0.239650\n"
          ]
        },
        {
          "metadata": {
            "tags": null
          },
          "name": "stderr",
          "output_type": "stream",
          "text": [
            " 13%|█▎        | 5302/40000 [20:09<2:21:30,  4.09it/s]"
          ]
        },
        {
          "metadata": {
            "tags": null
          },
          "name": "stdout",
          "output_type": "stream",
          "text": [
            "Epoch 5300, Total loss 825.198914, iteration time 0.266782\n"
          ]
        },
        {
          "metadata": {
            "tags": null
          },
          "name": "stderr",
          "output_type": "stream",
          "text": [
            " 14%|█▎        | 5402/40000 [20:32<2:17:37,  4.19it/s]"
          ]
        },
        {
          "metadata": {
            "tags": null
          },
          "name": "stdout",
          "output_type": "stream",
          "text": [
            "Epoch 5400, Total loss 760.449402, iteration time 0.246534\n"
          ]
        },
        {
          "metadata": {
            "tags": null
          },
          "name": "stderr",
          "output_type": "stream",
          "text": [
            " 14%|█▍        | 5502/40000 [20:56<2:17:14,  4.19it/s]"
          ]
        },
        {
          "metadata": {
            "tags": null
          },
          "name": "stdout",
          "output_type": "stream",
          "text": [
            "Epoch 5500, Total loss 628.372681, iteration time 0.244378\n"
          ]
        },
        {
          "metadata": {
            "tags": null
          },
          "name": "stderr",
          "output_type": "stream",
          "text": [
            " 14%|█▍        | 5602/40000 [21:19<2:19:37,  4.11it/s]"
          ]
        },
        {
          "metadata": {
            "tags": null
          },
          "name": "stdout",
          "output_type": "stream",
          "text": [
            "Epoch 5600, Total loss 369.514496, iteration time 0.249926\n"
          ]
        },
        {
          "metadata": {
            "tags": null
          },
          "name": "stderr",
          "output_type": "stream",
          "text": [
            " 14%|█▍        | 5702/40000 [21:42<2:17:24,  4.16it/s]"
          ]
        },
        {
          "metadata": {
            "tags": null
          },
          "name": "stdout",
          "output_type": "stream",
          "text": [
            "Epoch 5700, Total loss 567.088623, iteration time 0.244318\n"
          ]
        },
        {
          "metadata": {
            "tags": null
          },
          "name": "stderr",
          "output_type": "stream",
          "text": [
            " 15%|█▍        | 5802/40000 [22:06<2:16:29,  4.18it/s]"
          ]
        },
        {
          "metadata": {
            "tags": null
          },
          "name": "stdout",
          "output_type": "stream",
          "text": [
            "Epoch 5800, Total loss 1089.916748, iteration time 0.248149\n"
          ]
        },
        {
          "metadata": {
            "tags": null
          },
          "name": "stderr",
          "output_type": "stream",
          "text": [
            " 15%|█▍        | 5902/40000 [22:29<2:17:25,  4.14it/s]"
          ]
        },
        {
          "metadata": {
            "tags": null
          },
          "name": "stdout",
          "output_type": "stream",
          "text": [
            "Epoch 5900, Total loss 780.965027, iteration time 0.258882\n"
          ]
        },
        {
          "metadata": {
            "tags": null
          },
          "name": "stderr",
          "output_type": "stream",
          "text": [
            " 15%|█▌        | 6002/40000 [22:53<3:23:48,  2.78it/s]"
          ]
        },
        {
          "metadata": {
            "tags": null
          },
          "name": "stdout",
          "output_type": "stream",
          "text": [
            "Epoch 6000, Total loss 1108.689453, iteration time 0.106810\n"
          ]
        },
        {
          "metadata": {
            "tags": null
          },
          "name": "stderr",
          "output_type": "stream",
          "text": [
            " 15%|█▌        | 6102/40000 [23:17<2:13:44,  4.22it/s]"
          ]
        },
        {
          "metadata": {
            "tags": null
          },
          "name": "stdout",
          "output_type": "stream",
          "text": [
            "Epoch 6100, Total loss 374.050659, iteration time 0.243344\n"
          ]
        },
        {
          "metadata": {
            "tags": null
          },
          "name": "stderr",
          "output_type": "stream",
          "text": [
            " 16%|█▌        | 6202/40000 [23:40<2:14:32,  4.19it/s]"
          ]
        },
        {
          "metadata": {
            "tags": null
          },
          "name": "stdout",
          "output_type": "stream",
          "text": [
            "Epoch 6200, Total loss 369.966187, iteration time 0.245828\n"
          ]
        },
        {
          "metadata": {
            "tags": null
          },
          "name": "stderr",
          "output_type": "stream",
          "text": [
            " 16%|█▌        | 6302/40000 [24:03<2:14:43,  4.17it/s]"
          ]
        },
        {
          "metadata": {
            "tags": null
          },
          "name": "stdout",
          "output_type": "stream",
          "text": [
            "Epoch 6300, Total loss 282.901855, iteration time 0.257543\n"
          ]
        },
        {
          "metadata": {
            "tags": null
          },
          "name": "stderr",
          "output_type": "stream",
          "text": [
            " 16%|█▌        | 6402/40000 [24:27<2:11:15,  4.27it/s]"
          ]
        },
        {
          "metadata": {
            "tags": null
          },
          "name": "stdout",
          "output_type": "stream",
          "text": [
            "Epoch 6400, Total loss 3660.099365, iteration time 0.242975\n"
          ]
        },
        {
          "metadata": {
            "tags": null
          },
          "name": "stderr",
          "output_type": "stream",
          "text": [
            " 16%|█▋        | 6502/40000 [24:50<2:13:12,  4.19it/s]"
          ]
        },
        {
          "metadata": {
            "tags": null
          },
          "name": "stdout",
          "output_type": "stream",
          "text": [
            "Epoch 6500, Total loss 613.898315, iteration time 0.249559\n"
          ]
        },
        {
          "metadata": {
            "tags": null
          },
          "name": "stderr",
          "output_type": "stream",
          "text": [
            " 17%|█▋        | 6602/40000 [25:13<2:13:13,  4.18it/s]"
          ]
        },
        {
          "metadata": {
            "tags": null
          },
          "name": "stdout",
          "output_type": "stream",
          "text": [
            "Epoch 6600, Total loss 464.426758, iteration time 0.246235\n"
          ]
        },
        {
          "metadata": {
            "tags": null
          },
          "name": "stderr",
          "output_type": "stream",
          "text": [
            " 17%|█▋        | 6702/40000 [25:37<2:12:22,  4.19it/s]"
          ]
        },
        {
          "metadata": {
            "tags": null
          },
          "name": "stdout",
          "output_type": "stream",
          "text": [
            "Epoch 6700, Total loss 431.247742, iteration time 0.241383\n"
          ]
        },
        {
          "metadata": {
            "tags": null
          },
          "name": "stderr",
          "output_type": "stream",
          "text": [
            " 17%|█▋        | 6802/40000 [26:00<2:12:13,  4.18it/s]"
          ]
        },
        {
          "metadata": {
            "tags": null
          },
          "name": "stdout",
          "output_type": "stream",
          "text": [
            "Epoch 6800, Total loss 292.845734, iteration time 0.246955\n"
          ]
        },
        {
          "metadata": {
            "tags": null
          },
          "name": "stderr",
          "output_type": "stream",
          "text": [
            " 17%|█▋        | 6902/40000 [26:24<2:12:01,  4.18it/s]"
          ]
        },
        {
          "metadata": {
            "tags": null
          },
          "name": "stdout",
          "output_type": "stream",
          "text": [
            "Epoch 6900, Total loss 1341.505615, iteration time 0.244329\n"
          ]
        },
        {
          "metadata": {
            "tags": null
          },
          "name": "stderr",
          "output_type": "stream",
          "text": [
            " 18%|█▊        | 7002/40000 [26:48<3:31:58,  2.59it/s]"
          ]
        },
        {
          "metadata": {
            "tags": null
          },
          "name": "stdout",
          "output_type": "stream",
          "text": [
            "Epoch 7000, Total loss 905.884155, iteration time 0.100921\n"
          ]
        },
        {
          "metadata": {
            "tags": null
          },
          "name": "stderr",
          "output_type": "stream",
          "text": [
            " 18%|█▊        | 7102/40000 [27:11<2:09:34,  4.23it/s]"
          ]
        },
        {
          "metadata": {
            "tags": null
          },
          "name": "stdout",
          "output_type": "stream",
          "text": [
            "Epoch 7100, Total loss 561.234619, iteration time 0.238796\n"
          ]
        },
        {
          "metadata": {
            "tags": null
          },
          "name": "stderr",
          "output_type": "stream",
          "text": [
            " 18%|█▊        | 7202/40000 [27:34<2:11:25,  4.16it/s]"
          ]
        },
        {
          "metadata": {
            "tags": null
          },
          "name": "stdout",
          "output_type": "stream",
          "text": [
            "Epoch 7200, Total loss 992.368713, iteration time 0.243438\n"
          ]
        },
        {
          "metadata": {
            "tags": null
          },
          "name": "stderr",
          "output_type": "stream",
          "text": [
            " 18%|█▊        | 7302/40000 [27:58<2:11:28,  4.15it/s]"
          ]
        },
        {
          "metadata": {
            "tags": null
          },
          "name": "stdout",
          "output_type": "stream",
          "text": [
            "Epoch 7300, Total loss 341.541626, iteration time 0.242078\n"
          ]
        },
        {
          "metadata": {
            "tags": null
          },
          "name": "stderr",
          "output_type": "stream",
          "text": [
            " 19%|█▊        | 7402/40000 [28:21<2:09:44,  4.19it/s]"
          ]
        },
        {
          "metadata": {
            "tags": null
          },
          "name": "stdout",
          "output_type": "stream",
          "text": [
            "Epoch 7400, Total loss 525.022461, iteration time 0.243796\n"
          ]
        },
        {
          "metadata": {
            "tags": null
          },
          "name": "stderr",
          "output_type": "stream",
          "text": [
            " 19%|█▉        | 7502/40000 [28:45<2:09:24,  4.19it/s]"
          ]
        },
        {
          "metadata": {
            "tags": null
          },
          "name": "stdout",
          "output_type": "stream",
          "text": [
            "Epoch 7500, Total loss 355.985168, iteration time 0.240278\n"
          ]
        },
        {
          "metadata": {
            "tags": null
          },
          "name": "stderr",
          "output_type": "stream",
          "text": [
            " 19%|█▉        | 7602/40000 [29:08<2:08:07,  4.21it/s]"
          ]
        },
        {
          "metadata": {
            "tags": null
          },
          "name": "stdout",
          "output_type": "stream",
          "text": [
            "Epoch 7600, Total loss 345.864075, iteration time 0.242305\n"
          ]
        },
        {
          "metadata": {
            "tags": null
          },
          "name": "stderr",
          "output_type": "stream",
          "text": [
            " 19%|█▉        | 7702/40000 [29:31<2:11:29,  4.09it/s]"
          ]
        },
        {
          "metadata": {
            "tags": null
          },
          "name": "stdout",
          "output_type": "stream",
          "text": [
            "Epoch 7700, Total loss 665.942505, iteration time 0.252546\n"
          ]
        },
        {
          "metadata": {
            "tags": null
          },
          "name": "stderr",
          "output_type": "stream",
          "text": [
            " 20%|█▉        | 7802/40000 [29:55<2:07:12,  4.22it/s]"
          ]
        },
        {
          "metadata": {
            "tags": null
          },
          "name": "stdout",
          "output_type": "stream",
          "text": [
            "Epoch 7800, Total loss 1063.120972, iteration time 0.240523\n"
          ]
        },
        {
          "metadata": {
            "tags": null
          },
          "name": "stderr",
          "output_type": "stream",
          "text": [
            " 20%|█▉        | 7902/40000 [30:18<2:07:29,  4.20it/s]"
          ]
        },
        {
          "metadata": {
            "tags": null
          },
          "name": "stdout",
          "output_type": "stream",
          "text": [
            "Epoch 7900, Total loss 400.617737, iteration time 0.245160\n"
          ]
        },
        {
          "metadata": {
            "tags": null
          },
          "name": "stderr",
          "output_type": "stream",
          "text": [
            " 20%|██        | 8002/40000 [30:42<3:03:50,  2.90it/s]"
          ]
        },
        {
          "metadata": {
            "tags": null
          },
          "name": "stdout",
          "output_type": "stream",
          "text": [
            "Epoch 8000, Total loss 694.469055, iteration time 0.096003\n"
          ]
        },
        {
          "metadata": {
            "tags": null
          },
          "name": "stderr",
          "output_type": "stream",
          "text": [
            " 20%|██        | 8102/40000 [31:05<2:07:41,  4.16it/s]"
          ]
        },
        {
          "metadata": {
            "tags": null
          },
          "name": "stdout",
          "output_type": "stream",
          "text": [
            "Epoch 8100, Total loss 788.925537, iteration time 0.245875\n"
          ]
        },
        {
          "metadata": {
            "tags": null
          },
          "name": "stderr",
          "output_type": "stream",
          "text": [
            " 21%|██        | 8202/40000 [31:29<2:06:27,  4.19it/s]"
          ]
        },
        {
          "metadata": {
            "tags": null
          },
          "name": "stdout",
          "output_type": "stream",
          "text": [
            "Epoch 8200, Total loss 848.739990, iteration time 0.249058\n"
          ]
        },
        {
          "metadata": {
            "tags": null
          },
          "name": "stderr",
          "output_type": "stream",
          "text": [
            " 21%|██        | 8302/40000 [31:52<2:04:51,  4.23it/s]"
          ]
        },
        {
          "metadata": {
            "tags": null
          },
          "name": "stdout",
          "output_type": "stream",
          "text": [
            "Epoch 8300, Total loss 721.820740, iteration time 0.238730\n"
          ]
        },
        {
          "metadata": {
            "tags": null
          },
          "name": "stderr",
          "output_type": "stream",
          "text": [
            " 21%|██        | 8402/40000 [32:15<2:05:22,  4.20it/s]"
          ]
        },
        {
          "metadata": {
            "tags": null
          },
          "name": "stdout",
          "output_type": "stream",
          "text": [
            "Epoch 8400, Total loss 820.735596, iteration time 0.251357\n"
          ]
        },
        {
          "metadata": {
            "tags": null
          },
          "name": "stderr",
          "output_type": "stream",
          "text": [
            " 21%|██▏       | 8502/40000 [32:39<2:05:55,  4.17it/s]"
          ]
        },
        {
          "metadata": {
            "tags": null
          },
          "name": "stdout",
          "output_type": "stream",
          "text": [
            "Epoch 8500, Total loss 530.088135, iteration time 0.244434\n"
          ]
        },
        {
          "metadata": {
            "tags": null
          },
          "name": "stderr",
          "output_type": "stream",
          "text": [
            " 22%|██▏       | 8602/40000 [33:02<2:03:49,  4.23it/s]"
          ]
        },
        {
          "metadata": {
            "tags": null
          },
          "name": "stdout",
          "output_type": "stream",
          "text": [
            "Epoch 8600, Total loss 823.406372, iteration time 0.242123\n"
          ]
        },
        {
          "metadata": {
            "tags": null
          },
          "name": "stderr",
          "output_type": "stream",
          "text": [
            " 22%|██▏       | 8702/40000 [33:26<2:04:21,  4.19it/s]"
          ]
        },
        {
          "metadata": {
            "tags": null
          },
          "name": "stdout",
          "output_type": "stream",
          "text": [
            "Epoch 8700, Total loss 703.479736, iteration time 0.247056\n"
          ]
        },
        {
          "metadata": {
            "tags": null
          },
          "name": "stderr",
          "output_type": "stream",
          "text": [
            " 22%|██▏       | 8802/40000 [33:49<2:05:42,  4.14it/s]"
          ]
        },
        {
          "metadata": {
            "tags": null
          },
          "name": "stdout",
          "output_type": "stream",
          "text": [
            "Epoch 8800, Total loss 612.226562, iteration time 0.240869\n"
          ]
        },
        {
          "metadata": {
            "tags": null
          },
          "name": "stderr",
          "output_type": "stream",
          "text": [
            " 22%|██▏       | 8902/40000 [34:12<2:02:41,  4.22it/s]"
          ]
        },
        {
          "metadata": {
            "tags": null
          },
          "name": "stdout",
          "output_type": "stream",
          "text": [
            "Epoch 8900, Total loss 714.815125, iteration time 0.250800\n"
          ]
        },
        {
          "metadata": {
            "tags": null
          },
          "name": "stderr",
          "output_type": "stream",
          "text": [
            " 23%|██▎       | 9002/40000 [34:36<2:58:56,  2.89it/s]"
          ]
        },
        {
          "metadata": {
            "tags": null
          },
          "name": "stdout",
          "output_type": "stream",
          "text": [
            "Epoch 9000, Total loss 757.507202, iteration time 0.093251\n"
          ]
        },
        {
          "metadata": {
            "tags": null
          },
          "name": "stderr",
          "output_type": "stream",
          "text": [
            " 23%|██▎       | 9102/40000 [35:00<2:02:53,  4.19it/s]"
          ]
        },
        {
          "metadata": {
            "tags": null
          },
          "name": "stdout",
          "output_type": "stream",
          "text": [
            "Epoch 9100, Total loss 693.531372, iteration time 0.242183\n"
          ]
        },
        {
          "metadata": {
            "tags": null
          },
          "name": "stderr",
          "output_type": "stream",
          "text": [
            " 23%|██▎       | 9202/40000 [35:23<2:02:51,  4.18it/s]"
          ]
        },
        {
          "metadata": {
            "tags": null
          },
          "name": "stdout",
          "output_type": "stream",
          "text": [
            "Epoch 9200, Total loss 582.004089, iteration time 0.243770\n"
          ]
        },
        {
          "metadata": {
            "tags": null
          },
          "name": "stderr",
          "output_type": "stream",
          "text": [
            " 23%|██▎       | 9302/40000 [35:47<2:01:35,  4.21it/s]"
          ]
        },
        {
          "metadata": {
            "tags": null
          },
          "name": "stdout",
          "output_type": "stream",
          "text": [
            "Epoch 9300, Total loss 511.233643, iteration time 0.243709\n"
          ]
        },
        {
          "metadata": {
            "tags": null
          },
          "name": "stderr",
          "output_type": "stream",
          "text": [
            " 24%|██▎       | 9402/40000 [36:10<2:02:40,  4.16it/s]"
          ]
        },
        {
          "metadata": {
            "tags": null
          },
          "name": "stdout",
          "output_type": "stream",
          "text": [
            "Epoch 9400, Total loss 612.090454, iteration time 0.246358\n"
          ]
        },
        {
          "metadata": {
            "tags": null
          },
          "name": "stderr",
          "output_type": "stream",
          "text": [
            " 24%|██▍       | 9502/40000 [36:33<2:03:06,  4.13it/s]"
          ]
        },
        {
          "metadata": {
            "tags": null
          },
          "name": "stdout",
          "output_type": "stream",
          "text": [
            "Epoch 9500, Total loss 596.433044, iteration time 0.249171\n"
          ]
        },
        {
          "metadata": {
            "tags": null
          },
          "name": "stderr",
          "output_type": "stream",
          "text": [
            " 24%|██▍       | 9602/40000 [36:57<2:01:55,  4.16it/s]"
          ]
        },
        {
          "metadata": {
            "tags": null
          },
          "name": "stdout",
          "output_type": "stream",
          "text": [
            "Epoch 9600, Total loss 615.186829, iteration time 0.244467\n"
          ]
        },
        {
          "metadata": {
            "tags": null
          },
          "name": "stderr",
          "output_type": "stream",
          "text": [
            " 24%|██▍       | 9702/40000 [37:20<2:00:48,  4.18it/s]"
          ]
        },
        {
          "metadata": {
            "tags": null
          },
          "name": "stdout",
          "output_type": "stream",
          "text": [
            "Epoch 9700, Total loss 626.716309, iteration time 0.241450\n"
          ]
        },
        {
          "metadata": {
            "tags": null
          },
          "name": "stderr",
          "output_type": "stream",
          "text": [
            " 25%|██▍       | 9802/40000 [37:44<1:59:49,  4.20it/s]"
          ]
        },
        {
          "metadata": {
            "tags": null
          },
          "name": "stdout",
          "output_type": "stream",
          "text": [
            "Epoch 9800, Total loss 518.137207, iteration time 0.243076\n"
          ]
        },
        {
          "metadata": {
            "tags": null
          },
          "name": "stderr",
          "output_type": "stream",
          "text": [
            " 25%|██▍       | 9902/40000 [38:07<2:00:14,  4.17it/s]"
          ]
        },
        {
          "metadata": {
            "tags": null
          },
          "name": "stdout",
          "output_type": "stream",
          "text": [
            "Epoch 9900, Total loss 558.393555, iteration time 0.249344\n"
          ]
        },
        {
          "metadata": {
            "tags": null
          },
          "name": "stderr",
          "output_type": "stream",
          "text": [
            " 25%|██▌       | 10002/40000 [38:31<2:51:41,  2.91it/s]"
          ]
        },
        {
          "metadata": {
            "tags": null
          },
          "name": "stdout",
          "output_type": "stream",
          "text": [
            "Epoch 10000, Total loss 547.971558, iteration time 0.092049\n"
          ]
        },
        {
          "metadata": {
            "tags": null
          },
          "name": "stderr",
          "output_type": "stream",
          "text": [
            " 25%|██▌       | 10102/40000 [38:54<1:57:44,  4.23it/s]"
          ]
        },
        {
          "metadata": {
            "tags": null
          },
          "name": "stdout",
          "output_type": "stream",
          "text": [
            "Epoch 10100, Total loss 693.929749, iteration time 0.241414\n"
          ]
        },
        {
          "metadata": {
            "tags": null
          },
          "name": "stderr",
          "output_type": "stream",
          "text": [
            " 26%|██▌       | 10202/40000 [39:18<1:59:35,  4.15it/s]"
          ]
        },
        {
          "metadata": {
            "tags": null
          },
          "name": "stdout",
          "output_type": "stream",
          "text": [
            "Epoch 10200, Total loss 575.881592, iteration time 0.243731\n"
          ]
        },
        {
          "metadata": {
            "tags": null
          },
          "name": "stderr",
          "output_type": "stream",
          "text": [
            " 26%|██▌       | 10302/40000 [39:41<1:58:28,  4.18it/s]"
          ]
        },
        {
          "metadata": {
            "tags": null
          },
          "name": "stdout",
          "output_type": "stream",
          "text": [
            "Epoch 10300, Total loss 565.439575, iteration time 0.245344\n"
          ]
        },
        {
          "metadata": {
            "tags": null
          },
          "name": "stderr",
          "output_type": "stream",
          "text": [
            " 26%|██▌       | 10402/40000 [40:04<1:56:42,  4.23it/s]"
          ]
        },
        {
          "metadata": {
            "tags": null
          },
          "name": "stdout",
          "output_type": "stream",
          "text": [
            "Epoch 10400, Total loss 554.311951, iteration time 0.241686\n"
          ]
        },
        {
          "metadata": {
            "tags": null
          },
          "name": "stderr",
          "output_type": "stream",
          "text": [
            " 26%|██▋       | 10502/40000 [40:28<1:56:26,  4.22it/s]"
          ]
        },
        {
          "metadata": {
            "tags": null
          },
          "name": "stdout",
          "output_type": "stream",
          "text": [
            "Epoch 10500, Total loss 558.100464, iteration time 0.239206\n"
          ]
        },
        {
          "metadata": {
            "tags": null
          },
          "name": "stderr",
          "output_type": "stream",
          "text": [
            " 27%|██▋       | 10602/40000 [40:51<1:57:29,  4.17it/s]"
          ]
        },
        {
          "metadata": {
            "tags": null
          },
          "name": "stdout",
          "output_type": "stream",
          "text": [
            "Epoch 10600, Total loss 544.312866, iteration time 0.241156\n"
          ]
        },
        {
          "metadata": {
            "tags": null
          },
          "name": "stderr",
          "output_type": "stream",
          "text": [
            " 27%|██▋       | 10702/40000 [41:14<1:56:10,  4.20it/s]"
          ]
        },
        {
          "metadata": {
            "tags": null
          },
          "name": "stdout",
          "output_type": "stream",
          "text": [
            "Epoch 10700, Total loss 523.103027, iteration time 0.244684\n"
          ]
        },
        {
          "metadata": {
            "tags": null
          },
          "name": "stderr",
          "output_type": "stream",
          "text": [
            " 27%|██▋       | 10802/40000 [41:38<1:55:26,  4.22it/s]"
          ]
        },
        {
          "metadata": {
            "tags": null
          },
          "name": "stdout",
          "output_type": "stream",
          "text": [
            "Epoch 10800, Total loss 598.562683, iteration time 0.239030\n"
          ]
        },
        {
          "metadata": {
            "tags": null
          },
          "name": "stderr",
          "output_type": "stream",
          "text": [
            " 27%|██▋       | 10902/40000 [42:01<1:55:50,  4.19it/s]"
          ]
        },
        {
          "metadata": {
            "tags": null
          },
          "name": "stdout",
          "output_type": "stream",
          "text": [
            "Epoch 10900, Total loss 542.726868, iteration time 0.244166\n"
          ]
        },
        {
          "metadata": {
            "tags": null
          },
          "name": "stderr",
          "output_type": "stream",
          "text": [
            " 28%|██▊       | 11002/40000 [42:26<4:03:33,  1.98it/s]"
          ]
        },
        {
          "metadata": {
            "tags": null
          },
          "name": "stdout",
          "output_type": "stream",
          "text": [
            "Epoch 11000, Total loss 564.881836, iteration time 0.104460\n"
          ]
        },
        {
          "metadata": {
            "tags": null
          },
          "name": "stderr",
          "output_type": "stream",
          "text": [
            " 28%|██▊       | 11102/40000 [42:49<1:53:59,  4.23it/s]"
          ]
        },
        {
          "metadata": {
            "tags": null
          },
          "name": "stdout",
          "output_type": "stream",
          "text": [
            "Epoch 11100, Total loss 498.631134, iteration time 0.239745\n"
          ]
        },
        {
          "metadata": {
            "tags": null
          },
          "name": "stderr",
          "output_type": "stream",
          "text": [
            " 28%|██▊       | 11202/40000 [43:13<1:54:55,  4.18it/s]"
          ]
        },
        {
          "metadata": {
            "tags": null
          },
          "name": "stdout",
          "output_type": "stream",
          "text": [
            "Epoch 11200, Total loss 592.672119, iteration time 0.248423\n"
          ]
        },
        {
          "metadata": {
            "tags": null
          },
          "name": "stderr",
          "output_type": "stream",
          "text": [
            " 28%|██▊       | 11302/40000 [43:36<1:54:28,  4.18it/s]"
          ]
        },
        {
          "metadata": {
            "tags": null
          },
          "name": "stdout",
          "output_type": "stream",
          "text": [
            "Epoch 11300, Total loss 654.904053, iteration time 0.235932\n"
          ]
        },
        {
          "metadata": {
            "tags": null
          },
          "name": "stderr",
          "output_type": "stream",
          "text": [
            " 29%|██▊       | 11402/40000 [44:00<1:54:53,  4.15it/s]"
          ]
        },
        {
          "metadata": {
            "tags": null
          },
          "name": "stdout",
          "output_type": "stream",
          "text": [
            "Epoch 11400, Total loss 550.705688, iteration time 0.245918\n"
          ]
        },
        {
          "metadata": {
            "tags": null
          },
          "name": "stderr",
          "output_type": "stream",
          "text": [
            " 29%|██▉       | 11502/40000 [44:23<1:52:27,  4.22it/s]"
          ]
        },
        {
          "metadata": {
            "tags": null
          },
          "name": "stdout",
          "output_type": "stream",
          "text": [
            "Epoch 11500, Total loss 626.817444, iteration time 0.240731\n"
          ]
        },
        {
          "metadata": {
            "tags": null
          },
          "name": "stderr",
          "output_type": "stream",
          "text": [
            " 29%|██▉       | 11602/40000 [44:47<1:53:55,  4.15it/s]"
          ]
        },
        {
          "metadata": {
            "tags": null
          },
          "name": "stdout",
          "output_type": "stream",
          "text": [
            "Epoch 11600, Total loss 528.440186, iteration time 0.247972\n"
          ]
        },
        {
          "metadata": {
            "tags": null
          },
          "name": "stderr",
          "output_type": "stream",
          "text": [
            " 29%|██▉       | 11702/40000 [45:10<1:52:50,  4.18it/s]"
          ]
        },
        {
          "metadata": {
            "tags": null
          },
          "name": "stdout",
          "output_type": "stream",
          "text": [
            "Epoch 11700, Total loss 654.898926, iteration time 0.246135\n"
          ]
        },
        {
          "output_type": "stream",
          "name": "stderr",
          "text": [
            " 30%|██▉       | 11802/40000 [45:33<1:51:00,  4.23it/s]"
          ]
        },
        {
          "output_type": "stream",
          "name": "stdout",
          "text": [
            "Epoch 11800, Total loss 575.802368, iteration time 0.243019\n"
          ]
        },
        {
          "output_type": "stream",
          "name": "stderr",
          "text": [
            " 30%|██▉       | 11902/40000 [45:57<1:50:34,  4.24it/s]"
          ]
        },
        {
          "output_type": "stream",
          "name": "stdout",
          "text": [
            "Epoch 11900, Total loss 582.583313, iteration time 0.238122\n"
          ]
        },
        {
          "output_type": "stream",
          "name": "stderr",
          "text": [
            " 30%|███       | 12002/40000 [46:21<2:45:37,  2.82it/s]"
          ]
        },
        {
          "output_type": "stream",
          "name": "stdout",
          "text": [
            "Epoch 12000, Total loss 485.281769, iteration time 0.093069\n"
          ]
        },
        {
          "output_type": "stream",
          "name": "stderr",
          "text": [
            " 30%|███       | 12102/40000 [46:44<1:52:17,  4.14it/s]"
          ]
        },
        {
          "output_type": "stream",
          "name": "stdout",
          "text": [
            "Epoch 12100, Total loss 468.600311, iteration time 0.247799\n"
          ]
        },
        {
          "output_type": "stream",
          "name": "stderr",
          "text": [
            " 31%|███       | 12202/40000 [47:07<1:49:38,  4.23it/s]"
          ]
        },
        {
          "output_type": "stream",
          "name": "stdout",
          "text": [
            "Epoch 12200, Total loss 597.945435, iteration time 0.239515\n"
          ]
        },
        {
          "output_type": "stream",
          "name": "stderr",
          "text": [
            " 31%|███       | 12302/40000 [47:31<1:49:39,  4.21it/s]"
          ]
        },
        {
          "output_type": "stream",
          "name": "stdout",
          "text": [
            "Epoch 12300, Total loss 217.601273, iteration time 0.240728\n"
          ]
        },
        {
          "output_type": "stream",
          "name": "stderr",
          "text": [
            " 31%|███       | 12402/40000 [47:54<1:49:47,  4.19it/s]"
          ]
        },
        {
          "output_type": "stream",
          "name": "stdout",
          "text": [
            "Epoch 12400, Total loss 208.685196, iteration time 0.246101\n"
          ]
        },
        {
          "output_type": "stream",
          "name": "stderr",
          "text": [
            " 31%|███▏      | 12502/40000 [48:18<1:49:30,  4.19it/s]"
          ]
        },
        {
          "output_type": "stream",
          "name": "stdout",
          "text": [
            "Epoch 12500, Total loss 246.673248, iteration time 0.246906\n"
          ]
        },
        {
          "output_type": "stream",
          "name": "stderr",
          "text": [
            " 32%|███▏      | 12602/40000 [48:41<1:50:17,  4.14it/s]"
          ]
        },
        {
          "output_type": "stream",
          "name": "stdout",
          "text": [
            "Epoch 12600, Total loss 392.238037, iteration time 0.248466\n"
          ]
        },
        {
          "output_type": "stream",
          "name": "stderr",
          "text": [
            " 32%|███▏      | 12702/40000 [49:04<1:48:51,  4.18it/s]"
          ]
        },
        {
          "output_type": "stream",
          "name": "stdout",
          "text": [
            "Epoch 12700, Total loss 251.863373, iteration time 0.242762\n"
          ]
        },
        {
          "output_type": "stream",
          "name": "stderr",
          "text": [
            " 32%|███▏      | 12802/40000 [49:28<1:47:55,  4.20it/s]"
          ]
        },
        {
          "output_type": "stream",
          "name": "stdout",
          "text": [
            "Epoch 12800, Total loss 2782.437988, iteration time 0.241900\n"
          ]
        },
        {
          "output_type": "stream",
          "name": "stderr",
          "text": [
            " 32%|███▏      | 12902/40000 [49:51<1:49:05,  4.14it/s]"
          ]
        },
        {
          "output_type": "stream",
          "name": "stdout",
          "text": [
            "Epoch 12900, Total loss 278.657349, iteration time 0.252502\n"
          ]
        },
        {
          "output_type": "stream",
          "name": "stderr",
          "text": [
            " 33%|███▎      | 13002/40000 [50:15<2:35:49,  2.89it/s]"
          ]
        },
        {
          "output_type": "stream",
          "name": "stdout",
          "text": [
            "Epoch 13000, Total loss 235.580383, iteration time 0.094024\n"
          ]
        },
        {
          "output_type": "stream",
          "name": "stderr",
          "text": [
            " 33%|███▎      | 13102/40000 [50:39<1:46:56,  4.19it/s]"
          ]
        },
        {
          "output_type": "stream",
          "name": "stdout",
          "text": [
            "Epoch 13100, Total loss 896.579468, iteration time 0.244854\n"
          ]
        },
        {
          "output_type": "stream",
          "name": "stderr",
          "text": [
            " 33%|███▎      | 13202/40000 [51:02<1:47:58,  4.14it/s]"
          ]
        },
        {
          "output_type": "stream",
          "name": "stdout",
          "text": [
            "Epoch 13200, Total loss 632.976318, iteration time 0.249270\n"
          ]
        },
        {
          "output_type": "stream",
          "name": "stderr",
          "text": [
            " 33%|███▎      | 13302/40000 [51:25<1:47:24,  4.14it/s]"
          ]
        },
        {
          "output_type": "stream",
          "name": "stdout",
          "text": [
            "Epoch 13300, Total loss 600.548462, iteration time 0.243074\n"
          ]
        },
        {
          "output_type": "stream",
          "name": "stderr",
          "text": [
            " 34%|███▎      | 13402/40000 [51:49<1:46:16,  4.17it/s]"
          ]
        },
        {
          "output_type": "stream",
          "name": "stdout",
          "text": [
            "Epoch 13400, Total loss 658.841370, iteration time 0.245179\n"
          ]
        },
        {
          "output_type": "stream",
          "name": "stderr",
          "text": [
            " 34%|███▍      | 13502/40000 [52:12<1:45:42,  4.18it/s]"
          ]
        },
        {
          "output_type": "stream",
          "name": "stdout",
          "text": [
            "Epoch 13500, Total loss 644.577393, iteration time 0.242806\n"
          ]
        },
        {
          "output_type": "stream",
          "name": "stderr",
          "text": [
            " 34%|███▍      | 13602/40000 [52:36<1:45:17,  4.18it/s]"
          ]
        },
        {
          "output_type": "stream",
          "name": "stdout",
          "text": [
            "Epoch 13600, Total loss 621.312256, iteration time 0.252243\n"
          ]
        },
        {
          "output_type": "stream",
          "name": "stderr",
          "text": [
            " 34%|███▍      | 13702/40000 [52:59<1:44:25,  4.20it/s]"
          ]
        },
        {
          "output_type": "stream",
          "name": "stdout",
          "text": [
            "Epoch 13700, Total loss 617.646362, iteration time 0.244962\n"
          ]
        },
        {
          "output_type": "stream",
          "name": "stderr",
          "text": [
            " 35%|███▍      | 13802/40000 [53:23<1:43:38,  4.21it/s]"
          ]
        },
        {
          "output_type": "stream",
          "name": "stdout",
          "text": [
            "Epoch 13800, Total loss 614.697144, iteration time 0.240588\n"
          ]
        },
        {
          "output_type": "stream",
          "name": "stderr",
          "text": [
            " 35%|███▍      | 13902/40000 [53:46<1:45:10,  4.14it/s]"
          ]
        },
        {
          "output_type": "stream",
          "name": "stdout",
          "text": [
            "Epoch 13900, Total loss 596.563599, iteration time 0.253218\n"
          ]
        },
        {
          "output_type": "stream",
          "name": "stderr",
          "text": [
            " 35%|███▌      | 14002/40000 [54:10<2:44:04,  2.64it/s]"
          ]
        },
        {
          "output_type": "stream",
          "name": "stdout",
          "text": [
            "Epoch 14000, Total loss 615.174683, iteration time 0.093306\n"
          ]
        },
        {
          "output_type": "stream",
          "name": "stderr",
          "text": [
            " 35%|███▌      | 14102/40000 [54:34<1:44:21,  4.14it/s]"
          ]
        },
        {
          "output_type": "stream",
          "name": "stdout",
          "text": [
            "Epoch 14100, Total loss 484.917267, iteration time 0.243459\n"
          ]
        },
        {
          "output_type": "stream",
          "name": "stderr",
          "text": [
            " 36%|███▌      | 14202/40000 [54:57<1:42:46,  4.18it/s]"
          ]
        },
        {
          "output_type": "stream",
          "name": "stdout",
          "text": [
            "Epoch 14200, Total loss 648.265625, iteration time 0.244787\n"
          ]
        },
        {
          "output_type": "stream",
          "name": "stderr",
          "text": [
            " 36%|███▌      | 14302/40000 [55:20<1:41:49,  4.21it/s]"
          ]
        },
        {
          "output_type": "stream",
          "name": "stdout",
          "text": [
            "Epoch 14300, Total loss 563.394165, iteration time 0.239789\n"
          ]
        },
        {
          "output_type": "stream",
          "name": "stderr",
          "text": [
            " 36%|███▌      | 14402/40000 [55:44<1:42:45,  4.15it/s]"
          ]
        },
        {
          "output_type": "stream",
          "name": "stdout",
          "text": [
            "Epoch 14400, Total loss 571.571228, iteration time 0.242887\n"
          ]
        },
        {
          "output_type": "stream",
          "name": "stderr",
          "text": [
            " 36%|███▋      | 14502/40000 [56:07<1:41:55,  4.17it/s]"
          ]
        },
        {
          "output_type": "stream",
          "name": "stdout",
          "text": [
            "Epoch 14500, Total loss 578.693848, iteration time 0.241483\n"
          ]
        },
        {
          "output_type": "stream",
          "name": "stderr",
          "text": [
            " 37%|███▋      | 14602/40000 [56:31<1:41:33,  4.17it/s]"
          ]
        },
        {
          "output_type": "stream",
          "name": "stdout",
          "text": [
            "Epoch 14600, Total loss 651.547974, iteration time 0.245599\n"
          ]
        },
        {
          "output_type": "stream",
          "name": "stderr",
          "text": [
            " 37%|███▋      | 14702/40000 [56:54<1:40:51,  4.18it/s]"
          ]
        },
        {
          "output_type": "stream",
          "name": "stdout",
          "text": [
            "Epoch 14700, Total loss 582.900879, iteration time 0.251040\n"
          ]
        },
        {
          "output_type": "stream",
          "name": "stderr",
          "text": [
            " 37%|███▋      | 14802/40000 [57:18<1:41:08,  4.15it/s]"
          ]
        },
        {
          "output_type": "stream",
          "name": "stdout",
          "text": [
            "Epoch 14800, Total loss 558.496948, iteration time 0.240441\n"
          ]
        },
        {
          "output_type": "stream",
          "name": "stderr",
          "text": [
            " 37%|███▋      | 14902/40000 [57:41<1:39:51,  4.19it/s]"
          ]
        },
        {
          "output_type": "stream",
          "name": "stdout",
          "text": [
            "Epoch 14900, Total loss 558.425415, iteration time 0.246728\n"
          ]
        },
        {
          "output_type": "stream",
          "name": "stderr",
          "text": [
            " 38%|███▊      | 15002/40000 [58:05<2:26:41,  2.84it/s]"
          ]
        },
        {
          "output_type": "stream",
          "name": "stdout",
          "text": [
            "Epoch 15000, Total loss 529.649170, iteration time 0.095997\n"
          ]
        },
        {
          "output_type": "stream",
          "name": "stderr",
          "text": [
            " 38%|███▊      | 15102/40000 [58:28<1:40:08,  4.14it/s]"
          ]
        },
        {
          "output_type": "stream",
          "name": "stdout",
          "text": [
            "Epoch 15100, Total loss 606.969849, iteration time 0.250762\n"
          ]
        },
        {
          "output_type": "stream",
          "name": "stderr",
          "text": [
            " 38%|███▊      | 15202/40000 [58:52<1:39:09,  4.17it/s]"
          ]
        },
        {
          "output_type": "stream",
          "name": "stdout",
          "text": [
            "Epoch 15200, Total loss 598.981995, iteration time 0.240863\n"
          ]
        },
        {
          "output_type": "stream",
          "name": "stderr",
          "text": [
            " 38%|███▊      | 15302/40000 [59:15<1:39:22,  4.14it/s]"
          ]
        },
        {
          "output_type": "stream",
          "name": "stdout",
          "text": [
            "Epoch 15300, Total loss 595.150146, iteration time 0.246732\n"
          ]
        },
        {
          "output_type": "stream",
          "name": "stderr",
          "text": [
            " 39%|███▊      | 15402/40000 [59:39<1:38:06,  4.18it/s]"
          ]
        },
        {
          "output_type": "stream",
          "name": "stdout",
          "text": [
            "Epoch 15400, Total loss 688.350525, iteration time 0.243413\n"
          ]
        },
        {
          "output_type": "stream",
          "name": "stderr",
          "text": [
            " 39%|███▉      | 15502/40000 [1:00:02<1:37:58,  4.17it/s]"
          ]
        },
        {
          "output_type": "stream",
          "name": "stdout",
          "text": [
            "Epoch 15500, Total loss 597.613159, iteration time 0.243446\n"
          ]
        },
        {
          "output_type": "stream",
          "name": "stderr",
          "text": [
            " 39%|███▉      | 15602/40000 [1:00:26<1:38:44,  4.12it/s]"
          ]
        },
        {
          "output_type": "stream",
          "name": "stdout",
          "text": [
            "Epoch 15600, Total loss 557.971008, iteration time 0.255164\n"
          ]
        },
        {
          "output_type": "stream",
          "name": "stderr",
          "text": [
            " 39%|███▉      | 15702/40000 [1:00:49<1:36:10,  4.21it/s]"
          ]
        },
        {
          "output_type": "stream",
          "name": "stdout",
          "text": [
            "Epoch 15700, Total loss 530.264282, iteration time 0.242475\n"
          ]
        },
        {
          "output_type": "stream",
          "name": "stderr",
          "text": [
            " 40%|███▉      | 15802/40000 [1:01:12<1:36:35,  4.18it/s]"
          ]
        },
        {
          "output_type": "stream",
          "name": "stdout",
          "text": [
            "Epoch 15800, Total loss 511.793457, iteration time 0.251156\n"
          ]
        },
        {
          "output_type": "stream",
          "name": "stderr",
          "text": [
            " 40%|███▉      | 15902/40000 [1:01:36<1:35:41,  4.20it/s]"
          ]
        },
        {
          "output_type": "stream",
          "name": "stdout",
          "text": [
            "Epoch 15900, Total loss 509.597595, iteration time 0.243642\n"
          ]
        },
        {
          "output_type": "stream",
          "name": "stderr",
          "text": [
            " 40%|████      | 16002/40000 [1:02:00<2:34:24,  2.59it/s]"
          ]
        },
        {
          "output_type": "stream",
          "name": "stdout",
          "text": [
            "Epoch 16000, Total loss 549.928101, iteration time 0.092887\n"
          ]
        },
        {
          "output_type": "stream",
          "name": "stderr",
          "text": [
            " 40%|████      | 16102/40000 [1:02:24<1:34:58,  4.19it/s]"
          ]
        },
        {
          "output_type": "stream",
          "name": "stdout",
          "text": [
            "Epoch 16100, Total loss 636.059631, iteration time 0.252554\n"
          ]
        },
        {
          "output_type": "stream",
          "name": "stderr",
          "text": [
            " 41%|████      | 16202/40000 [1:02:47<1:35:07,  4.17it/s]"
          ]
        },
        {
          "output_type": "stream",
          "name": "stdout",
          "text": [
            "Epoch 16200, Total loss 607.866211, iteration time 0.242193\n"
          ]
        },
        {
          "output_type": "stream",
          "name": "stderr",
          "text": [
            " 41%|████      | 16302/40000 [1:03:10<1:33:35,  4.22it/s]"
          ]
        },
        {
          "output_type": "stream",
          "name": "stdout",
          "text": [
            "Epoch 16300, Total loss 629.630371, iteration time 0.239242\n"
          ]
        },
        {
          "output_type": "stream",
          "name": "stderr",
          "text": [
            " 41%|████      | 16402/40000 [1:03:34<1:34:58,  4.14it/s]"
          ]
        },
        {
          "output_type": "stream",
          "name": "stdout",
          "text": [
            "Epoch 16400, Total loss 639.408203, iteration time 0.251069\n"
          ]
        },
        {
          "output_type": "stream",
          "name": "stderr",
          "text": [
            " 41%|████▏     | 16502/40000 [1:03:57<1:35:09,  4.12it/s]"
          ]
        },
        {
          "output_type": "stream",
          "name": "stdout",
          "text": [
            "Epoch 16500, Total loss 495.090515, iteration time 0.240506\n"
          ]
        },
        {
          "output_type": "stream",
          "name": "stderr",
          "text": [
            " 42%|████▏     | 16602/40000 [1:04:21<1:33:15,  4.18it/s]"
          ]
        },
        {
          "output_type": "stream",
          "name": "stdout",
          "text": [
            "Epoch 16600, Total loss 581.882935, iteration time 0.245788\n"
          ]
        },
        {
          "output_type": "stream",
          "name": "stderr",
          "text": [
            " 42%|████▏     | 16702/40000 [1:04:44<1:31:58,  4.22it/s]"
          ]
        },
        {
          "output_type": "stream",
          "name": "stdout",
          "text": [
            "Epoch 16700, Total loss 580.559143, iteration time 0.238554\n"
          ]
        },
        {
          "output_type": "stream",
          "name": "stderr",
          "text": [
            " 42%|████▏     | 16802/40000 [1:05:08<1:32:14,  4.19it/s]"
          ]
        },
        {
          "output_type": "stream",
          "name": "stdout",
          "text": [
            "Epoch 16800, Total loss 592.962708, iteration time 0.251080\n"
          ]
        },
        {
          "output_type": "stream",
          "name": "stderr",
          "text": [
            " 42%|████▏     | 16902/40000 [1:05:31<1:32:58,  4.14it/s]"
          ]
        },
        {
          "output_type": "stream",
          "name": "stdout",
          "text": [
            "Epoch 16900, Total loss 523.750916, iteration time 0.242577\n"
          ]
        },
        {
          "output_type": "stream",
          "name": "stderr",
          "text": [
            " 43%|████▎     | 17002/40000 [1:05:55<2:14:30,  2.85it/s]"
          ]
        },
        {
          "output_type": "stream",
          "name": "stdout",
          "text": [
            "Epoch 17000, Total loss 510.405884, iteration time 0.092773\n"
          ]
        },
        {
          "output_type": "stream",
          "name": "stderr",
          "text": [
            " 43%|████▎     | 17102/40000 [1:06:19<1:31:08,  4.19it/s]"
          ]
        },
        {
          "output_type": "stream",
          "name": "stdout",
          "text": [
            "Epoch 17100, Total loss 666.712036, iteration time 0.243933\n"
          ]
        },
        {
          "output_type": "stream",
          "name": "stderr",
          "text": [
            " 43%|████▎     | 17202/40000 [1:06:42<1:31:05,  4.17it/s]"
          ]
        },
        {
          "output_type": "stream",
          "name": "stdout",
          "text": [
            "Epoch 17200, Total loss 559.844604, iteration time 0.233110\n"
          ]
        },
        {
          "output_type": "stream",
          "name": "stderr",
          "text": [
            " 43%|████▎     | 17302/40000 [1:07:06<1:30:12,  4.19it/s]"
          ]
        },
        {
          "output_type": "stream",
          "name": "stdout",
          "text": [
            "Epoch 17300, Total loss 497.534607, iteration time 0.252139\n"
          ]
        },
        {
          "output_type": "stream",
          "name": "stderr",
          "text": [
            " 44%|████▎     | 17402/40000 [1:07:29<1:30:20,  4.17it/s]"
          ]
        },
        {
          "output_type": "stream",
          "name": "stdout",
          "text": [
            "Epoch 17400, Total loss 548.133057, iteration time 0.243289\n"
          ]
        },
        {
          "output_type": "stream",
          "name": "stderr",
          "text": [
            " 44%|████▍     | 17502/40000 [1:07:53<1:28:40,  4.23it/s]"
          ]
        },
        {
          "output_type": "stream",
          "name": "stdout",
          "text": [
            "Epoch 17500, Total loss 588.786255, iteration time 0.240018\n"
          ]
        },
        {
          "output_type": "stream",
          "name": "stderr",
          "text": [
            " 44%|████▍     | 17602/40000 [1:08:16<1:29:09,  4.19it/s]"
          ]
        },
        {
          "output_type": "stream",
          "name": "stdout",
          "text": [
            "Epoch 17600, Total loss 602.265808, iteration time 0.237186\n"
          ]
        },
        {
          "output_type": "stream",
          "name": "stderr",
          "text": [
            " 44%|████▍     | 17702/40000 [1:08:40<1:30:32,  4.10it/s]"
          ]
        },
        {
          "output_type": "stream",
          "name": "stdout",
          "text": [
            "Epoch 17700, Total loss 589.891602, iteration time 0.250956\n"
          ]
        },
        {
          "output_type": "stream",
          "name": "stderr",
          "text": [
            " 45%|████▍     | 17802/40000 [1:09:03<1:28:01,  4.20it/s]"
          ]
        },
        {
          "output_type": "stream",
          "name": "stdout",
          "text": [
            "Epoch 17800, Total loss 579.781128, iteration time 0.240164\n"
          ]
        },
        {
          "output_type": "stream",
          "name": "stderr",
          "text": [
            " 45%|████▍     | 17902/40000 [1:09:27<1:28:22,  4.17it/s]"
          ]
        },
        {
          "output_type": "stream",
          "name": "stdout",
          "text": [
            "Epoch 17900, Total loss 814.264282, iteration time 0.244857\n"
          ]
        },
        {
          "output_type": "stream",
          "name": "stderr",
          "text": [
            " 45%|████▌     | 18002/40000 [1:09:51<2:16:30,  2.69it/s]"
          ]
        },
        {
          "output_type": "stream",
          "name": "stdout",
          "text": [
            "Epoch 18000, Total loss 197.457199, iteration time 0.093436\n"
          ]
        },
        {
          "output_type": "stream",
          "name": "stderr",
          "text": [
            " 45%|████▌     | 18102/40000 [1:10:14<1:29:06,  4.10it/s]"
          ]
        },
        {
          "output_type": "stream",
          "name": "stdout",
          "text": [
            "Epoch 18100, Total loss 205.766571, iteration time 0.249758\n"
          ]
        },
        {
          "output_type": "stream",
          "name": "stderr",
          "text": [
            " 46%|████▌     | 18202/40000 [1:10:38<1:26:50,  4.18it/s]"
          ]
        },
        {
          "output_type": "stream",
          "name": "stdout",
          "text": [
            "Epoch 18200, Total loss 4290.125000, iteration time 0.242817\n"
          ]
        },
        {
          "output_type": "stream",
          "name": "stderr",
          "text": [
            " 46%|████▌     | 18302/40000 [1:11:01<1:26:36,  4.18it/s]"
          ]
        },
        {
          "output_type": "stream",
          "name": "stdout",
          "text": [
            "Epoch 18300, Total loss 316.878357, iteration time 0.243290\n"
          ]
        },
        {
          "output_type": "stream",
          "name": "stderr",
          "text": [
            " 46%|████▌     | 18402/40000 [1:11:25<1:26:07,  4.18it/s]"
          ]
        },
        {
          "output_type": "stream",
          "name": "stdout",
          "text": [
            "Epoch 18400, Total loss 214.454987, iteration time 0.243569\n"
          ]
        },
        {
          "output_type": "stream",
          "name": "stderr",
          "text": [
            " 46%|████▋     | 18502/40000 [1:11:48<1:25:52,  4.17it/s]"
          ]
        },
        {
          "output_type": "stream",
          "name": "stdout",
          "text": [
            "Epoch 18500, Total loss 682.499634, iteration time 0.245731\n"
          ]
        },
        {
          "output_type": "stream",
          "name": "stderr",
          "text": [
            " 47%|████▋     | 18602/40000 [1:12:12<1:26:03,  4.14it/s]"
          ]
        },
        {
          "output_type": "stream",
          "name": "stdout",
          "text": [
            "Epoch 18600, Total loss 518.121399, iteration time 0.244192\n"
          ]
        },
        {
          "output_type": "stream",
          "name": "stderr",
          "text": [
            " 47%|████▋     | 18702/40000 [1:12:35<1:24:55,  4.18it/s]"
          ]
        },
        {
          "output_type": "stream",
          "name": "stdout",
          "text": [
            "Epoch 18700, Total loss 529.423828, iteration time 0.244456\n"
          ]
        },
        {
          "output_type": "stream",
          "name": "stderr",
          "text": [
            " 47%|████▋     | 18802/40000 [1:12:59<1:25:16,  4.14it/s]"
          ]
        },
        {
          "output_type": "stream",
          "name": "stdout",
          "text": [
            "Epoch 18800, Total loss 524.152832, iteration time 0.246278\n"
          ]
        },
        {
          "output_type": "stream",
          "name": "stderr",
          "text": [
            " 47%|████▋     | 18902/40000 [1:13:22<1:23:49,  4.19it/s]"
          ]
        },
        {
          "output_type": "stream",
          "name": "stdout",
          "text": [
            "Epoch 18900, Total loss 503.304382, iteration time 0.242436\n"
          ]
        },
        {
          "output_type": "stream",
          "name": "stderr",
          "text": [
            " 48%|████▊     | 19002/40000 [1:13:46<2:02:39,  2.85it/s]"
          ]
        },
        {
          "output_type": "stream",
          "name": "stdout",
          "text": [
            "Epoch 19000, Total loss 582.576538, iteration time 0.096407\n"
          ]
        },
        {
          "output_type": "stream",
          "name": "stderr",
          "text": [
            " 48%|████▊     | 19102/40000 [1:14:10<1:23:28,  4.17it/s]"
          ]
        },
        {
          "output_type": "stream",
          "name": "stdout",
          "text": [
            "Epoch 19100, Total loss 538.259399, iteration time 0.244365\n"
          ]
        },
        {
          "output_type": "stream",
          "name": "stderr",
          "text": [
            " 48%|████▊     | 19202/40000 [1:14:33<1:22:58,  4.18it/s]"
          ]
        },
        {
          "output_type": "stream",
          "name": "stdout",
          "text": [
            "Epoch 19200, Total loss 570.691956, iteration time 0.247544\n"
          ]
        },
        {
          "output_type": "stream",
          "name": "stderr",
          "text": [
            " 48%|████▊     | 19302/40000 [1:14:56<1:22:16,  4.19it/s]"
          ]
        },
        {
          "output_type": "stream",
          "name": "stdout",
          "text": [
            "Epoch 19300, Total loss 493.375580, iteration time 0.249035\n"
          ]
        },
        {
          "output_type": "stream",
          "name": "stderr",
          "text": [
            " 49%|████▊     | 19402/40000 [1:15:20<1:22:17,  4.17it/s]"
          ]
        },
        {
          "output_type": "stream",
          "name": "stdout",
          "text": [
            "Epoch 19400, Total loss 556.032043, iteration time 0.243623\n"
          ]
        },
        {
          "output_type": "stream",
          "name": "stderr",
          "text": [
            " 49%|████▉     | 19502/40000 [1:15:43<1:21:38,  4.18it/s]"
          ]
        },
        {
          "output_type": "stream",
          "name": "stdout",
          "text": [
            "Epoch 19500, Total loss 528.700378, iteration time 0.243789\n"
          ]
        },
        {
          "output_type": "stream",
          "name": "stderr",
          "text": [
            " 49%|████▉     | 19602/40000 [1:16:07<1:21:28,  4.17it/s]"
          ]
        },
        {
          "output_type": "stream",
          "name": "stdout",
          "text": [
            "Epoch 19600, Total loss 517.594055, iteration time 0.238095\n"
          ]
        },
        {
          "output_type": "stream",
          "name": "stderr",
          "text": [
            " 49%|████▉     | 19702/40000 [1:16:30<1:21:02,  4.17it/s]"
          ]
        },
        {
          "output_type": "stream",
          "name": "stdout",
          "text": [
            "Epoch 19700, Total loss 671.692993, iteration time 0.250655\n"
          ]
        },
        {
          "output_type": "stream",
          "name": "stderr",
          "text": [
            " 50%|████▉     | 19802/40000 [1:16:54<1:21:03,  4.15it/s]"
          ]
        },
        {
          "output_type": "stream",
          "name": "stdout",
          "text": [
            "Epoch 19800, Total loss 177.630524, iteration time 0.252547\n"
          ]
        },
        {
          "output_type": "stream",
          "name": "stderr",
          "text": [
            " 50%|████▉     | 19902/40000 [1:17:17<1:20:02,  4.18it/s]"
          ]
        },
        {
          "output_type": "stream",
          "name": "stdout",
          "text": [
            "Epoch 19900, Total loss 198.791870, iteration time 0.244203\n"
          ]
        },
        {
          "output_type": "stream",
          "name": "stderr",
          "text": [
            " 50%|█████     | 20002/40000 [1:17:41<2:14:07,  2.48it/s]"
          ]
        },
        {
          "output_type": "stream",
          "name": "stdout",
          "text": [
            "Epoch 20000, Total loss 174.376282, iteration time 0.092865\n"
          ]
        },
        {
          "output_type": "stream",
          "name": "stderr",
          "text": [
            " 50%|█████     | 20102/40000 [1:18:05<1:19:53,  4.15it/s]"
          ]
        },
        {
          "output_type": "stream",
          "name": "stdout",
          "text": [
            "Epoch 20100, Total loss 400.465912, iteration time 0.257162\n"
          ]
        },
        {
          "output_type": "stream",
          "name": "stderr",
          "text": [
            " 51%|█████     | 20202/40000 [1:18:28<1:19:12,  4.17it/s]"
          ]
        },
        {
          "output_type": "stream",
          "name": "stdout",
          "text": [
            "Epoch 20200, Total loss 605.471985, iteration time 0.244887\n"
          ]
        },
        {
          "output_type": "stream",
          "name": "stderr",
          "text": [
            " 51%|█████     | 20302/40000 [1:18:52<1:18:17,  4.19it/s]"
          ]
        },
        {
          "output_type": "stream",
          "name": "stdout",
          "text": [
            "Epoch 20300, Total loss 551.810364, iteration time 0.243040\n"
          ]
        },
        {
          "output_type": "stream",
          "name": "stderr",
          "text": [
            " 51%|█████     | 20402/40000 [1:19:15<1:18:44,  4.15it/s]"
          ]
        },
        {
          "output_type": "stream",
          "name": "stdout",
          "text": [
            "Epoch 20400, Total loss 524.939575, iteration time 0.252326\n"
          ]
        },
        {
          "output_type": "stream",
          "name": "stderr",
          "text": [
            " 51%|█████▏    | 20502/40000 [1:19:39<1:16:49,  4.23it/s]"
          ]
        },
        {
          "output_type": "stream",
          "name": "stdout",
          "text": [
            "Epoch 20500, Total loss 544.621704, iteration time 0.237328\n"
          ]
        },
        {
          "output_type": "stream",
          "name": "stderr",
          "text": [
            " 52%|█████▏    | 20602/40000 [1:20:02<1:17:42,  4.16it/s]"
          ]
        },
        {
          "output_type": "stream",
          "name": "stdout",
          "text": [
            "Epoch 20600, Total loss 548.968628, iteration time 0.250146\n"
          ]
        },
        {
          "output_type": "stream",
          "name": "stderr",
          "text": [
            " 52%|█████▏    | 20702/40000 [1:20:26<1:17:19,  4.16it/s]"
          ]
        },
        {
          "output_type": "stream",
          "name": "stdout",
          "text": [
            "Epoch 20700, Total loss 544.256531, iteration time 0.244438\n"
          ]
        },
        {
          "output_type": "stream",
          "name": "stderr",
          "text": [
            " 52%|█████▏    | 20802/40000 [1:20:49<1:16:39,  4.17it/s]"
          ]
        },
        {
          "output_type": "stream",
          "name": "stdout",
          "text": [
            "Epoch 20800, Total loss 500.895996, iteration time 0.247863\n"
          ]
        },
        {
          "output_type": "stream",
          "name": "stderr",
          "text": [
            " 52%|█████▏    | 20902/40000 [1:21:13<1:16:36,  4.15it/s]"
          ]
        },
        {
          "output_type": "stream",
          "name": "stdout",
          "text": [
            "Epoch 20900, Total loss 561.456970, iteration time 0.248109\n"
          ]
        },
        {
          "output_type": "stream",
          "name": "stderr",
          "text": [
            " 53%|█████▎    | 21002/40000 [1:21:37<1:51:37,  2.84it/s]"
          ]
        },
        {
          "output_type": "stream",
          "name": "stdout",
          "text": [
            "Epoch 21000, Total loss 511.203003, iteration time 0.095021\n"
          ]
        },
        {
          "output_type": "stream",
          "name": "stderr",
          "text": [
            " 53%|█████▎    | 21102/40000 [1:22:00<1:15:03,  4.20it/s]"
          ]
        },
        {
          "output_type": "stream",
          "name": "stdout",
          "text": [
            "Epoch 21100, Total loss 518.528442, iteration time 0.248781\n"
          ]
        },
        {
          "output_type": "stream",
          "name": "stderr",
          "text": [
            " 53%|█████▎    | 21202/40000 [1:22:24<1:15:43,  4.14it/s]"
          ]
        },
        {
          "output_type": "stream",
          "name": "stdout",
          "text": [
            "Epoch 21200, Total loss 537.436890, iteration time 0.246232\n"
          ]
        },
        {
          "output_type": "stream",
          "name": "stderr",
          "text": [
            " 53%|█████▎    | 21302/40000 [1:22:47<1:14:03,  4.21it/s]"
          ]
        },
        {
          "output_type": "stream",
          "name": "stdout",
          "text": [
            "Epoch 21300, Total loss 610.180603, iteration time 0.236055\n"
          ]
        },
        {
          "output_type": "stream",
          "name": "stderr",
          "text": [
            " 54%|█████▎    | 21402/40000 [1:23:11<1:13:56,  4.19it/s]"
          ]
        },
        {
          "output_type": "stream",
          "name": "stdout",
          "text": [
            "Epoch 21400, Total loss 484.803558, iteration time 0.246293\n"
          ]
        },
        {
          "output_type": "stream",
          "name": "stderr",
          "text": [
            " 54%|█████▍    | 21502/40000 [1:23:34<1:14:35,  4.13it/s]"
          ]
        },
        {
          "output_type": "stream",
          "name": "stdout",
          "text": [
            "Epoch 21500, Total loss 577.321777, iteration time 0.259761\n"
          ]
        },
        {
          "output_type": "stream",
          "name": "stderr",
          "text": [
            " 54%|█████▍    | 21602/40000 [1:23:58<1:14:29,  4.12it/s]"
          ]
        },
        {
          "output_type": "stream",
          "name": "stdout",
          "text": [
            "Epoch 21600, Total loss 501.328918, iteration time 0.246308\n"
          ]
        },
        {
          "output_type": "stream",
          "name": "stderr",
          "text": [
            " 54%|█████▍    | 21702/40000 [1:24:21<1:13:06,  4.17it/s]"
          ]
        },
        {
          "output_type": "stream",
          "name": "stdout",
          "text": [
            "Epoch 21700, Total loss 492.526581, iteration time 0.243681\n"
          ]
        },
        {
          "output_type": "stream",
          "name": "stderr",
          "text": [
            " 55%|█████▍    | 21802/40000 [1:24:44<1:12:28,  4.18it/s]"
          ]
        },
        {
          "output_type": "stream",
          "name": "stdout",
          "text": [
            "Epoch 21800, Total loss 571.573669, iteration time 0.241535\n"
          ]
        },
        {
          "output_type": "stream",
          "name": "stderr",
          "text": [
            " 55%|█████▍    | 21902/40000 [1:25:08<1:12:42,  4.15it/s]"
          ]
        },
        {
          "output_type": "stream",
          "name": "stdout",
          "text": [
            "Epoch 21900, Total loss 1325.765991, iteration time 0.245919\n"
          ]
        },
        {
          "output_type": "stream",
          "name": "stderr",
          "text": [
            " 55%|█████▌    | 22002/40000 [1:25:32<1:47:48,  2.78it/s]"
          ]
        },
        {
          "output_type": "stream",
          "name": "stdout",
          "text": [
            "Epoch 22000, Total loss 178.725586, iteration time 0.101687\n"
          ]
        },
        {
          "output_type": "stream",
          "name": "stderr",
          "text": [
            " 55%|█████▌    | 22102/40000 [1:25:55<1:11:01,  4.20it/s]"
          ]
        },
        {
          "output_type": "stream",
          "name": "stdout",
          "text": [
            "Epoch 22100, Total loss 241.591187, iteration time 0.243425\n"
          ]
        },
        {
          "output_type": "stream",
          "name": "stderr",
          "text": [
            " 56%|█████▌    | 22202/40000 [1:26:19<1:11:27,  4.15it/s]"
          ]
        },
        {
          "output_type": "stream",
          "name": "stdout",
          "text": [
            "Epoch 22200, Total loss 438.474060, iteration time 0.247274\n"
          ]
        },
        {
          "output_type": "stream",
          "name": "stderr",
          "text": [
            " 56%|█████▌    | 22302/40000 [1:26:42<1:10:42,  4.17it/s]"
          ]
        },
        {
          "output_type": "stream",
          "name": "stdout",
          "text": [
            "Epoch 22300, Total loss 450.188171, iteration time 0.248680\n"
          ]
        },
        {
          "output_type": "stream",
          "name": "stderr",
          "text": [
            " 56%|█████▌    | 22402/40000 [1:27:06<1:11:03,  4.13it/s]"
          ]
        },
        {
          "output_type": "stream",
          "name": "stdout",
          "text": [
            "Epoch 22400, Total loss 305.404083, iteration time 0.249388\n"
          ]
        },
        {
          "output_type": "stream",
          "name": "stderr",
          "text": [
            " 56%|█████▋    | 22502/40000 [1:27:29<1:09:29,  4.20it/s]"
          ]
        },
        {
          "output_type": "stream",
          "name": "stdout",
          "text": [
            "Epoch 22500, Total loss 251.711121, iteration time 0.239964\n"
          ]
        },
        {
          "output_type": "stream",
          "name": "stderr",
          "text": [
            " 57%|█████▋    | 22602/40000 [1:27:53<1:08:46,  4.22it/s]"
          ]
        },
        {
          "output_type": "stream",
          "name": "stdout",
          "text": [
            "Epoch 22600, Total loss 507.790771, iteration time 0.237572\n"
          ]
        },
        {
          "output_type": "stream",
          "name": "stderr",
          "text": [
            " 57%|█████▋    | 22702/40000 [1:28:16<1:08:54,  4.18it/s]"
          ]
        },
        {
          "output_type": "stream",
          "name": "stdout",
          "text": [
            "Epoch 22700, Total loss 568.646606, iteration time 0.236361\n"
          ]
        },
        {
          "output_type": "stream",
          "name": "stderr",
          "text": [
            " 57%|█████▋    | 22802/40000 [1:28:39<1:09:04,  4.15it/s]"
          ]
        },
        {
          "output_type": "stream",
          "name": "stdout",
          "text": [
            "Epoch 22800, Total loss 561.156128, iteration time 0.252100\n"
          ]
        },
        {
          "output_type": "stream",
          "name": "stderr",
          "text": [
            " 57%|█████▋    | 22902/40000 [1:29:03<1:08:20,  4.17it/s]"
          ]
        },
        {
          "output_type": "stream",
          "name": "stdout",
          "text": [
            "Epoch 22900, Total loss 538.609375, iteration time 0.248028\n"
          ]
        },
        {
          "output_type": "stream",
          "name": "stderr",
          "text": [
            " 58%|█████▊    | 23002/40000 [1:29:27<1:39:25,  2.85it/s]"
          ]
        },
        {
          "output_type": "stream",
          "name": "stdout",
          "text": [
            "Epoch 23000, Total loss 555.405396, iteration time 0.093079\n"
          ]
        },
        {
          "output_type": "stream",
          "name": "stderr",
          "text": [
            " 58%|█████▊    | 23102/40000 [1:29:50<1:07:29,  4.17it/s]"
          ]
        },
        {
          "output_type": "stream",
          "name": "stdout",
          "text": [
            "Epoch 23100, Total loss 548.420288, iteration time 0.240757\n"
          ]
        },
        {
          "output_type": "stream",
          "name": "stderr",
          "text": [
            " 58%|█████▊    | 23202/40000 [1:30:14<1:07:41,  4.14it/s]"
          ]
        },
        {
          "output_type": "stream",
          "name": "stdout",
          "text": [
            "Epoch 23200, Total loss 544.267212, iteration time 0.249819\n"
          ]
        },
        {
          "output_type": "stream",
          "name": "stderr",
          "text": [
            " 58%|█████▊    | 23302/40000 [1:30:37<1:06:44,  4.17it/s]"
          ]
        },
        {
          "output_type": "stream",
          "name": "stdout",
          "text": [
            "Epoch 23300, Total loss 539.702332, iteration time 0.251601\n"
          ]
        },
        {
          "output_type": "stream",
          "name": "stderr",
          "text": [
            " 59%|█████▊    | 23402/40000 [1:31:01<1:06:01,  4.19it/s]"
          ]
        },
        {
          "output_type": "stream",
          "name": "stdout",
          "text": [
            "Epoch 23400, Total loss 544.488159, iteration time 0.242916\n"
          ]
        },
        {
          "output_type": "stream",
          "name": "stderr",
          "text": [
            " 59%|█████▉    | 23502/40000 [1:31:24<1:05:16,  4.21it/s]"
          ]
        },
        {
          "output_type": "stream",
          "name": "stdout",
          "text": [
            "Epoch 23500, Total loss 519.515625, iteration time 0.233167\n"
          ]
        },
        {
          "output_type": "stream",
          "name": "stderr",
          "text": [
            " 59%|█████▉    | 23602/40000 [1:31:48<1:06:07,  4.13it/s]"
          ]
        },
        {
          "output_type": "stream",
          "name": "stdout",
          "text": [
            "Epoch 23600, Total loss 518.490112, iteration time 0.250763\n"
          ]
        },
        {
          "output_type": "stream",
          "name": "stderr",
          "text": [
            " 59%|█████▉    | 23702/40000 [1:32:11<1:05:08,  4.17it/s]"
          ]
        },
        {
          "output_type": "stream",
          "name": "stdout",
          "text": [
            "Epoch 23700, Total loss 523.599731, iteration time 0.245186\n"
          ]
        },
        {
          "output_type": "stream",
          "name": "stderr",
          "text": [
            " 60%|█████▉    | 23802/40000 [1:32:34<1:05:01,  4.15it/s]"
          ]
        },
        {
          "output_type": "stream",
          "name": "stdout",
          "text": [
            "Epoch 23800, Total loss 466.543091, iteration time 0.246413\n"
          ]
        },
        {
          "output_type": "stream",
          "name": "stderr",
          "text": [
            " 60%|█████▉    | 23902/40000 [1:32:58<1:04:33,  4.16it/s]"
          ]
        },
        {
          "output_type": "stream",
          "name": "stdout",
          "text": [
            "Epoch 23900, Total loss 500.963562, iteration time 0.243737\n"
          ]
        },
        {
          "output_type": "stream",
          "name": "stderr",
          "text": [
            " 60%|██████    | 24002/40000 [1:33:22<1:49:09,  2.44it/s]"
          ]
        },
        {
          "output_type": "stream",
          "name": "stdout",
          "text": [
            "Epoch 24000, Total loss 672.492432, iteration time 0.101024\n"
          ]
        },
        {
          "output_type": "stream",
          "name": "stderr",
          "text": [
            " 60%|██████    | 24102/40000 [1:33:46<1:03:09,  4.20it/s]"
          ]
        },
        {
          "output_type": "stream",
          "name": "stdout",
          "text": [
            "Epoch 24100, Total loss 484.507904, iteration time 0.245170\n"
          ]
        },
        {
          "output_type": "stream",
          "name": "stderr",
          "text": [
            " 61%|██████    | 24202/40000 [1:34:09<1:03:03,  4.18it/s]"
          ]
        },
        {
          "output_type": "stream",
          "name": "stdout",
          "text": [
            "Epoch 24200, Total loss 461.438538, iteration time 0.237658\n"
          ]
        },
        {
          "output_type": "stream",
          "name": "stderr",
          "text": [
            " 61%|██████    | 24302/40000 [1:34:32<1:02:47,  4.17it/s]"
          ]
        },
        {
          "output_type": "stream",
          "name": "stdout",
          "text": [
            "Epoch 24300, Total loss 553.023315, iteration time 0.254263\n"
          ]
        },
        {
          "output_type": "stream",
          "name": "stderr",
          "text": [
            " 61%|██████    | 24402/40000 [1:34:56<1:02:48,  4.14it/s]"
          ]
        },
        {
          "output_type": "stream",
          "name": "stdout",
          "text": [
            "Epoch 24400, Total loss 560.203125, iteration time 0.248797\n"
          ]
        },
        {
          "output_type": "stream",
          "name": "stderr",
          "text": [
            " 61%|██████▏   | 24502/40000 [1:35:19<1:01:42,  4.19it/s]"
          ]
        },
        {
          "output_type": "stream",
          "name": "stdout",
          "text": [
            "Epoch 24500, Total loss 488.477966, iteration time 0.242945\n"
          ]
        },
        {
          "output_type": "stream",
          "name": "stderr",
          "text": [
            " 62%|██████▏   | 24602/40000 [1:35:43<1:00:46,  4.22it/s]"
          ]
        },
        {
          "output_type": "stream",
          "name": "stdout",
          "text": [
            "Epoch 24600, Total loss 821.957214, iteration time 0.239082\n"
          ]
        },
        {
          "output_type": "stream",
          "name": "stderr",
          "text": [
            " 62%|██████▏   | 24702/40000 [1:36:06<1:00:53,  4.19it/s]"
          ]
        },
        {
          "output_type": "stream",
          "name": "stdout",
          "text": [
            "Epoch 24700, Total loss 246.042389, iteration time 0.243340\n"
          ]
        },
        {
          "output_type": "stream",
          "name": "stderr",
          "text": [
            " 62%|██████▏   | 24802/40000 [1:36:30<1:00:56,  4.16it/s]"
          ]
        },
        {
          "output_type": "stream",
          "name": "stdout",
          "text": [
            "Epoch 24800, Total loss 332.321259, iteration time 0.248830\n"
          ]
        },
        {
          "output_type": "stream",
          "name": "stderr",
          "text": [
            " 62%|██████▏   | 24902/40000 [1:36:53<59:32,  4.23it/s]  "
          ]
        },
        {
          "output_type": "stream",
          "name": "stdout",
          "text": [
            "Epoch 24900, Total loss 1464.121216, iteration time 0.242175\n"
          ]
        },
        {
          "output_type": "stream",
          "name": "stderr",
          "text": [
            " 63%|██████▎   | 25002/40000 [1:37:17<1:27:23,  2.86it/s]"
          ]
        },
        {
          "output_type": "stream",
          "name": "stdout",
          "text": [
            "Epoch 25000, Total loss 408.221375, iteration time 0.091961\n"
          ]
        },
        {
          "output_type": "stream",
          "name": "stderr",
          "text": [
            " 63%|██████▎   | 25102/40000 [1:37:41<59:01,  4.21it/s]"
          ]
        },
        {
          "output_type": "stream",
          "name": "stdout",
          "text": [
            "Epoch 25100, Total loss 513.859985, iteration time 0.240092\n"
          ]
        },
        {
          "output_type": "stream",
          "name": "stderr",
          "text": [
            " 63%|██████▎   | 25202/40000 [1:38:04<59:50,  4.12it/s]"
          ]
        },
        {
          "output_type": "stream",
          "name": "stdout",
          "text": [
            "Epoch 25200, Total loss 484.859131, iteration time 0.245244\n"
          ]
        },
        {
          "output_type": "stream",
          "name": "stderr",
          "text": [
            " 63%|██████▎   | 25302/40000 [1:38:27<58:26,  4.19it/s]"
          ]
        },
        {
          "output_type": "stream",
          "name": "stdout",
          "text": [
            "Epoch 25300, Total loss 482.922668, iteration time 0.244726\n"
          ]
        },
        {
          "output_type": "stream",
          "name": "stderr",
          "text": [
            " 64%|██████▎   | 25402/40000 [1:38:51<58:43,  4.14it/s]"
          ]
        },
        {
          "output_type": "stream",
          "name": "stdout",
          "text": [
            "Epoch 25400, Total loss 509.076660, iteration time 0.243801\n"
          ]
        },
        {
          "output_type": "stream",
          "name": "stderr",
          "text": [
            " 64%|██████▍   | 25502/40000 [1:39:14<57:26,  4.21it/s]"
          ]
        },
        {
          "output_type": "stream",
          "name": "stdout",
          "text": [
            "Epoch 25500, Total loss 485.373352, iteration time 0.242460\n"
          ]
        },
        {
          "output_type": "stream",
          "name": "stderr",
          "text": [
            " 64%|██████▍   | 25602/40000 [1:39:38<58:01,  4.14it/s]"
          ]
        },
        {
          "output_type": "stream",
          "name": "stdout",
          "text": [
            "Epoch 25600, Total loss 534.294800, iteration time 0.245763\n"
          ]
        },
        {
          "output_type": "stream",
          "name": "stderr",
          "text": [
            " 64%|██████▍   | 25702/40000 [1:40:01<56:52,  4.19it/s]"
          ]
        },
        {
          "output_type": "stream",
          "name": "stdout",
          "text": [
            "Epoch 25700, Total loss 467.956299, iteration time 0.244859\n"
          ]
        },
        {
          "output_type": "stream",
          "name": "stderr",
          "text": [
            " 65%|██████▍   | 25802/40000 [1:40:25<56:37,  4.18it/s]"
          ]
        },
        {
          "output_type": "stream",
          "name": "stdout",
          "text": [
            "Epoch 25800, Total loss 483.986511, iteration time 0.247030\n"
          ]
        },
        {
          "output_type": "stream",
          "name": "stderr",
          "text": [
            " 65%|██████▍   | 25902/40000 [1:40:48<56:07,  4.19it/s]"
          ]
        },
        {
          "output_type": "stream",
          "name": "stdout",
          "text": [
            "Epoch 25900, Total loss 545.933228, iteration time 0.243875\n"
          ]
        },
        {
          "output_type": "stream",
          "name": "stderr",
          "text": [
            " 65%|██████▌   | 26002/40000 [1:41:12<1:35:42,  2.44it/s]"
          ]
        },
        {
          "output_type": "stream",
          "name": "stdout",
          "text": [
            "Epoch 26000, Total loss 474.673706, iteration time 0.102212\n"
          ]
        },
        {
          "output_type": "stream",
          "name": "stderr",
          "text": [
            " 65%|██████▌   | 26102/40000 [1:41:36<56:11,  4.12it/s]"
          ]
        },
        {
          "output_type": "stream",
          "name": "stdout",
          "text": [
            "Epoch 26100, Total loss 426.317749, iteration time 0.251546\n"
          ]
        },
        {
          "output_type": "stream",
          "name": "stderr",
          "text": [
            " 66%|██████▌   | 26202/40000 [1:41:59<55:03,  4.18it/s]"
          ]
        },
        {
          "output_type": "stream",
          "name": "stdout",
          "text": [
            "Epoch 26200, Total loss 568.379395, iteration time 0.242995\n"
          ]
        },
        {
          "output_type": "stream",
          "name": "stderr",
          "text": [
            " 66%|██████▌   | 26302/40000 [1:42:23<54:36,  4.18it/s]"
          ]
        },
        {
          "output_type": "stream",
          "name": "stdout",
          "text": [
            "Epoch 26300, Total loss 490.181213, iteration time 0.244258\n"
          ]
        },
        {
          "output_type": "stream",
          "name": "stderr",
          "text": [
            " 66%|██████▌   | 26402/40000 [1:42:46<54:32,  4.15it/s]"
          ]
        },
        {
          "output_type": "stream",
          "name": "stdout",
          "text": [
            "Epoch 26400, Total loss 515.134155, iteration time 0.247297\n"
          ]
        },
        {
          "output_type": "stream",
          "name": "stderr",
          "text": [
            " 66%|██████▋   | 26502/40000 [1:43:09<53:30,  4.20it/s]"
          ]
        },
        {
          "output_type": "stream",
          "name": "stdout",
          "text": [
            "Epoch 26500, Total loss 465.459320, iteration time 0.243319\n"
          ]
        },
        {
          "output_type": "stream",
          "name": "stderr",
          "text": [
            " 67%|██████▋   | 26602/40000 [1:43:33<52:47,  4.23it/s]"
          ]
        },
        {
          "output_type": "stream",
          "name": "stdout",
          "text": [
            "Epoch 26600, Total loss 519.951416, iteration time 0.240226\n"
          ]
        },
        {
          "output_type": "stream",
          "name": "stderr",
          "text": [
            " 67%|██████▋   | 26702/40000 [1:43:56<53:03,  4.18it/s]"
          ]
        },
        {
          "output_type": "stream",
          "name": "stdout",
          "text": [
            "Epoch 26700, Total loss 429.879822, iteration time 0.241453\n"
          ]
        },
        {
          "output_type": "stream",
          "name": "stderr",
          "text": [
            " 67%|██████▋   | 26802/40000 [1:44:20<53:10,  4.14it/s]"
          ]
        },
        {
          "output_type": "stream",
          "name": "stdout",
          "text": [
            "Epoch 26800, Total loss 562.453003, iteration time 0.245807\n"
          ]
        },
        {
          "output_type": "stream",
          "name": "stderr",
          "text": [
            " 67%|██████▋   | 26902/40000 [1:44:43<52:18,  4.17it/s]"
          ]
        },
        {
          "output_type": "stream",
          "name": "stdout",
          "text": [
            "Epoch 26900, Total loss 492.486145, iteration time 0.239920\n"
          ]
        },
        {
          "output_type": "stream",
          "name": "stderr",
          "text": [
            " 68%|██████▊   | 27002/40000 [1:45:07<1:16:08,  2.85it/s]"
          ]
        },
        {
          "output_type": "stream",
          "name": "stdout",
          "text": [
            "Epoch 27000, Total loss 481.634094, iteration time 0.092960\n"
          ]
        },
        {
          "output_type": "stream",
          "name": "stderr",
          "text": [
            " 68%|██████▊   | 27102/40000 [1:45:31<51:42,  4.16it/s]"
          ]
        },
        {
          "output_type": "stream",
          "name": "stdout",
          "text": [
            "Epoch 27100, Total loss 541.981506, iteration time 0.246311\n"
          ]
        },
        {
          "output_type": "stream",
          "name": "stderr",
          "text": [
            " 68%|██████▊   | 27202/40000 [1:45:54<51:53,  4.11it/s]"
          ]
        },
        {
          "output_type": "stream",
          "name": "stdout",
          "text": [
            "Epoch 27200, Total loss 187.656738, iteration time 0.244402\n"
          ]
        },
        {
          "output_type": "stream",
          "name": "stderr",
          "text": [
            " 68%|██████▊   | 27302/40000 [1:46:17<50:36,  4.18it/s]"
          ]
        },
        {
          "output_type": "stream",
          "name": "stdout",
          "text": [
            "Epoch 27300, Total loss 304.222839, iteration time 0.242687\n"
          ]
        },
        {
          "output_type": "stream",
          "name": "stderr",
          "text": [
            " 69%|██████▊   | 27402/40000 [1:46:41<49:57,  4.20it/s]"
          ]
        },
        {
          "output_type": "stream",
          "name": "stdout",
          "text": [
            "Epoch 27400, Total loss 658.416504, iteration time 0.240838\n"
          ]
        },
        {
          "output_type": "stream",
          "name": "stderr",
          "text": [
            " 69%|██████▉   | 27502/40000 [1:47:04<49:54,  4.17it/s]"
          ]
        },
        {
          "output_type": "stream",
          "name": "stdout",
          "text": [
            "Epoch 27500, Total loss 347.028198, iteration time 0.242465\n"
          ]
        },
        {
          "output_type": "stream",
          "name": "stderr",
          "text": [
            " 69%|██████▉   | 27602/40000 [1:47:28<49:45,  4.15it/s]"
          ]
        },
        {
          "output_type": "stream",
          "name": "stdout",
          "text": [
            "Epoch 27600, Total loss 160.058990, iteration time 0.237122\n"
          ]
        },
        {
          "output_type": "stream",
          "name": "stderr",
          "text": [
            " 69%|██████▉   | 27702/40000 [1:47:51<49:12,  4.16it/s]"
          ]
        },
        {
          "output_type": "stream",
          "name": "stdout",
          "text": [
            "Epoch 27700, Total loss 485.539917, iteration time 0.244833\n"
          ]
        },
        {
          "output_type": "stream",
          "name": "stderr",
          "text": [
            " 70%|██████▉   | 27802/40000 [1:48:14<48:33,  4.19it/s]"
          ]
        },
        {
          "output_type": "stream",
          "name": "stdout",
          "text": [
            "Epoch 27800, Total loss 527.325439, iteration time 0.240606\n"
          ]
        },
        {
          "output_type": "stream",
          "name": "stderr",
          "text": [
            " 70%|██████▉   | 27902/40000 [1:48:38<48:07,  4.19it/s]"
          ]
        },
        {
          "output_type": "stream",
          "name": "stdout",
          "text": [
            "Epoch 27900, Total loss 517.143433, iteration time 0.239691\n"
          ]
        },
        {
          "output_type": "stream",
          "name": "stderr",
          "text": [
            " 70%|███████   | 28002/40000 [1:49:02<1:21:57,  2.44it/s]"
          ]
        },
        {
          "output_type": "stream",
          "name": "stdout",
          "text": [
            "Epoch 28000, Total loss 507.579437, iteration time 0.103396\n"
          ]
        },
        {
          "output_type": "stream",
          "name": "stderr",
          "text": [
            " 70%|███████   | 28102/40000 [1:49:25<47:09,  4.20it/s]"
          ]
        },
        {
          "output_type": "stream",
          "name": "stdout",
          "text": [
            "Epoch 28100, Total loss 508.421814, iteration time 0.243866\n"
          ]
        },
        {
          "output_type": "stream",
          "name": "stderr",
          "text": [
            " 71%|███████   | 28202/40000 [1:49:49<46:53,  4.19it/s]"
          ]
        },
        {
          "output_type": "stream",
          "name": "stdout",
          "text": [
            "Epoch 28200, Total loss 495.727570, iteration time 0.236062\n"
          ]
        },
        {
          "output_type": "stream",
          "name": "stderr",
          "text": [
            " 71%|███████   | 28302/40000 [1:50:12<46:14,  4.22it/s]"
          ]
        },
        {
          "output_type": "stream",
          "name": "stdout",
          "text": [
            "Epoch 28300, Total loss 484.665924, iteration time 0.238193\n"
          ]
        },
        {
          "output_type": "stream",
          "name": "stderr",
          "text": [
            " 71%|███████   | 28402/40000 [1:50:36<46:56,  4.12it/s]"
          ]
        },
        {
          "output_type": "stream",
          "name": "stdout",
          "text": [
            "Epoch 28400, Total loss 526.116150, iteration time 0.247706\n"
          ]
        },
        {
          "output_type": "stream",
          "name": "stderr",
          "text": [
            " 71%|███████▏  | 28502/40000 [1:50:59<45:33,  4.21it/s]"
          ]
        },
        {
          "output_type": "stream",
          "name": "stdout",
          "text": [
            "Epoch 28500, Total loss 511.308655, iteration time 0.238250\n"
          ]
        },
        {
          "output_type": "stream",
          "name": "stderr",
          "text": [
            " 72%|███████▏  | 28602/40000 [1:51:23<45:41,  4.16it/s]"
          ]
        },
        {
          "output_type": "stream",
          "name": "stdout",
          "text": [
            "Epoch 28600, Total loss 573.583008, iteration time 0.243902\n"
          ]
        },
        {
          "output_type": "stream",
          "name": "stderr",
          "text": [
            " 72%|███████▏  | 28702/40000 [1:51:46<44:45,  4.21it/s]"
          ]
        },
        {
          "output_type": "stream",
          "name": "stdout",
          "text": [
            "Epoch 28700, Total loss 504.897461, iteration time 0.242583\n"
          ]
        },
        {
          "output_type": "stream",
          "name": "stderr",
          "text": [
            " 72%|███████▏  | 28802/40000 [1:52:10<45:24,  4.11it/s]"
          ]
        },
        {
          "output_type": "stream",
          "name": "stdout",
          "text": [
            "Epoch 28800, Total loss 464.985657, iteration time 0.242134\n"
          ]
        },
        {
          "output_type": "stream",
          "name": "stderr",
          "text": [
            " 72%|███████▏  | 28902/40000 [1:52:33<44:30,  4.16it/s]"
          ]
        },
        {
          "output_type": "stream",
          "name": "stdout",
          "text": [
            "Epoch 28900, Total loss 436.941223, iteration time 0.244227\n"
          ]
        },
        {
          "output_type": "stream",
          "name": "stderr",
          "text": [
            " 73%|███████▎  | 29002/40000 [1:52:58<1:23:31,  2.19it/s]"
          ]
        },
        {
          "output_type": "stream",
          "name": "stdout",
          "text": [
            "Epoch 29000, Total loss 500.136780, iteration time 0.092869\n"
          ]
        },
        {
          "output_type": "stream",
          "name": "stderr",
          "text": [
            " 73%|███████▎  | 29102/40000 [1:53:21<43:26,  4.18it/s]"
          ]
        },
        {
          "output_type": "stream",
          "name": "stdout",
          "text": [
            "Epoch 29100, Total loss 478.707001, iteration time 0.243261\n"
          ]
        },
        {
          "output_type": "stream",
          "name": "stderr",
          "text": [
            " 73%|███████▎  | 29202/40000 [1:53:44<43:02,  4.18it/s]"
          ]
        },
        {
          "output_type": "stream",
          "name": "stdout",
          "text": [
            "Epoch 29200, Total loss 477.501953, iteration time 0.256267\n"
          ]
        },
        {
          "output_type": "stream",
          "name": "stderr",
          "text": [
            " 73%|███████▎  | 29302/40000 [1:54:08<42:39,  4.18it/s]"
          ]
        },
        {
          "output_type": "stream",
          "name": "stdout",
          "text": [
            "Epoch 29300, Total loss 493.229248, iteration time 0.242642\n"
          ]
        },
        {
          "output_type": "stream",
          "name": "stderr",
          "text": [
            " 74%|███████▎  | 29402/40000 [1:54:31<42:09,  4.19it/s]"
          ]
        },
        {
          "output_type": "stream",
          "name": "stdout",
          "text": [
            "Epoch 29400, Total loss 496.976105, iteration time 0.249751\n"
          ]
        },
        {
          "output_type": "stream",
          "name": "stderr",
          "text": [
            " 74%|███████▍  | 29502/40000 [1:54:55<42:00,  4.16it/s]"
          ]
        },
        {
          "output_type": "stream",
          "name": "stdout",
          "text": [
            "Epoch 29500, Total loss 496.328217, iteration time 0.244827\n"
          ]
        },
        {
          "output_type": "stream",
          "name": "stderr",
          "text": [
            " 74%|███████▍  | 29602/40000 [1:55:18<42:01,  4.12it/s]"
          ]
        },
        {
          "output_type": "stream",
          "name": "stdout",
          "text": [
            "Epoch 29600, Total loss 474.879639, iteration time 0.249975\n"
          ]
        },
        {
          "output_type": "stream",
          "name": "stderr",
          "text": [
            " 74%|███████▍  | 29702/40000 [1:55:41<41:02,  4.18it/s]"
          ]
        },
        {
          "output_type": "stream",
          "name": "stdout",
          "text": [
            "Epoch 29700, Total loss 462.889709, iteration time 0.243989\n"
          ]
        },
        {
          "output_type": "stream",
          "name": "stderr",
          "text": [
            " 75%|███████▍  | 29802/40000 [1:56:05<40:35,  4.19it/s]"
          ]
        },
        {
          "output_type": "stream",
          "name": "stdout",
          "text": [
            "Epoch 29800, Total loss 438.168274, iteration time 0.244568\n"
          ]
        },
        {
          "output_type": "stream",
          "name": "stderr",
          "text": [
            " 75%|███████▍  | 29902/40000 [1:56:28<40:14,  4.18it/s]"
          ]
        },
        {
          "output_type": "stream",
          "name": "stdout",
          "text": [
            "Epoch 29900, Total loss 598.472412, iteration time 0.243218\n"
          ]
        },
        {
          "output_type": "stream",
          "name": "stderr",
          "text": [
            " 75%|███████▌  | 30002/40000 [1:56:53<1:09:01,  2.41it/s]"
          ]
        },
        {
          "output_type": "stream",
          "name": "stdout",
          "text": [
            "Epoch 30000, Total loss 451.791504, iteration time 0.099072\n"
          ]
        },
        {
          "output_type": "stream",
          "name": "stderr",
          "text": [
            " 75%|███████▌  | 30102/40000 [1:57:16<39:22,  4.19it/s]"
          ]
        },
        {
          "output_type": "stream",
          "name": "stdout",
          "text": [
            "Epoch 30100, Total loss 510.560181, iteration time 0.242938\n"
          ]
        },
        {
          "output_type": "stream",
          "name": "stderr",
          "text": [
            " 76%|███████▌  | 30202/40000 [1:57:39<39:07,  4.17it/s]"
          ]
        },
        {
          "output_type": "stream",
          "name": "stdout",
          "text": [
            "Epoch 30200, Total loss 475.483459, iteration time 0.243894\n"
          ]
        },
        {
          "output_type": "stream",
          "name": "stderr",
          "text": [
            " 76%|███████▌  | 30302/40000 [1:58:03<38:39,  4.18it/s]"
          ]
        },
        {
          "output_type": "stream",
          "name": "stdout",
          "text": [
            "Epoch 30300, Total loss 534.634338, iteration time 0.243479\n"
          ]
        },
        {
          "output_type": "stream",
          "name": "stderr",
          "text": [
            " 76%|███████▌  | 30402/40000 [1:58:26<38:31,  4.15it/s]"
          ]
        },
        {
          "output_type": "stream",
          "name": "stdout",
          "text": [
            "Epoch 30400, Total loss 458.962433, iteration time 0.246177\n"
          ]
        },
        {
          "output_type": "stream",
          "name": "stderr",
          "text": [
            " 76%|███████▋  | 30502/40000 [1:58:50<37:56,  4.17it/s]"
          ]
        },
        {
          "output_type": "stream",
          "name": "stdout",
          "text": [
            "Epoch 30500, Total loss 260.322174, iteration time 0.240134\n"
          ]
        },
        {
          "output_type": "stream",
          "name": "stderr",
          "text": [
            " 77%|███████▋  | 30602/40000 [1:59:13<37:25,  4.18it/s]"
          ]
        },
        {
          "output_type": "stream",
          "name": "stdout",
          "text": [
            "Epoch 30600, Total loss 492.898193, iteration time 0.245084\n"
          ]
        },
        {
          "output_type": "stream",
          "name": "stderr",
          "text": [
            " 77%|███████▋  | 30702/40000 [1:59:37<37:04,  4.18it/s]"
          ]
        },
        {
          "output_type": "stream",
          "name": "stdout",
          "text": [
            "Epoch 30700, Total loss 383.597351, iteration time 0.245837\n"
          ]
        },
        {
          "output_type": "stream",
          "name": "stderr",
          "text": [
            " 77%|███████▋  | 30802/40000 [2:00:00<36:25,  4.21it/s]"
          ]
        },
        {
          "output_type": "stream",
          "name": "stdout",
          "text": [
            "Epoch 30800, Total loss 454.555420, iteration time 0.239425\n"
          ]
        },
        {
          "output_type": "stream",
          "name": "stderr",
          "text": [
            " 77%|███████▋  | 30902/40000 [2:00:24<36:14,  4.18it/s]"
          ]
        },
        {
          "output_type": "stream",
          "name": "stdout",
          "text": [
            "Epoch 30900, Total loss 380.426636, iteration time 0.244053\n"
          ]
        },
        {
          "output_type": "stream",
          "name": "stderr",
          "text": [
            " 78%|███████▊  | 31002/40000 [2:00:48<53:23,  2.81it/s]  "
          ]
        },
        {
          "output_type": "stream",
          "name": "stdout",
          "text": [
            "Epoch 31000, Total loss 431.993927, iteration time 0.092505\n"
          ]
        },
        {
          "output_type": "stream",
          "name": "stderr",
          "text": [
            " 78%|███████▊  | 31102/40000 [2:01:11<35:49,  4.14it/s]"
          ]
        },
        {
          "output_type": "stream",
          "name": "stdout",
          "text": [
            "Epoch 31100, Total loss 454.136414, iteration time 0.255805\n"
          ]
        },
        {
          "output_type": "stream",
          "name": "stderr",
          "text": [
            " 78%|███████▊  | 31202/40000 [2:01:35<34:43,  4.22it/s]"
          ]
        },
        {
          "output_type": "stream",
          "name": "stdout",
          "text": [
            "Epoch 31200, Total loss 407.521057, iteration time 0.238463\n"
          ]
        },
        {
          "output_type": "stream",
          "name": "stderr",
          "text": [
            " 78%|███████▊  | 31302/40000 [2:01:58<34:31,  4.20it/s]"
          ]
        },
        {
          "output_type": "stream",
          "name": "stdout",
          "text": [
            "Epoch 31300, Total loss 411.213379, iteration time 0.244727\n"
          ]
        },
        {
          "output_type": "stream",
          "name": "stderr",
          "text": [
            " 79%|███████▊  | 31402/40000 [2:02:21<34:22,  4.17it/s]"
          ]
        },
        {
          "output_type": "stream",
          "name": "stdout",
          "text": [
            "Epoch 31400, Total loss 263.692627, iteration time 0.243173\n"
          ]
        },
        {
          "output_type": "stream",
          "name": "stderr",
          "text": [
            " 79%|███████▉  | 31502/40000 [2:02:45<34:18,  4.13it/s]"
          ]
        },
        {
          "output_type": "stream",
          "name": "stdout",
          "text": [
            "Epoch 31500, Total loss 382.521698, iteration time 0.245213\n"
          ]
        },
        {
          "output_type": "stream",
          "name": "stderr",
          "text": [
            " 79%|███████▉  | 31602/40000 [2:03:08<33:11,  4.22it/s]"
          ]
        },
        {
          "output_type": "stream",
          "name": "stdout",
          "text": [
            "Epoch 31600, Total loss 474.584900, iteration time 0.240556\n"
          ]
        },
        {
          "output_type": "stream",
          "name": "stderr",
          "text": [
            " 79%|███████▉  | 31702/40000 [2:03:32<33:12,  4.17it/s]"
          ]
        },
        {
          "output_type": "stream",
          "name": "stdout",
          "text": [
            "Epoch 31700, Total loss 380.307434, iteration time 0.243022\n"
          ]
        },
        {
          "output_type": "stream",
          "name": "stderr",
          "text": [
            " 80%|███████▉  | 31802/40000 [2:03:55<32:54,  4.15it/s]"
          ]
        },
        {
          "output_type": "stream",
          "name": "stdout",
          "text": [
            "Epoch 31800, Total loss 489.128540, iteration time 0.244985\n"
          ]
        },
        {
          "output_type": "stream",
          "name": "stderr",
          "text": [
            " 80%|███████▉  | 31902/40000 [2:04:19<32:48,  4.11it/s]"
          ]
        },
        {
          "output_type": "stream",
          "name": "stdout",
          "text": [
            "Epoch 31900, Total loss 477.199371, iteration time 0.245281\n"
          ]
        },
        {
          "output_type": "stream",
          "name": "stderr",
          "text": [
            " 80%|████████  | 32002/40000 [2:04:43<47:00,  2.84it/s]"
          ]
        },
        {
          "output_type": "stream",
          "name": "stdout",
          "text": [
            "Epoch 32000, Total loss 278.679657, iteration time 0.093136\n"
          ]
        },
        {
          "output_type": "stream",
          "name": "stderr",
          "text": [
            " 80%|████████  | 32102/40000 [2:05:06<31:40,  4.16it/s]"
          ]
        },
        {
          "output_type": "stream",
          "name": "stdout",
          "text": [
            "Epoch 32100, Total loss 226.108902, iteration time 0.247724\n"
          ]
        },
        {
          "output_type": "stream",
          "name": "stderr",
          "text": [
            " 81%|████████  | 32202/40000 [2:05:30<30:48,  4.22it/s]"
          ]
        },
        {
          "output_type": "stream",
          "name": "stdout",
          "text": [
            "Epoch 32200, Total loss 224.067017, iteration time 0.238999\n"
          ]
        },
        {
          "output_type": "stream",
          "name": "stderr",
          "text": [
            " 81%|████████  | 32302/40000 [2:05:53<31:20,  4.09it/s]"
          ]
        },
        {
          "output_type": "stream",
          "name": "stdout",
          "text": [
            "Epoch 32300, Total loss 308.012146, iteration time 0.253401\n"
          ]
        },
        {
          "output_type": "stream",
          "name": "stderr",
          "text": [
            " 81%|████████  | 32402/40000 [2:06:16<30:06,  4.21it/s]"
          ]
        },
        {
          "output_type": "stream",
          "name": "stdout",
          "text": [
            "Epoch 32400, Total loss 1063.679932, iteration time 0.240959\n"
          ]
        },
        {
          "output_type": "stream",
          "name": "stderr",
          "text": [
            " 81%|████████▏ | 32502/40000 [2:06:40<29:47,  4.19it/s]"
          ]
        },
        {
          "output_type": "stream",
          "name": "stdout",
          "text": [
            "Epoch 32500, Total loss 302.794312, iteration time 0.252759\n"
          ]
        },
        {
          "output_type": "stream",
          "name": "stderr",
          "text": [
            " 82%|████████▏ | 32602/40000 [2:07:03<29:30,  4.18it/s]"
          ]
        },
        {
          "output_type": "stream",
          "name": "stdout",
          "text": [
            "Epoch 32600, Total loss 347.695068, iteration time 0.245585\n"
          ]
        },
        {
          "output_type": "stream",
          "name": "stderr",
          "text": [
            " 82%|████████▏ | 32702/40000 [2:07:27<29:17,  4.15it/s]"
          ]
        },
        {
          "output_type": "stream",
          "name": "stdout",
          "text": [
            "Epoch 32700, Total loss 435.773529, iteration time 0.247917\n"
          ]
        },
        {
          "output_type": "stream",
          "name": "stderr",
          "text": [
            " 82%|████████▏ | 32802/40000 [2:07:50<28:48,  4.16it/s]"
          ]
        },
        {
          "output_type": "stream",
          "name": "stdout",
          "text": [
            "Epoch 32800, Total loss 437.850494, iteration time 0.245473\n"
          ]
        },
        {
          "output_type": "stream",
          "name": "stderr",
          "text": [
            " 82%|████████▏ | 32902/40000 [2:08:14<27:58,  4.23it/s]"
          ]
        },
        {
          "output_type": "stream",
          "name": "stdout",
          "text": [
            "Epoch 32900, Total loss 428.835144, iteration time 0.236330\n"
          ]
        },
        {
          "output_type": "stream",
          "name": "stderr",
          "text": [
            " 83%|████████▎ | 33002/40000 [2:08:38<41:29,  2.81it/s]"
          ]
        },
        {
          "output_type": "stream",
          "name": "stdout",
          "text": [
            "Epoch 33000, Total loss 435.668152, iteration time 0.092236\n"
          ]
        },
        {
          "output_type": "stream",
          "name": "stderr",
          "text": [
            " 83%|████████▎ | 33102/40000 [2:09:01<28:04,  4.10it/s]"
          ]
        },
        {
          "output_type": "stream",
          "name": "stdout",
          "text": [
            "Epoch 33100, Total loss 421.665527, iteration time 0.255794\n"
          ]
        },
        {
          "output_type": "stream",
          "name": "stderr",
          "text": [
            " 83%|████████▎ | 33202/40000 [2:09:24<27:01,  4.19it/s]"
          ]
        },
        {
          "output_type": "stream",
          "name": "stdout",
          "text": [
            "Epoch 33200, Total loss 439.984406, iteration time 0.243960\n"
          ]
        },
        {
          "output_type": "stream",
          "name": "stderr",
          "text": [
            " 83%|████████▎ | 33302/40000 [2:09:48<26:31,  4.21it/s]"
          ]
        },
        {
          "output_type": "stream",
          "name": "stdout",
          "text": [
            "Epoch 33300, Total loss 416.827393, iteration time 0.243904\n"
          ]
        },
        {
          "output_type": "stream",
          "name": "stderr",
          "text": [
            " 84%|████████▎ | 33402/40000 [2:10:11<26:18,  4.18it/s]"
          ]
        },
        {
          "output_type": "stream",
          "name": "stdout",
          "text": [
            "Epoch 33400, Total loss 442.000397, iteration time 0.243221\n"
          ]
        },
        {
          "output_type": "stream",
          "name": "stderr",
          "text": [
            " 84%|████████▍ | 33502/40000 [2:10:35<26:20,  4.11it/s]"
          ]
        },
        {
          "output_type": "stream",
          "name": "stdout",
          "text": [
            "Epoch 33500, Total loss 441.509644, iteration time 0.253180\n"
          ]
        },
        {
          "output_type": "stream",
          "name": "stderr",
          "text": [
            " 84%|████████▍ | 33602/40000 [2:10:58<25:24,  4.20it/s]"
          ]
        },
        {
          "output_type": "stream",
          "name": "stdout",
          "text": [
            "Epoch 33600, Total loss 477.274536, iteration time 0.241374\n"
          ]
        },
        {
          "output_type": "stream",
          "name": "stderr",
          "text": [
            " 84%|████████▍ | 33702/40000 [2:11:22<25:01,  4.20it/s]"
          ]
        },
        {
          "output_type": "stream",
          "name": "stdout",
          "text": [
            "Epoch 33700, Total loss 426.845337, iteration time 0.244392\n"
          ]
        },
        {
          "output_type": "stream",
          "name": "stderr",
          "text": [
            " 85%|████████▍ | 33802/40000 [2:11:45<24:39,  4.19it/s]"
          ]
        },
        {
          "output_type": "stream",
          "name": "stdout",
          "text": [
            "Epoch 33800, Total loss 386.580017, iteration time 0.241664\n"
          ]
        },
        {
          "output_type": "stream",
          "name": "stderr",
          "text": [
            " 85%|████████▍ | 33902/40000 [2:12:08<24:28,  4.15it/s]"
          ]
        },
        {
          "output_type": "stream",
          "name": "stdout",
          "text": [
            "Epoch 33900, Total loss 463.196838, iteration time 0.241163\n"
          ]
        },
        {
          "output_type": "stream",
          "name": "stderr",
          "text": [
            " 85%|████████▌ | 34002/40000 [2:12:32<36:00,  2.78it/s]"
          ]
        },
        {
          "output_type": "stream",
          "name": "stdout",
          "text": [
            "Epoch 34000, Total loss 425.439941, iteration time 0.093425\n"
          ]
        },
        {
          "output_type": "stream",
          "name": "stderr",
          "text": [
            " 85%|████████▌ | 34102/40000 [2:12:56<23:31,  4.18it/s]"
          ]
        },
        {
          "output_type": "stream",
          "name": "stdout",
          "text": [
            "Epoch 34100, Total loss 379.378601, iteration time 0.243897\n"
          ]
        },
        {
          "output_type": "stream",
          "name": "stderr",
          "text": [
            " 86%|████████▌ | 34202/40000 [2:13:19<22:55,  4.22it/s]"
          ]
        },
        {
          "output_type": "stream",
          "name": "stdout",
          "text": [
            "Epoch 34200, Total loss 389.064941, iteration time 0.240201\n"
          ]
        },
        {
          "output_type": "stream",
          "name": "stderr",
          "text": [
            " 86%|████████▌ | 34302/40000 [2:13:43<22:52,  4.15it/s]"
          ]
        },
        {
          "output_type": "stream",
          "name": "stdout",
          "text": [
            "Epoch 34300, Total loss 359.122589, iteration time 0.246621\n"
          ]
        },
        {
          "output_type": "stream",
          "name": "stderr",
          "text": [
            " 86%|████████▌ | 34402/40000 [2:14:06<22:07,  4.22it/s]"
          ]
        },
        {
          "output_type": "stream",
          "name": "stdout",
          "text": [
            "Epoch 34400, Total loss 437.067841, iteration time 0.241765\n"
          ]
        },
        {
          "output_type": "stream",
          "name": "stderr",
          "text": [
            " 86%|████████▋ | 34502/40000 [2:14:29<21:49,  4.20it/s]"
          ]
        },
        {
          "output_type": "stream",
          "name": "stdout",
          "text": [
            "Epoch 34500, Total loss 379.861816, iteration time 0.239036\n"
          ]
        },
        {
          "output_type": "stream",
          "name": "stderr",
          "text": [
            " 87%|████████▋ | 34602/40000 [2:14:53<21:33,  4.17it/s]"
          ]
        },
        {
          "output_type": "stream",
          "name": "stdout",
          "text": [
            "Epoch 34600, Total loss 365.931702, iteration time 0.243958\n"
          ]
        },
        {
          "output_type": "stream",
          "name": "stderr",
          "text": [
            " 87%|████████▋ | 34702/40000 [2:15:16<21:15,  4.15it/s]"
          ]
        },
        {
          "output_type": "stream",
          "name": "stdout",
          "text": [
            "Epoch 34700, Total loss 386.305908, iteration time 0.247406\n"
          ]
        },
        {
          "output_type": "stream",
          "name": "stderr",
          "text": [
            " 87%|████████▋ | 34802/40000 [2:15:40<20:43,  4.18it/s]"
          ]
        },
        {
          "output_type": "stream",
          "name": "stdout",
          "text": [
            "Epoch 34800, Total loss 361.080933, iteration time 0.245261\n"
          ]
        },
        {
          "output_type": "stream",
          "name": "stderr",
          "text": [
            " 87%|████████▋ | 34902/40000 [2:16:03<20:08,  4.22it/s]"
          ]
        },
        {
          "output_type": "stream",
          "name": "stdout",
          "text": [
            "Epoch 34900, Total loss 377.300293, iteration time 0.240273\n"
          ]
        },
        {
          "output_type": "stream",
          "name": "stderr",
          "text": [
            " 88%|████████▊ | 35002/40000 [2:16:27<30:26,  2.74it/s]"
          ]
        },
        {
          "output_type": "stream",
          "name": "stdout",
          "text": [
            "Epoch 35000, Total loss 360.674744, iteration time 0.094873\n"
          ]
        },
        {
          "output_type": "stream",
          "name": "stderr",
          "text": [
            " 88%|████████▊ | 35102/40000 [2:16:50<19:42,  4.14it/s]"
          ]
        },
        {
          "output_type": "stream",
          "name": "stdout",
          "text": [
            "Epoch 35100, Total loss 357.089111, iteration time 0.246594\n"
          ]
        },
        {
          "output_type": "stream",
          "name": "stderr",
          "text": [
            " 88%|████████▊ | 35202/40000 [2:17:14<19:02,  4.20it/s]"
          ]
        },
        {
          "output_type": "stream",
          "name": "stdout",
          "text": [
            "Epoch 35200, Total loss 341.824219, iteration time 0.239502\n"
          ]
        },
        {
          "output_type": "stream",
          "name": "stderr",
          "text": [
            " 88%|████████▊ | 35302/40000 [2:17:37<18:43,  4.18it/s]"
          ]
        },
        {
          "output_type": "stream",
          "name": "stdout",
          "text": [
            "Epoch 35300, Total loss 315.348816, iteration time 0.243734\n"
          ]
        },
        {
          "output_type": "stream",
          "name": "stderr",
          "text": [
            " 89%|████████▊ | 35402/40000 [2:18:01<18:34,  4.13it/s]"
          ]
        },
        {
          "output_type": "stream",
          "name": "stdout",
          "text": [
            "Epoch 35400, Total loss 432.351074, iteration time 0.250851\n"
          ]
        },
        {
          "output_type": "stream",
          "name": "stderr",
          "text": [
            " 89%|████████▉ | 35502/40000 [2:18:24<17:50,  4.20it/s]"
          ]
        },
        {
          "output_type": "stream",
          "name": "stdout",
          "text": [
            "Epoch 35500, Total loss 406.705322, iteration time 0.237564\n"
          ]
        },
        {
          "output_type": "stream",
          "name": "stderr",
          "text": [
            " 89%|████████▉ | 35602/40000 [2:18:48<17:33,  4.18it/s]"
          ]
        },
        {
          "output_type": "stream",
          "name": "stdout",
          "text": [
            "Epoch 35600, Total loss 388.358215, iteration time 0.244992\n"
          ]
        },
        {
          "output_type": "stream",
          "name": "stderr",
          "text": [
            " 89%|████████▉ | 35702/40000 [2:19:11<17:01,  4.21it/s]"
          ]
        },
        {
          "output_type": "stream",
          "name": "stdout",
          "text": [
            "Epoch 35700, Total loss 383.387939, iteration time 0.232706\n"
          ]
        },
        {
          "output_type": "stream",
          "name": "stderr",
          "text": [
            " 90%|████████▉ | 35802/40000 [2:19:34<16:49,  4.16it/s]"
          ]
        },
        {
          "output_type": "stream",
          "name": "stdout",
          "text": [
            "Epoch 35800, Total loss 449.870728, iteration time 0.244193\n"
          ]
        },
        {
          "output_type": "stream",
          "name": "stderr",
          "text": [
            " 90%|████████▉ | 35902/40000 [2:19:58<16:16,  4.19it/s]"
          ]
        },
        {
          "output_type": "stream",
          "name": "stdout",
          "text": [
            "Epoch 35900, Total loss 281.358978, iteration time 0.242185\n"
          ]
        },
        {
          "output_type": "stream",
          "name": "stderr",
          "text": [
            " 90%|█████████ | 36002/40000 [2:20:22<24:16,  2.74it/s]"
          ]
        },
        {
          "output_type": "stream",
          "name": "stdout",
          "text": [
            "Epoch 36000, Total loss 536.776001, iteration time 0.090310\n"
          ]
        },
        {
          "output_type": "stream",
          "name": "stderr",
          "text": [
            " 90%|█████████ | 36102/40000 [2:20:45<15:31,  4.19it/s]"
          ]
        },
        {
          "output_type": "stream",
          "name": "stdout",
          "text": [
            "Epoch 36100, Total loss 443.017548, iteration time 0.245613\n"
          ]
        },
        {
          "output_type": "stream",
          "name": "stderr",
          "text": [
            " 91%|█████████ | 36202/40000 [2:21:09<15:15,  4.15it/s]"
          ]
        },
        {
          "output_type": "stream",
          "name": "stdout",
          "text": [
            "Epoch 36200, Total loss 206.193420, iteration time 0.246871\n"
          ]
        },
        {
          "output_type": "stream",
          "name": "stderr",
          "text": [
            " 91%|█████████ | 36302/40000 [2:21:32<14:45,  4.18it/s]"
          ]
        },
        {
          "output_type": "stream",
          "name": "stdout",
          "text": [
            "Epoch 36300, Total loss 643.917480, iteration time 0.252588\n"
          ]
        },
        {
          "output_type": "stream",
          "name": "stderr",
          "text": [
            " 91%|█████████ | 36402/40000 [2:21:55<14:09,  4.23it/s]"
          ]
        },
        {
          "output_type": "stream",
          "name": "stdout",
          "text": [
            "Epoch 36400, Total loss 397.563904, iteration time 0.240332\n"
          ]
        },
        {
          "output_type": "stream",
          "name": "stderr",
          "text": [
            " 91%|█████████▏| 36502/40000 [2:22:19<13:55,  4.19it/s]"
          ]
        },
        {
          "output_type": "stream",
          "name": "stdout",
          "text": [
            "Epoch 36500, Total loss 411.329956, iteration time 0.254695\n"
          ]
        },
        {
          "output_type": "stream",
          "name": "stderr",
          "text": [
            " 92%|█████████▏| 36602/40000 [2:22:42<13:38,  4.15it/s]"
          ]
        },
        {
          "output_type": "stream",
          "name": "stdout",
          "text": [
            "Epoch 36600, Total loss 394.244141, iteration time 0.250904\n"
          ]
        },
        {
          "output_type": "stream",
          "name": "stderr",
          "text": [
            " 92%|█████████▏| 36702/40000 [2:23:06<13:06,  4.19it/s]"
          ]
        },
        {
          "output_type": "stream",
          "name": "stdout",
          "text": [
            "Epoch 36700, Total loss 415.426514, iteration time 0.233114\n"
          ]
        },
        {
          "output_type": "stream",
          "name": "stderr",
          "text": [
            " 92%|█████████▏| 36802/40000 [2:23:29<12:38,  4.22it/s]"
          ]
        },
        {
          "output_type": "stream",
          "name": "stdout",
          "text": [
            "Epoch 36800, Total loss 412.967743, iteration time 0.241508\n"
          ]
        },
        {
          "output_type": "stream",
          "name": "stderr",
          "text": [
            " 92%|█████████▏| 36902/40000 [2:23:53<12:22,  4.17it/s]"
          ]
        },
        {
          "output_type": "stream",
          "name": "stdout",
          "text": [
            "Epoch 36900, Total loss 430.351379, iteration time 0.244242\n"
          ]
        },
        {
          "output_type": "stream",
          "name": "stderr",
          "text": [
            " 93%|█████████▎| 37002/40000 [2:24:17<21:11,  2.36it/s]"
          ]
        },
        {
          "output_type": "stream",
          "name": "stdout",
          "text": [
            "Epoch 37000, Total loss 401.406311, iteration time 0.102705\n"
          ]
        },
        {
          "output_type": "stream",
          "name": "stderr",
          "text": [
            " 93%|█████████▎| 37102/40000 [2:24:40<11:32,  4.19it/s]"
          ]
        },
        {
          "output_type": "stream",
          "name": "stdout",
          "text": [
            "Epoch 37100, Total loss 383.896118, iteration time 0.243062\n"
          ]
        },
        {
          "output_type": "stream",
          "name": "stderr",
          "text": [
            " 93%|█████████▎| 37202/40000 [2:25:04<11:02,  4.22it/s]"
          ]
        },
        {
          "output_type": "stream",
          "name": "stdout",
          "text": [
            "Epoch 37200, Total loss 414.867432, iteration time 0.241920\n"
          ]
        },
        {
          "output_type": "stream",
          "name": "stderr",
          "text": [
            " 93%|█████████▎| 37302/40000 [2:25:27<10:54,  4.12it/s]"
          ]
        },
        {
          "output_type": "stream",
          "name": "stdout",
          "text": [
            "Epoch 37300, Total loss 405.148438, iteration time 0.255134\n"
          ]
        },
        {
          "output_type": "stream",
          "name": "stderr",
          "text": [
            " 94%|█████████▎| 37402/40000 [2:25:51<10:16,  4.21it/s]"
          ]
        },
        {
          "output_type": "stream",
          "name": "stdout",
          "text": [
            "Epoch 37400, Total loss 421.759186, iteration time 0.237938\n"
          ]
        },
        {
          "output_type": "stream",
          "name": "stderr",
          "text": [
            " 94%|█████████▍| 37502/40000 [2:26:14<10:01,  4.15it/s]"
          ]
        },
        {
          "output_type": "stream",
          "name": "stdout",
          "text": [
            "Epoch 37500, Total loss 464.946899, iteration time 0.252167\n"
          ]
        },
        {
          "output_type": "stream",
          "name": "stderr",
          "text": [
            " 94%|█████████▍| 37602/40000 [2:26:37<09:32,  4.19it/s]"
          ]
        },
        {
          "output_type": "stream",
          "name": "stdout",
          "text": [
            "Epoch 37600, Total loss 528.738220, iteration time 0.242125\n"
          ]
        },
        {
          "output_type": "stream",
          "name": "stderr",
          "text": [
            " 94%|█████████▍| 37702/40000 [2:27:01<09:13,  4.15it/s]"
          ]
        },
        {
          "output_type": "stream",
          "name": "stdout",
          "text": [
            "Epoch 37700, Total loss 201.979141, iteration time 0.244483\n"
          ]
        },
        {
          "output_type": "stream",
          "name": "stderr",
          "text": [
            " 95%|█████████▍| 37802/40000 [2:27:24<08:42,  4.21it/s]"
          ]
        },
        {
          "output_type": "stream",
          "name": "stdout",
          "text": [
            "Epoch 37800, Total loss 262.944519, iteration time 0.242427\n"
          ]
        },
        {
          "output_type": "stream",
          "name": "stderr",
          "text": [
            " 95%|█████████▍| 37902/40000 [2:27:48<08:21,  4.18it/s]"
          ]
        },
        {
          "output_type": "stream",
          "name": "stdout",
          "text": [
            "Epoch 37900, Total loss 395.559265, iteration time 0.243284\n"
          ]
        },
        {
          "output_type": "stream",
          "name": "stderr",
          "text": [
            " 95%|█████████▌| 38002/40000 [2:28:11<12:00,  2.77it/s]"
          ]
        },
        {
          "output_type": "stream",
          "name": "stdout",
          "text": [
            "Epoch 38000, Total loss 521.619873, iteration time 0.092991\n"
          ]
        },
        {
          "output_type": "stream",
          "name": "stderr",
          "text": [
            " 95%|█████████▌| 38102/40000 [2:28:35<07:33,  4.18it/s]"
          ]
        },
        {
          "output_type": "stream",
          "name": "stdout",
          "text": [
            "Epoch 38100, Total loss 476.417419, iteration time 0.241493\n"
          ]
        },
        {
          "output_type": "stream",
          "name": "stderr",
          "text": [
            " 96%|█████████▌| 38202/40000 [2:28:58<07:06,  4.22it/s]"
          ]
        },
        {
          "output_type": "stream",
          "name": "stdout",
          "text": [
            "Epoch 38200, Total loss 473.034851, iteration time 0.235818\n"
          ]
        },
        {
          "output_type": "stream",
          "name": "stderr",
          "text": [
            " 96%|█████████▌| 38302/40000 [2:29:21<06:43,  4.21it/s]"
          ]
        },
        {
          "output_type": "stream",
          "name": "stdout",
          "text": [
            "Epoch 38300, Total loss 456.007141, iteration time 0.238471\n"
          ]
        },
        {
          "output_type": "stream",
          "name": "stderr",
          "text": [
            " 96%|█████████▌| 38402/40000 [2:29:45<06:18,  4.22it/s]"
          ]
        },
        {
          "output_type": "stream",
          "name": "stdout",
          "text": [
            "Epoch 38400, Total loss 459.701172, iteration time 0.238943\n"
          ]
        },
        {
          "output_type": "stream",
          "name": "stderr",
          "text": [
            " 96%|█████████▋| 38502/40000 [2:30:08<06:03,  4.13it/s]"
          ]
        },
        {
          "output_type": "stream",
          "name": "stdout",
          "text": [
            "Epoch 38500, Total loss 501.497559, iteration time 0.257255\n"
          ]
        },
        {
          "output_type": "stream",
          "name": "stderr",
          "text": [
            " 97%|█████████▋| 38602/40000 [2:30:32<05:34,  4.18it/s]"
          ]
        },
        {
          "output_type": "stream",
          "name": "stdout",
          "text": [
            "Epoch 38600, Total loss 455.524628, iteration time 0.241751\n"
          ]
        },
        {
          "output_type": "stream",
          "name": "stderr",
          "text": [
            " 97%|█████████▋| 38702/40000 [2:30:55<05:07,  4.22it/s]"
          ]
        },
        {
          "output_type": "stream",
          "name": "stdout",
          "text": [
            "Epoch 38700, Total loss 446.019531, iteration time 0.240095\n"
          ]
        },
        {
          "output_type": "stream",
          "name": "stderr",
          "text": [
            " 97%|█████████▋| 38802/40000 [2:31:18<04:46,  4.18it/s]"
          ]
        },
        {
          "output_type": "stream",
          "name": "stdout",
          "text": [
            "Epoch 38800, Total loss 481.140259, iteration time 0.245196\n"
          ]
        },
        {
          "output_type": "stream",
          "name": "stderr",
          "text": [
            " 97%|█████████▋| 38902/40000 [2:31:42<04:24,  4.16it/s]"
          ]
        },
        {
          "output_type": "stream",
          "name": "stdout",
          "text": [
            "Epoch 38900, Total loss 416.637024, iteration time 0.241077\n"
          ]
        },
        {
          "output_type": "stream",
          "name": "stderr",
          "text": [
            " 98%|█████████▊| 39002/40000 [2:32:06<05:51,  2.84it/s]"
          ]
        },
        {
          "output_type": "stream",
          "name": "stdout",
          "text": [
            "Epoch 39000, Total loss 446.501923, iteration time 0.091053\n"
          ]
        },
        {
          "output_type": "stream",
          "name": "stderr",
          "text": [
            " 98%|█████████▊| 39102/40000 [2:32:29<03:34,  4.19it/s]"
          ]
        },
        {
          "output_type": "stream",
          "name": "stdout",
          "text": [
            "Epoch 39100, Total loss 512.541565, iteration time 0.248194\n"
          ]
        },
        {
          "output_type": "stream",
          "name": "stderr",
          "text": [
            " 98%|█████████▊| 39202/40000 [2:32:53<03:11,  4.18it/s]"
          ]
        },
        {
          "output_type": "stream",
          "name": "stdout",
          "text": [
            "Epoch 39200, Total loss 219.574158, iteration time 0.243312\n"
          ]
        },
        {
          "output_type": "stream",
          "name": "stderr",
          "text": [
            " 98%|█████████▊| 39302/40000 [2:33:16<02:50,  4.08it/s]"
          ]
        },
        {
          "output_type": "stream",
          "name": "stdout",
          "text": [
            "Epoch 39300, Total loss 179.639191, iteration time 0.249124\n"
          ]
        },
        {
          "output_type": "stream",
          "name": "stderr",
          "text": [
            " 99%|█████████▊| 39402/40000 [2:33:39<02:21,  4.22it/s]"
          ]
        },
        {
          "output_type": "stream",
          "name": "stdout",
          "text": [
            "Epoch 39400, Total loss 1134.073608, iteration time 0.239046\n"
          ]
        },
        {
          "output_type": "stream",
          "name": "stderr",
          "text": [
            " 99%|█████████▉| 39502/40000 [2:34:03<01:58,  4.19it/s]"
          ]
        },
        {
          "output_type": "stream",
          "name": "stdout",
          "text": [
            "Epoch 39500, Total loss 241.002975, iteration time 0.242445\n"
          ]
        },
        {
          "output_type": "stream",
          "name": "stderr",
          "text": [
            " 99%|█████████▉| 39602/40000 [2:34:26<01:35,  4.17it/s]"
          ]
        },
        {
          "output_type": "stream",
          "name": "stdout",
          "text": [
            "Epoch 39600, Total loss 303.573975, iteration time 0.244257\n"
          ]
        },
        {
          "output_type": "stream",
          "name": "stderr",
          "text": [
            " 99%|█████████▉| 39702/40000 [2:34:50<01:11,  4.19it/s]"
          ]
        },
        {
          "output_type": "stream",
          "name": "stdout",
          "text": [
            "Epoch 39700, Total loss 572.782227, iteration time 0.239148\n"
          ]
        },
        {
          "output_type": "stream",
          "name": "stderr",
          "text": [
            "100%|█████████▉| 39802/40000 [2:35:13<00:47,  4.20it/s]"
          ]
        },
        {
          "output_type": "stream",
          "name": "stdout",
          "text": [
            "Epoch 39800, Total loss 514.175415, iteration time 0.242476\n"
          ]
        },
        {
          "output_type": "stream",
          "name": "stderr",
          "text": [
            "100%|█████████▉| 39902/40000 [2:35:37<00:23,  4.19it/s]"
          ]
        },
        {
          "output_type": "stream",
          "name": "stdout",
          "text": [
            "Epoch 39900, Total loss 512.697815, iteration time 0.242875\n"
          ]
        },
        {
          "output_type": "stream",
          "name": "stderr",
          "text": [
            "100%|██████████| 40000/40000 [2:36:00<00:00,  4.27it/s]\n"
          ]
        }
      ]
    }
  ]
}